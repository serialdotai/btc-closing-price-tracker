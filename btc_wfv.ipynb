{
 "cells": [
  {
   "cell_type": "code",
   "execution_count": null,
   "id": "6f68c545",
   "metadata": {},
   "outputs": [],
   "source": [
    "# Importations\n",
    "import warnings\n",
    "import pandas as pd\n",
    "import plotly.express as px\n",
    "import matplotlib.pyplot as plt\n",
    "from sklearn.metrics import mean_absolute_error\n",
    "from statsmodels.graphics.tsaplots import plot_acf, plot_pacf\n",
    "from statsmodels.tsa.ar_model import AutoReg\n",
    "\n",
    "warnings.filterwarnings(\"ignore\")"
   ]
  },
  {
   "cell_type": "code",
   "execution_count": 2,
   "id": "b1215e21",
   "metadata": {},
   "outputs": [
    {
     "data": {
      "text/html": [
       "<div>\n",
       "<style scoped>\n",
       "    .dataframe tbody tr th:only-of-type {\n",
       "        vertical-align: middle;\n",
       "    }\n",
       "\n",
       "    .dataframe tbody tr th {\n",
       "        vertical-align: top;\n",
       "    }\n",
       "\n",
       "    .dataframe thead th {\n",
       "        text-align: right;\n",
       "    }\n",
       "</style>\n",
       "<table border=\"1\" class=\"dataframe\">\n",
       "  <thead>\n",
       "    <tr style=\"text-align: right;\">\n",
       "      <th></th>\n",
       "      <th>Date</th>\n",
       "      <th>Close</th>\n",
       "      <th>High</th>\n",
       "      <th>Low</th>\n",
       "      <th>Open</th>\n",
       "      <th>Volume</th>\n",
       "    </tr>\n",
       "  </thead>\n",
       "  <tbody>\n",
       "    <tr>\n",
       "      <th>0</th>\n",
       "      <td>2020-07-01</td>\n",
       "      <td>9228.325195</td>\n",
       "      <td>9309.754883</td>\n",
       "      <td>9104.735352</td>\n",
       "      <td>9145.985352</td>\n",
       "      <td>15971550355</td>\n",
       "    </tr>\n",
       "    <tr>\n",
       "      <th>1</th>\n",
       "      <td>2020-07-02</td>\n",
       "      <td>9123.410156</td>\n",
       "      <td>9274.962891</td>\n",
       "      <td>9036.623047</td>\n",
       "      <td>9231.139648</td>\n",
       "      <td>16338916796</td>\n",
       "    </tr>\n",
       "    <tr>\n",
       "      <th>2</th>\n",
       "      <td>2020-07-03</td>\n",
       "      <td>9087.303711</td>\n",
       "      <td>9202.344727</td>\n",
       "      <td>9058.794922</td>\n",
       "      <td>9124.842773</td>\n",
       "      <td>13078970999</td>\n",
       "    </tr>\n",
       "    <tr>\n",
       "      <th>3</th>\n",
       "      <td>2020-07-04</td>\n",
       "      <td>9132.488281</td>\n",
       "      <td>9183.295898</td>\n",
       "      <td>9053.629883</td>\n",
       "      <td>9084.233398</td>\n",
       "      <td>12290528515</td>\n",
       "    </tr>\n",
       "    <tr>\n",
       "      <th>4</th>\n",
       "      <td>2020-07-05</td>\n",
       "      <td>9073.942383</td>\n",
       "      <td>9162.183594</td>\n",
       "      <td>8977.015625</td>\n",
       "      <td>9126.090820</td>\n",
       "      <td>12903406143</td>\n",
       "    </tr>\n",
       "  </tbody>\n",
       "</table>\n",
       "</div>"
      ],
      "text/plain": [
       "         Date        Close         High          Low         Open       Volume\n",
       "0  2020-07-01  9228.325195  9309.754883  9104.735352  9145.985352  15971550355\n",
       "1  2020-07-02  9123.410156  9274.962891  9036.623047  9231.139648  16338916796\n",
       "2  2020-07-03  9087.303711  9202.344727  9058.794922  9124.842773  13078970999\n",
       "3  2020-07-04  9132.488281  9183.295898  9053.629883  9084.233398  12290528515\n",
       "4  2020-07-05  9073.942383  9162.183594  8977.015625  9126.090820  12903406143"
      ]
     },
     "execution_count": 2,
     "metadata": {},
     "output_type": "execute_result"
    }
   ],
   "source": [
    "# Loading the btc data\n",
    "df = pd.read_csv(\"btc_data.csv\")\n",
    "df.head()"
   ]
  },
  {
   "cell_type": "code",
   "execution_count": 3,
   "id": "87374e24",
   "metadata": {},
   "outputs": [
    {
     "data": {
      "text/plain": [
       "Date\n",
       "2020-07-01    9228.325195\n",
       "2020-07-02    9123.410156\n",
       "2020-07-03    9087.303711\n",
       "2020-07-04    9132.488281\n",
       "2020-07-05    9073.942383\n",
       "Name: BTC Close, dtype: float64"
      ]
     },
     "execution_count": 3,
     "metadata": {},
     "output_type": "execute_result"
    }
   ],
   "source": [
    "# Taking our intrested column\n",
    "y = (df[\"Close\"])\n",
    "y.index = df[\"Date\"]\n",
    "y.name = \"BTC Close\"\n",
    "y.index = pd.to_datetime(y.index)\n",
    "y.head()"
   ]
  },
  {
   "cell_type": "code",
   "execution_count": 4,
   "id": "3d8220d1",
   "metadata": {},
   "outputs": [
    {
     "data": {
      "text/plain": [
       "DatetimeIndex(['2020-06-30 17:00:00-07:00', '2020-07-01 17:00:00-07:00',\n",
       "               '2020-07-02 17:00:00-07:00', '2020-07-03 17:00:00-07:00',\n",
       "               '2020-07-04 17:00:00-07:00', '2020-07-05 17:00:00-07:00',\n",
       "               '2020-07-06 17:00:00-07:00', '2020-07-07 17:00:00-07:00',\n",
       "               '2020-07-08 17:00:00-07:00', '2020-07-09 17:00:00-07:00',\n",
       "               ...\n",
       "               '2025-07-01 17:00:00-07:00', '2025-07-02 17:00:00-07:00',\n",
       "               '2025-07-03 17:00:00-07:00', '2025-07-04 17:00:00-07:00',\n",
       "               '2025-07-05 17:00:00-07:00', '2025-07-06 17:00:00-07:00',\n",
       "               '2025-07-07 17:00:00-07:00', '2025-07-08 17:00:00-07:00',\n",
       "               '2025-07-09 17:00:00-07:00', '2025-07-10 17:00:00-07:00'],\n",
       "              dtype='datetime64[ns, America/Los_Angeles]', name='Date', length=1837, freq=None)"
      ]
     },
     "execution_count": 4,
     "metadata": {},
     "output_type": "execute_result"
    }
   ],
   "source": [
    "y.index = y.index.tz_localize(\"UTC\").tz_convert(\"America/Los_Angeles\")\n",
    "y.index"
   ]
  },
  {
   "cell_type": "code",
   "execution_count": 5,
   "id": "35c46275",
   "metadata": {},
   "outputs": [
    {
     "data": {
      "text/plain": [
       "Date\n",
       "2020-06-30 17:00:00-07:00    9228.325195\n",
       "2020-07-01 17:00:00-07:00    9123.410156\n",
       "2020-07-02 17:00:00-07:00    9087.303711\n",
       "2020-07-03 17:00:00-07:00    9132.488281\n",
       "2020-07-04 17:00:00-07:00    9073.942383\n",
       "Name: BTC Close, dtype: float64"
      ]
     },
     "execution_count": 5,
     "metadata": {},
     "output_type": "execute_result"
    }
   ],
   "source": [
    "y.head()"
   ]
  },
  {
   "cell_type": "code",
   "execution_count": 6,
   "id": "64817eac",
   "metadata": {},
   "outputs": [
    {
     "data": {
      "image/png": "[encoded data removed]",
      "text/plain": [
       "<Figure size 1600x500 with 1 Axes>"
      ]
     },
     "metadata": {},
     "output_type": "display_data"
    }
   ],
   "source": [
    "# Plotting the 30 days rolling average\n",
    "fig, ax = plt.subplots(figsize=(16, 5))\n",
    "y.rolling(30).mean().plot(xlabel=\"Date\", ylabel=\"BTC Close\", title=\"BTC Closing Price, 30-Day Rolling Average\", ax=ax);"
   ]
  },
  {
   "cell_type": "code",
   "execution_count": 7,
   "id": "b64b494b",
   "metadata": {},
   "outputs": [
    {
     "data": {
      "image/png": "[encoded data removed]",
      "text/plain": [
       "<Figure size 1500x600 with 1 Axes>"
      ]
     },
     "metadata": {},
     "output_type": "display_data"
    }
   ],
   "source": [
    "# Plotting the ACF plot\n",
    "fig, ax = plt.subplots(figsize=(15, 6))\n",
    "plot_acf(y, ax=ax)\n",
    "plt.xlabel(\"Lag [Days]\")\n",
    "plt.ylabel(\"Correlation Coefficient\")\n",
    "plt.title(\"BTC Closing Price, ACF\");"
   ]
  },
  {
   "cell_type": "code",
   "execution_count": 8,
   "id": "f660add2",
   "metadata": {},
   "outputs": [
    {
     "data": {
      "image/png": "[encoded data removed]",
      "text/plain": [
       "<Figure size 1500x600 with 1 Axes>"
      ]
     },
     "metadata": {},
     "output_type": "display_data"
    }
   ],
   "source": [
    "# Plotting the PACF plot\n",
    "fig, ax = plt.subplots(figsize=(15, 6))\n",
    "plot_pacf(y, ax=ax)\n",
    "plt.xlabel(\"Lag [Days]\")\n",
    "plt.ylabel(\"Correlation Coefficient\")\n",
    "plt.title(\"BTC Closing Price, PACF\");"
   ]
  },
  {
   "cell_type": "code",
   "execution_count": 9,
   "id": "d4ba63fb",
   "metadata": {},
   "outputs": [
    {
     "data": {
      "text/plain": [
       "1837"
      ]
     },
     "execution_count": 9,
     "metadata": {},
     "output_type": "execute_result"
    }
   ],
   "source": [
    "len(y)"
   ]
  },
  {
   "cell_type": "code",
   "execution_count": 10,
   "id": "b75a3be3",
   "metadata": {},
   "outputs": [
    {
     "data": {
      "text/plain": [
       "True"
      ]
     },
     "execution_count": 10,
     "metadata": {},
     "output_type": "execute_result"
    }
   ],
   "source": [
    "# Splitting the data\n",
    "cutoff = int(len(y) * 0.9)\n",
    "y_train = y.iloc[: cutoff]\n",
    "y_test = y.iloc[cutoff :]\n",
    "\n",
    "# Testing the split\n",
    "len(y_train) + len(y_test) == len(y)"
   ]
  },
  {
   "cell_type": "code",
   "execution_count": 11,
   "id": "16f4f12d",
   "metadata": {},
   "outputs": [
    {
     "name": "stdout",
     "output_type": "stream",
     "text": [
      "Mean BTC Close Reading: 39679.92\n",
      "MAE Baseline: 16640.15\n"
     ]
    }
   ],
   "source": [
    "# Calculating the Baseline\n",
    "y_mean = y_train.mean()\n",
    "y_pred_baseline = [y_mean] * len(y_train)\n",
    "mae_baseline = mean_absolute_error(y_train, y_pred_baseline)\n",
    "\n",
    "print(\"Mean BTC Close Reading:\", round(y_mean, 2))\n",
    "print(\"MAE Baseline:\", round(mae_baseline, 2))"
   ]
  },
  {
   "cell_type": "code",
   "execution_count": 12,
   "id": "ce7b88c8",
   "metadata": {},
   "outputs": [
    {
     "data": {
      "text/plain": [
       "0"
      ]
     },
     "execution_count": 12,
     "metadata": {},
     "output_type": "execute_result"
    }
   ],
   "source": [
    "y_train.isnull().sum()"
   ]
  },
  {
   "cell_type": "code",
   "execution_count": 13,
   "id": "37bc2da2",
   "metadata": {},
   "outputs": [
    {
     "data": {
      "text/plain": [
       "1    895.445573\n",
       "2    893.414807\n",
       "3    894.302344\n",
       "4    894.831513\n",
       "5    895.198657\n",
       "Name: mae, dtype: float64"
      ]
     },
     "execution_count": 13,
     "metadata": {},
     "output_type": "execute_result"
    }
   ],
   "source": [
    "# Hyperparametering the model is 'hyperparametering' even a word?\n",
    "p_params = range(1, 34)\n",
    "maes = []\n",
    "\n",
    "for p in p_params:\n",
    "    model = AutoReg(y_train, lags=p).fit()\n",
    "    y_pred = model.predict().dropna()\n",
    "    model_mae = mean_absolute_error(y_train.iloc[p:], y_pred)\n",
    "    maes.append(model_mae)\n",
    "\n",
    "mae_series = pd.Series(maes, name=\"mae\", index=p_params)\n",
    "mae_series.head()"
   ]
  },
  {
   "cell_type": "code",
   "execution_count": 14,
   "id": "94ee1ac8",
   "metadata": {},
   "outputs": [
    {
     "data": {
      "text/plain": [
       "2"
      ]
     },
     "execution_count": 14,
     "metadata": {},
     "output_type": "execute_result"
    }
   ],
   "source": [
    "# Checking for the lowest mae using their index which is also P\n",
    "mae_series.idxmin()"
   ]
  },
  {
   "cell_type": "code",
   "execution_count": 15,
   "id": "7c0ab106",
   "metadata": {},
   "outputs": [
    {
     "data": {
      "text/plain": [
       "statsmodels.tsa.ar_model.AutoRegResultsWrapper"
      ]
     },
     "execution_count": 15,
     "metadata": {},
     "output_type": "execute_result"
    }
   ],
   "source": [
    "# Training our model using the lag parameter = 2\n",
    "best_p = 2\n",
    "best_model = AutoReg(y_train, lags=best_p).fit()\n",
    "type(best_model)"
   ]
  },
  {
   "cell_type": "code",
   "execution_count": 16,
   "id": "41cb3f3d",
   "metadata": {},
   "outputs": [
    {
     "data": {
      "text/plain": [
       "Date\n",
       "2020-07-02 17:00:00-07:00   -113.755467\n",
       "2020-07-03 17:00:00-07:00    -29.882615\n",
       "2020-07-04 17:00:00-07:00   -130.506438\n",
       "2020-07-05 17:00:00-07:00    225.606916\n",
       "2020-07-06 17:00:00-07:00   -185.296559\n",
       "Name: residuals, dtype: float64"
      ]
     },
     "execution_count": 16,
     "metadata": {},
     "output_type": "execute_result"
    }
   ],
   "source": [
    "# Getting the residuals\n",
    "y_train_resid = best_model.resid\n",
    "y_train_resid.name = \"residuals\"\n",
    "y_train_resid.head()"
   ]
  },
  {
   "cell_type": "code",
   "execution_count": 17,
   "id": "333df1c7",
   "metadata": {},
   "outputs": [
    {
     "data": {
      "image/png": "[encoded data removed]",
      "text/plain": [
       "<Figure size 640x480 with 1 Axes>"
      ]
     },
     "metadata": {},
     "output_type": "display_data"
    }
   ],
   "source": [
    "# Plotting the residuals\n",
    "y_train_resid.hist()\n",
    "plt.xlabel(\"Residuals\")\n",
    "plt.ylabel(\"Frequency\")\n",
    "plt.title(\"Best Model\")\n",
    "plt.show()"
   ]
  },
  {
   "cell_type": "code",
   "execution_count": 18,
   "id": "294851c7",
   "metadata": {},
   "outputs": [
    {
     "data": {
      "image/png": "[encoded data removed]",
      "text/plain": [
       "<Figure size 1500x600 with 1 Axes>"
      ]
     },
     "metadata": {},
     "output_type": "display_data"
    }
   ],
   "source": [
    "# Checking the ACF of the residuals\n",
    "fig, ax = plt.subplots(figsize=(15, 6))\n",
    "plot_acf(y_train_resid, ax=ax)\n",
    "plt.xlabel(\"Lag [Days]\")\n",
    "plt.ylabel(\"Correlation Coefficient\")\n",
    "plt.title(\"BTC Closing Price, Training Residuals ACF\");"
   ]
  },
  {
   "cell_type": "code",
   "execution_count": 19,
   "id": "84446d07",
   "metadata": {},
   "outputs": [
    {
     "data": {
      "text/plain": [
       "timestamp\n",
       "2025-01-08 16:00:00-08:00    95133.135414\n",
       "2025-01-09 16:00:00-08:00    92583.118258\n",
       "2025-01-10 16:00:00-08:00    94632.851618\n",
       "2025-01-11 16:00:00-08:00    94587.001808\n",
       "2025-01-12 16:00:00-08:00    94506.256794\n",
       "Freq: 24H, Name: Prediction, dtype: float64"
      ]
     },
     "execution_count": 19,
     "metadata": {},
     "output_type": "execute_result"
    }
   ],
   "source": [
    "# Performing walk forward validation\n",
    "y_pred_wfv = pd.Series()\n",
    "history = y_train.copy()\n",
    "\n",
    "for i in range(len(y_test)):\n",
    "    model = AutoReg(history, lags=best_p).fit()\n",
    "    next_pred = model.forecast()\n",
    "    y_pred_wfv = y_pred_wfv.append(next_pred)\n",
    "    history = history.append(y_test[next_pred.index])\n",
    "\n",
    "y_pred_wfv.name = \"Prediction\"\n",
    "y_pred_wfv.index.name = \"timestamp\"\n",
    "y_pred_wfv.head()"
   ]
  },
  {
   "cell_type": "code",
   "execution_count": 20,
   "id": "2710e893",
   "metadata": {},
   "outputs": [
    {
     "data": {
      "text/plain": [
       "Date\n",
       "2025-01-08 16:00:00-08:00    92484.039062\n",
       "2025-01-09 16:00:00-08:00    94701.453125\n",
       "2025-01-10 16:00:00-08:00    94566.593750\n",
       "2025-01-11 16:00:00-08:00    94488.437500\n",
       "2025-01-12 16:00:00-08:00    94516.523438\n",
       "Name: BTC Close, dtype: float64"
      ]
     },
     "execution_count": 20,
     "metadata": {},
     "output_type": "execute_result"
    }
   ],
   "source": [
    "y_test.head()"
   ]
  },
  {
   "cell_type": "code",
   "execution_count": 21,
   "id": "4b08ca09",
   "metadata": {},
   "outputs": [
    {
     "data": {
      "text/html": [
       "<div>\n",
       "<style scoped>\n",
       "    .dataframe tbody tr th:only-of-type {\n",
       "        vertical-align: middle;\n",
       "    }\n",
       "\n",
       "    .dataframe tbody tr th {\n",
       "        vertical-align: top;\n",
       "    }\n",
       "\n",
       "    .dataframe thead th {\n",
       "        text-align: right;\n",
       "    }\n",
       "</style>\n",
       "<table border=\"1\" class=\"dataframe\">\n",
       "  <thead>\n",
       "    <tr style=\"text-align: right;\">\n",
       "      <th></th>\n",
       "      <th>y_test</th>\n",
       "      <th>y_pred_wfv</th>\n",
       "    </tr>\n",
       "  </thead>\n",
       "  <tbody>\n",
       "    <tr>\n",
       "      <th>2025-01-08 16:00:00-08:00</th>\n",
       "      <td>92484.039062</td>\n",
       "      <td>95133.135414</td>\n",
       "    </tr>\n",
       "    <tr>\n",
       "      <th>2025-01-09 16:00:00-08:00</th>\n",
       "      <td>94701.453125</td>\n",
       "      <td>92583.118258</td>\n",
       "    </tr>\n",
       "    <tr>\n",
       "      <th>2025-01-10 16:00:00-08:00</th>\n",
       "      <td>94566.593750</td>\n",
       "      <td>94632.851618</td>\n",
       "    </tr>\n",
       "    <tr>\n",
       "      <th>2025-01-11 16:00:00-08:00</th>\n",
       "      <td>94488.437500</td>\n",
       "      <td>94587.001808</td>\n",
       "    </tr>\n",
       "    <tr>\n",
       "      <th>2025-01-12 16:00:00-08:00</th>\n",
       "      <td>94516.523438</td>\n",
       "      <td>94506.256794</td>\n",
       "    </tr>\n",
       "  </tbody>\n",
       "</table>\n",
       "</div>"
      ],
      "text/plain": [
       "                                 y_test    y_pred_wfv\n",
       "2025-01-08 16:00:00-08:00  92484.039062  95133.135414\n",
       "2025-01-09 16:00:00-08:00  94701.453125  92583.118258\n",
       "2025-01-10 16:00:00-08:00  94566.593750  94632.851618\n",
       "2025-01-11 16:00:00-08:00  94488.437500  94587.001808\n",
       "2025-01-12 16:00:00-08:00  94516.523438  94506.256794"
      ]
     },
     "execution_count": 21,
     "metadata": {},
     "output_type": "execute_result"
    }
   ],
   "source": [
    "# Putting walk forward validation into a dataframe\n",
    "df_pred_test = pd.DataFrame({\n",
    "    \"y_test\": y_test,\n",
    "    \"y_pred_wfv\": y_pred_wfv\n",
    "})\n",
    "\n",
    "df_pred_test.head()"
   ]
  },
  {
   "cell_type": "code",
   "execution_count": 22,
   "id": "76fc768f",
   "metadata": {},
   "outputs": [
    {
     "data": {
      "application/vnd.plotly.v1+json": {
       "config": {
        "plotlyServerURL": "https://plot.ly"
       },
       "data": [
        {
         "hovertemplate": "variable=y_test<br>index=%{x}<br>value=%{y}<extra></extra>",
         "legendgroup": "y_test",
         "line": {
          "color": "#636efa",
          "dash": "solid"
         },
         "marker": {
          "symbol": "circle"
         },
         "mode": "lines",
         "name": "y_test",
         "orientation": "v",
         "showlegend": true,
         "type": "scatter",
         "x": [
          "2025-01-08T16:00:00-08:00",
          "2025-01-09T16:00:00-08:00",
          "2025-01-10T16:00:00-08:00",
          "2025-01-11T16:00:00-08:00",
          "2025-01-12T16:00:00-08:00",
          "2025-01-13T16:00:00-08:00",
          "2025-01-14T16:00:00-08:00",
          "2025-01-15T16:00:00-08:00",
          "2025-01-16T16:00:00-08:00",
          "2025-01-17T16:00:00-08:00",
          "2025-01-18T16:00:00-08:00",
          "2025-01-19T16:00:00-08:00",
          "2025-01-20T16:00:00-08:00",
          "2025-01-21T16:00:00-08:00",
          "2025-01-22T16:00:00-08:00",
          "2025-01-23T16:00:00-08:00",
          "2025-01-24T16:00:00-08:00",
          "2025-01-25T16:00:00-08:00",
          "2025-01-26T16:00:00-08:00",
          "2025-01-27T16:00:00-08:00",
          "2025-01-28T16:00:00-08:00",
          "2025-01-29T16:00:00-08:00",
          "2025-01-30T16:00:00-08:00",
          "2025-01-31T16:00:00-08:00",
          "2025-02-01T16:00:00-08:00",
          "2025-02-02T16:00:00-08:00",
          "2025-02-03T16:00:00-08:00",
          "2025-02-04T16:00:00-08:00",
          "2025-02-05T16:00:00-08:00",
          "2025-02-06T16:00:00-08:00",
          "2025-02-07T16:00:00-08:00",
          "2025-02-08T16:00:00-08:00",
          "2025-02-09T16:00:00-08:00",
          "2025-02-10T16:00:00-08:00",
          "2025-02-11T16:00:00-08:00",
          "2025-02-12T16:00:00-08:00",
          "2025-02-13T16:00:00-08:00",
          "2025-02-14T16:00:00-08:00",
          "2025-02-15T16:00:00-08:00",
          "2025-02-16T16:00:00-08:00",
          "2025-02-17T16:00:00-08:00",
          "2025-02-18T16:00:00-08:00",
          "2025-02-19T16:00:00-08:00",
          "2025-02-20T16:00:00-08:00",
          "2025-02-21T16:00:00-08:00",
          "2025-02-22T16:00:00-08:00",
          "2025-02-23T16:00:00-08:00",
          "2025-02-24T16:00:00-08:00",
          "2025-02-25T16:00:00-08:00",
          "2025-02-26T16:00:00-08:00",
          "2025-02-27T16:00:00-08:00",
          "2025-02-28T16:00:00-08:00",
          "2025-03-01T16:00:00-08:00",
          "2025-03-02T16:00:00-08:00",
          "2025-03-03T16:00:00-08:00",
          "2025-03-04T16:00:00-08:00",
          "2025-03-05T16:00:00-08:00",
          "2025-03-06T16:00:00-08:00",
          "2025-03-07T16:00:00-08:00",
          "2025-03-08T16:00:00-08:00",
          "2025-03-09T17:00:00-07:00",
          "2025-03-10T17:00:00-07:00",
          "2025-03-11T17:00:00-07:00",
          "2025-03-12T17:00:00-07:00",
          "2025-03-13T17:00:00-07:00",
          "2025-03-14T17:00:00-07:00",
          "2025-03-15T17:00:00-07:00",
          "2025-03-16T17:00:00-07:00",
          "2025-03-17T17:00:00-07:00",
          "2025-03-18T17:00:00-07:00",
          "2025-03-19T17:00:00-07:00",
          "2025-03-20T17:00:00-07:00",
          "2025-03-21T17:00:00-07:00",
          "2025-03-22T17:00:00-07:00",
          "2025-03-23T17:00:00-07:00",
          "2025-03-24T17:00:00-07:00",
          "2025-03-25T17:00:00-07:00",
          "2025-03-26T17:00:00-07:00",
          "2025-03-27T17:00:00-07:00",
          "2025-03-28T17:00:00-07:00",
          "2025-03-29T17:00:00-07:00",
          "2025-03-30T17:00:00-07:00",
          "2025-03-31T17:00:00-07:00",
          "2025-04-01T17:00:00-07:00",
          "2025-04-02T17:00:00-07:00",
          "2025-04-03T17:00:00-07:00",
          "2025-04-04T17:00:00-07:00",
          "2025-04-05T17:00:00-07:00",
          "2025-04-06T17:00:00-07:00",
          "2025-04-07T17:00:00-07:00",
          "2025-04-08T17:00:00-07:00",
          "2025-04-09T17:00:00-07:00",
          "2025-04-10T17:00:00-07:00",
          "2025-04-11T17:00:00-07:00",
          "2025-04-12T17:00:00-07:00",
          "2025-04-13T17:00:00-07:00",
          "2025-04-14T17:00:00-07:00",
          "2025-04-15T17:00:00-07:00",
          "2025-04-16T17:00:00-07:00",
          "2025-04-17T17:00:00-07:00",
          "2025-04-18T17:00:00-07:00",
          "2025-04-19T17:00:00-07:00",
          "2025-04-20T17:00:00-07:00",
          "2025-04-21T17:00:00-07:00",
          "2025-04-22T17:00:00-07:00",
          "2025-04-23T17:00:00-07:00",
          "2025-04-24T17:00:00-07:00",
          "2025-04-25T17:00:00-07:00",
          "2025-04-26T17:00:00-07:00",
          "2025-04-27T17:00:00-07:00",
          "2025-04-28T17:00:00-07:00",
          "2025-04-29T17:00:00-07:00",
          "2025-04-30T17:00:00-07:00",
          "2025-05-01T17:00:00-07:00",
          "2025-05-02T17:00:00-07:00",
          "2025-05-03T17:00:00-07:00",
          "2025-05-04T17:00:00-07:00",
          "2025-05-05T17:00:00-07:00",
          "2025-05-06T17:00:00-07:00",
          "2025-05-07T17:00:00-07:00",
          "2025-05-08T17:00:00-07:00",
          "2025-05-09T17:00:00-07:00",
          "2025-05-10T17:00:00-07:00",
          "2025-05-11T17:00:00-07:00",
          "2025-05-12T17:00:00-07:00",
          "2025-05-13T17:00:00-07:00",
          "2025-05-14T17:00:00-07:00",
          "2025-05-15T17:00:00-07:00",
          "2025-05-16T17:00:00-07:00",
          "2025-05-17T17:00:00-07:00",
          "2025-05-18T17:00:00-07:00",
          "2025-05-19T17:00:00-07:00",
          "2025-05-20T17:00:00-07:00",
          "2025-05-21T17:00:00-07:00",
          "2025-05-22T17:00:00-07:00",
          "2025-05-23T17:00:00-07:00",
          "2025-05-24T17:00:00-07:00",
          "2025-05-25T17:00:00-07:00",
          "2025-05-26T17:00:00-07:00",
          "2025-05-27T17:00:00-07:00",
          "2025-05-28T17:00:00-07:00",
          "2025-05-29T17:00:00-07:00",
          "2025-05-30T17:00:00-07:00",
          "2025-05-31T17:00:00-07:00",
          "2025-06-01T17:00:00-07:00",
          "2025-06-02T17:00:00-07:00",
          "2025-06-03T17:00:00-07:00",
          "2025-06-04T17:00:00-07:00",
          "2025-06-05T17:00:00-07:00",
          "2025-06-06T17:00:00-07:00",
          "2025-06-07T17:00:00-07:00",
          "2025-06-08T17:00:00-07:00",
          "2025-06-09T17:00:00-07:00",
          "2025-06-10T17:00:00-07:00",
          "2025-06-11T17:00:00-07:00",
          "2025-06-12T17:00:00-07:00",
          "2025-06-13T17:00:00-07:00",
          "2025-06-14T17:00:00-07:00",
          "2025-06-15T17:00:00-07:00",
          "2025-06-16T17:00:00-07:00",
          "2025-06-17T17:00:00-07:00",
          "2025-06-18T17:00:00-07:00",
          "2025-06-19T17:00:00-07:00",
          "2025-06-20T17:00:00-07:00",
          "2025-06-21T17:00:00-07:00",
          "2025-06-22T17:00:00-07:00",
          "2025-06-23T17:00:00-07:00",
          "2025-06-24T17:00:00-07:00",
          "2025-06-25T17:00:00-07:00",
          "2025-06-26T17:00:00-07:00",
          "2025-06-27T17:00:00-07:00",
          "2025-06-28T17:00:00-07:00",
          "2025-06-29T17:00:00-07:00",
          "2025-06-30T17:00:00-07:00",
          "2025-07-01T17:00:00-07:00",
          "2025-07-02T17:00:00-07:00",
          "2025-07-03T17:00:00-07:00",
          "2025-07-04T17:00:00-07:00",
          "2025-07-05T17:00:00-07:00",
          "2025-07-06T17:00:00-07:00",
          "2025-07-07T17:00:00-07:00",
          "2025-07-08T17:00:00-07:00",
          "2025-07-09T17:00:00-07:00",
          "2025-07-10T17:00:00-07:00"
         ],
         "xaxis": "x",
         "y": [
          92484.0390625,
          94701.453125,
          94566.59375,
          94488.4375,
          94516.5234375,
          96534.046875,
          100504.4921875,
          99756.90625,
          104462.0390625,
          104408.0703125,
          101089.609375,
          102016.6640625,
          106146.265625,
          103653.0703125,
          103960.171875,
          104819.484375,
          104714.6484375,
          102682.5,
          102087.6875,
          101332.4765625,
          103703.2109375,
          104735.3046875,
          102405.0234375,
          100655.90625,
          97688.9765625,
          101405.421875,
          97871.8203125,
          96615.4453125,
          96593.296875,
          96529.0859375,
          96482.453125,
          96500.09375,
          97437.5546875,
          95747.4296875,
          97885.859375,
          96623.8671875,
          97508.96875,
          97580.3515625,
          96175.03125,
          95773.3828125,
          95539.546875,
          96635.609375,
          98333.9375,
          96125.546875,
          96577.7578125,
          96273.921875,
          91418.171875,
          88736.171875,
          84347.0234375,
          84704.2265625,
          84373.0078125,
          86031.9140625,
          94248.3515625,
          86065.671875,
          87222.1953125,
          90623.5625,
          89961.7265625,
          86742.671875,
          86154.59375,
          80601.0390625,
          78532,
          82862.2109375,
          83722.359375,
          81066.703125,
          83969.1015625,
          84343.109375,
          82579.6875,
          84075.6875,
          82718.5,
          86854.2265625,
          84167.1953125,
          84043.2421875,
          83832.484375,
          86054.375,
          87498.9140625,
          87471.703125,
          86900.8828125,
          87177.1015625,
          84353.1484375,
          82597.5859375,
          82334.5234375,
          82548.9140625,
          85169.171875,
          82485.7109375,
          83102.828125,
          83843.8046875,
          83504.796875,
          78214.484375,
          79235.3359375,
          76271.953125,
          82573.953125,
          79626.140625,
          83404.8359375,
          85287.109375,
          83684.9765625,
          84542.390625,
          83668.9921875,
          84033.8671875,
          84895.75,
          84450.8046875,
          85063.4140625,
          85174.3046875,
          87518.90625,
          93441.890625,
          93699.109375,
          93943.796875,
          94720.5,
          94646.9296875,
          93754.84375,
          94978.75,
          94284.7890625,
          94207.3125,
          96492.3359375,
          96910.0703125,
          95891.796875,
          94315.9765625,
          94748.0546875,
          96802.4765625,
          97032.3203125,
          103241.4609375,
          102970.8515625,
          104696.328125,
          104106.359375,
          102812.953125,
          104169.8125,
          103539.4140625,
          103744.640625,
          103489.2890625,
          103191.0859375,
          106446.0078125,
          105606.1796875,
          106791.0859375,
          109678.078125,
          111673.28125,
          107287.796875,
          107791.15625,
          109035.390625,
          109440.3671875,
          108994.640625,
          107802.328125,
          105641.7578125,
          103998.5703125,
          104638.09375,
          105652.1015625,
          105881.53125,
          105432.46875,
          104731.984375,
          101575.953125,
          104390.34375,
          105615.625,
          105793.6484375,
          110294.1015625,
          110257.234375,
          108686.625,
          105929.0546875,
          106090.96875,
          105472.40625,
          105552.0234375,
          106796.7578125,
          104601.1171875,
          104883.328125,
          104684.2890625,
          103309.6015625,
          102257.40625,
          100987.140625,
          105577.7734375,
          106045.6328125,
          107361.2578125,
          106960,
          107088.4296875,
          107327.703125,
          108385.5703125,
          107135.3359375,
          105698.28125,
          108859.3203125,
          109647.9765625,
          108034.3359375,
          108231.1796875,
          109232.0703125,
          108299.8515625,
          108950.2734375,
          111326.5546875,
          115987.203125,
          117516.9921875
         ],
         "yaxis": "y"
        },
        {
         "hovertemplate": "variable=y_pred_wfv<br>index=%{x}<br>value=%{y}<extra></extra>",
         "legendgroup": "y_pred_wfv",
         "line": {
          "color": "#EF553B",
          "dash": "solid"
         },
         "marker": {
          "symbol": "circle"
         },
         "mode": "lines",
         "name": "y_pred_wfv",
         "orientation": "v",
         "showlegend": true,
         "type": "scatter",
         "x": [
          "2025-01-08T16:00:00-08:00",
          "2025-01-09T16:00:00-08:00",
          "2025-01-10T16:00:00-08:00",
          "2025-01-11T16:00:00-08:00",
          "2025-01-12T16:00:00-08:00",
          "2025-01-13T16:00:00-08:00",
          "2025-01-14T16:00:00-08:00",
          "2025-01-15T16:00:00-08:00",
          "2025-01-16T16:00:00-08:00",
          "2025-01-17T16:00:00-08:00",
          "2025-01-18T16:00:00-08:00",
          "2025-01-19T16:00:00-08:00",
          "2025-01-20T16:00:00-08:00",
          "2025-01-21T16:00:00-08:00",
          "2025-01-22T16:00:00-08:00",
          "2025-01-23T16:00:00-08:00",
          "2025-01-24T16:00:00-08:00",
          "2025-01-25T16:00:00-08:00",
          "2025-01-26T16:00:00-08:00",
          "2025-01-27T16:00:00-08:00",
          "2025-01-28T16:00:00-08:00",
          "2025-01-29T16:00:00-08:00",
          "2025-01-30T16:00:00-08:00",
          "2025-01-31T16:00:00-08:00",
          "2025-02-01T16:00:00-08:00",
          "2025-02-02T16:00:00-08:00",
          "2025-02-03T16:00:00-08:00",
          "2025-02-04T16:00:00-08:00",
          "2025-02-05T16:00:00-08:00",
          "2025-02-06T16:00:00-08:00",
          "2025-02-07T16:00:00-08:00",
          "2025-02-08T16:00:00-08:00",
          "2025-02-09T16:00:00-08:00",
          "2025-02-10T16:00:00-08:00",
          "2025-02-11T16:00:00-08:00",
          "2025-02-12T16:00:00-08:00",
          "2025-02-13T16:00:00-08:00",
          "2025-02-14T16:00:00-08:00",
          "2025-02-15T16:00:00-08:00",
          "2025-02-16T16:00:00-08:00",
          "2025-02-17T16:00:00-08:00",
          "2025-02-18T16:00:00-08:00",
          "2025-02-19T16:00:00-08:00",
          "2025-02-20T16:00:00-08:00",
          "2025-02-21T16:00:00-08:00",
          "2025-02-22T16:00:00-08:00",
          "2025-02-23T16:00:00-08:00",
          "2025-02-24T16:00:00-08:00",
          "2025-02-25T16:00:00-08:00",
          "2025-02-26T16:00:00-08:00",
          "2025-02-27T16:00:00-08:00",
          "2025-02-28T16:00:00-08:00",
          "2025-03-01T16:00:00-08:00",
          "2025-03-02T16:00:00-08:00",
          "2025-03-03T16:00:00-08:00",
          "2025-03-04T16:00:00-08:00",
          "2025-03-05T16:00:00-08:00",
          "2025-03-06T16:00:00-08:00",
          "2025-03-07T16:00:00-08:00",
          "2025-03-08T16:00:00-08:00",
          "2025-03-09T17:00:00-07:00",
          "2025-03-10T17:00:00-07:00",
          "2025-03-11T17:00:00-07:00",
          "2025-03-12T17:00:00-07:00",
          "2025-03-13T17:00:00-07:00",
          "2025-03-14T17:00:00-07:00",
          "2025-03-15T17:00:00-07:00",
          "2025-03-16T17:00:00-07:00",
          "2025-03-17T17:00:00-07:00",
          "2025-03-18T17:00:00-07:00",
          "2025-03-19T17:00:00-07:00",
          "2025-03-20T17:00:00-07:00",
          "2025-03-21T17:00:00-07:00",
          "2025-03-22T17:00:00-07:00",
          "2025-03-23T17:00:00-07:00",
          "2025-03-24T17:00:00-07:00",
          "2025-03-25T17:00:00-07:00",
          "2025-03-26T17:00:00-07:00",
          "2025-03-27T17:00:00-07:00",
          "2025-03-28T17:00:00-07:00",
          "2025-03-29T17:00:00-07:00",
          "2025-03-30T17:00:00-07:00",
          "2025-03-31T17:00:00-07:00",
          "2025-04-01T17:00:00-07:00",
          "2025-04-02T17:00:00-07:00",
          "2025-04-03T17:00:00-07:00",
          "2025-04-04T17:00:00-07:00",
          "2025-04-05T17:00:00-07:00",
          "2025-04-06T17:00:00-07:00",
          "2025-04-07T17:00:00-07:00",
          "2025-04-08T17:00:00-07:00",
          "2025-04-09T17:00:00-07:00",
          "2025-04-10T17:00:00-07:00",
          "2025-04-11T17:00:00-07:00",
          "2025-04-12T17:00:00-07:00",
          "2025-04-13T17:00:00-07:00",
          "2025-04-14T17:00:00-07:00",
          "2025-04-15T17:00:00-07:00",
          "2025-04-16T17:00:00-07:00",
          "2025-04-17T17:00:00-07:00",
          "2025-04-18T17:00:00-07:00",
          "2025-04-19T17:00:00-07:00",
          "2025-04-20T17:00:00-07:00",
          "2025-04-21T17:00:00-07:00",
          "2025-04-22T17:00:00-07:00",
          "2025-04-23T17:00:00-07:00",
          "2025-04-24T17:00:00-07:00",
          "2025-04-25T17:00:00-07:00",
          "2025-04-26T17:00:00-07:00",
          "2025-04-27T17:00:00-07:00",
          "2025-04-28T17:00:00-07:00",
          "2025-04-29T17:00:00-07:00",
          "2025-04-30T17:00:00-07:00",
          "2025-05-01T17:00:00-07:00",
          "2025-05-02T17:00:00-07:00",
          "2025-05-03T17:00:00-07:00",
          "2025-05-04T17:00:00-07:00",
          "2025-05-05T17:00:00-07:00",
          "2025-05-06T17:00:00-07:00",
          "2025-05-07T17:00:00-07:00",
          "2025-05-08T17:00:00-07:00",
          "2025-05-09T17:00:00-07:00",
          "2025-05-10T17:00:00-07:00",
          "2025-05-11T17:00:00-07:00",
          "2025-05-12T17:00:00-07:00",
          "2025-05-13T17:00:00-07:00",
          "2025-05-14T17:00:00-07:00",
          "2025-05-15T17:00:00-07:00",
          "2025-05-16T17:00:00-07:00",
          "2025-05-17T17:00:00-07:00",
          "2025-05-18T17:00:00-07:00",
          "2025-05-19T17:00:00-07:00",
          "2025-05-20T17:00:00-07:00",
          "2025-05-21T17:00:00-07:00",
          "2025-05-22T17:00:00-07:00",
          "2025-05-23T17:00:00-07:00",
          "2025-05-24T17:00:00-07:00",
          "2025-05-25T17:00:00-07:00",
          "2025-05-26T17:00:00-07:00",
          "2025-05-27T17:00:00-07:00",
          "2025-05-28T17:00:00-07:00",
          "2025-05-29T17:00:00-07:00",
          "2025-05-30T17:00:00-07:00",
          "2025-05-31T17:00:00-07:00",
          "2025-06-01T17:00:00-07:00",
          "2025-06-02T17:00:00-07:00",
          "2025-06-03T17:00:00-07:00",
          "2025-06-04T17:00:00-07:00",
          "2025-06-05T17:00:00-07:00",
          "2025-06-06T17:00:00-07:00",
          "2025-06-07T17:00:00-07:00",
          "2025-06-08T17:00:00-07:00",
          "2025-06-09T17:00:00-07:00",
          "2025-06-10T17:00:00-07:00",
          "2025-06-11T17:00:00-07:00",
          "2025-06-12T17:00:00-07:00",
          "2025-06-13T17:00:00-07:00",
          "2025-06-14T17:00:00-07:00",
          "2025-06-15T17:00:00-07:00",
          "2025-06-16T17:00:00-07:00",
          "2025-06-17T17:00:00-07:00",
          "2025-06-18T17:00:00-07:00",
          "2025-06-19T17:00:00-07:00",
          "2025-06-20T17:00:00-07:00",
          "2025-06-21T17:00:00-07:00",
          "2025-06-22T17:00:00-07:00",
          "2025-06-23T17:00:00-07:00",
          "2025-06-24T17:00:00-07:00",
          "2025-06-25T17:00:00-07:00",
          "2025-06-26T17:00:00-07:00",
          "2025-06-27T17:00:00-07:00",
          "2025-06-28T17:00:00-07:00",
          "2025-06-29T17:00:00-07:00",
          "2025-06-30T17:00:00-07:00",
          "2025-07-01T17:00:00-07:00",
          "2025-07-02T17:00:00-07:00",
          "2025-07-03T17:00:00-07:00",
          "2025-07-04T17:00:00-07:00",
          "2025-07-05T17:00:00-07:00",
          "2025-07-06T17:00:00-07:00",
          "2025-07-07T17:00:00-07:00",
          "2025-07-08T17:00:00-07:00",
          "2025-07-09T17:00:00-07:00",
          "2025-07-10T17:00:00-07:00"
         ],
         "xaxis": "x",
         "y": [
          95133.13541425178,
          92583.1182577996,
          94632.85161763792,
          94587.00180836223,
          94506.2567943368,
          94530.34035826605,
          96480.76190103653,
          100404.74524326452,
          99823.89495961282,
          104349.21482245579,
          104477.22705104877,
          101260.58655704495,
          102031.44180020163,
          106065.80096230705,
          103814.5732502625,
          104009.12086683392,
          104851.02916015644,
          104784.53447319027,
          102817.3222700413,
          102159.85881426887,
          101406.29065403274,
          103664.14777802465,
          104757.0874497767,
          102547.8914584274,
          100762.28883615976,
          97821.77412926457,
          101296.3304682789,
          98051.8996077872,
          96687.22997302533,
          96612.5896914117,
          96549.8110078214,
          96502.16172311288,
          96517.07369514921,
          97419.30805390234,
          95834.23417431512,
          97815.26580744455,
          96698.24304732546,
          97490.88050538408,
          97599.03048281182,
          96254.17555906312,
          95805.78458394906,
          95563.518410597,
          96604.20049540017,
          98282.88212646915,
          96240.74003782813,
          96574.27770717417,
          96303.59537032657,
          91634.45433257837,
          88836.23508489583,
          84490.35167130717,
          84674.66917940466,
          84368.37286100439,
          85956.12797757138,
          93975.71273360222,
          86472.78422932346,
          87147.6766346444,
          90439.25019687528,
          89989.21887413839,
          86895.96817694584,
          86169.46136953661,
          80856.99732654102,
          78603.88130114911,
          82628.46922629644,
          83660.84098501332,
          81172.12086571864,
          83802.61795723793,
          84304.86451187609,
          82646.72173777639,
          83979.7619336216,
          82767.11982097143,
          86618.79584342631,
          84297.5554349383,
          84030.64878177478,
          83824.51342803285,
          85913.7060414111,
          87404.94581437057,
          87458.45356119485,
          86916.53266586253,
          87146.80925701377,
          84489.10334383168,
          82670.169836788,
          82327.17531258319,
          82516.3868691384,
          85011.30208398748,
          82611.82035773463,
          83048.25025437951,
          83783.2059291104,
          83503.48019395753,
          78478.89231930261,
          79155.26402386771,
          76414.71675302782,
          82166.02261017193,
          79796.09759702021,
          83126.33482637935,
          85143.79694901682,
          83772.12850318853,
          84465.49361382646,
          83707.90412717199,
          83989.62162153149,
          84818.90735715303,
          84461.77768403928,
          85003.58850823941,
          85148.59823308763,
          87345.01330909398,
          93056.22499133072,
          93678.08522422775,
          93924.1748138623,
          94669.16128091022,
          94649.21013095151,
          93806.63479168514,
          94899.46074421336,
          94325.7548409698,
          94208.82294448334,
          96348.90690862619,
          96887.09111171773,
          95957.27141556893,
          94411.92756288138,
          94718.39294253934,
          96675.74242346142,
          97021.35752489604,
          102873.95972125563,
          103009.9252737306,
          104616.45705207021,
          104170.01234616092,
          102915.4185243673,
          104110.13009969049,
          103603.26931803068,
          103756.080368703,
          103528.93112819671,
          103232.20695025712,
          106272.69938436992,
          105691.75521198848,
          106750.63412915241,
          109541.99612969597,
          111606.56824474207,
          107608.06527243003,
          107797.70797524982,
          108999.44120949566,
          109460.44397285735,
          109067.40695190111,
          107917.43298926133,
          105807.95722515904,
          104123.46824464931,
          104622.59850133734,
          105616.9012569551,
          105896.19896918163,
          105487.72250247732,
          104800.12218228752,
          101783.7878872287,
          104233.59821656893,
          105565.51070191644,
          105810.00341873331,
          110056.15785118684,
          110304.6240124881,
          108822.95722708051,
          106124.56261581292,
          106108.00638808786,
          105534.90671352434,
          105571.94417609563,
          106749.64609093056,
          104758.19933122738,
          104888.05591570861,
          104718.06101542915,
          103411.37665979922,
          102335.44788459838,
          101074.28532847119,
          105314.35862282329,
          106041.72247587309,
          107309.64278967936,
          107012.7525020179,
          107108.82247571353,
          107342.00183812354,
          108353.06461280135,
          107241.03932869689,
          105809.55061864821,
          108695.22685013666,
          109635.92746072837,
          108165.38509630453,
          108250.15214302763,
          109204.5452909238,
          108389.2963585835,
          108943.08290604604,
          111220.80566232011,
          115769.86675633525
         ],
         "yaxis": "y"
        }
       ],
       "layout": {
        "legend": {
         "title": {
          "text": "variable"
         },
         "tracegroupgap": 0
        },
        "margin": {
         "t": 60
        },
        "template": {
         "data": {
          "bar": [
           {
            "error_x": {
             "color": "#2a3f5f"
            },
            "error_y": {
             "color": "#2a3f5f"
            },
            "marker": {
             "line": {
              "color": "#E5ECF6",
              "width": 0.5
             },
             "pattern": {
              "fillmode": "overlay",
              "size": 10,
              "solidity": 0.2
             }
            },
            "type": "bar"
           }
          ],
          "barpolar": [
           {
            "marker": {
             "line": {
              "color": "#E5ECF6",
              "width": 0.5
             },
             "pattern": {
              "fillmode": "overlay",
              "size": 10,
              "solidity": 0.2
             }
            },
            "type": "barpolar"
           }
          ],
          "carpet": [
           {
            "aaxis": {
             "endlinecolor": "#2a3f5f",
             "gridcolor": "white",
             "linecolor": "white",
             "minorgridcolor": "white",
             "startlinecolor": "#2a3f5f"
            },
            "baxis": {
             "endlinecolor": "#2a3f5f",
             "gridcolor": "white",
             "linecolor": "white",
             "minorgridcolor": "white",
             "startlinecolor": "#2a3f5f"
            },
            "type": "carpet"
           }
          ],
          "choropleth": [
           {
            "colorbar": {
             "outlinewidth": 0,
             "ticks": ""
            },
            "type": "choropleth"
           }
          ],
          "contour": [
           {
            "colorbar": {
             "outlinewidth": 0,
             "ticks": ""
            },
            "colorscale": [
             [
              0,
              "#0d0887"
             ],
             [
              0.1111111111111111,
              "#46039f"
             ],
             [
              0.2222222222222222,
              "#7201a8"
             ],
             [
              0.3333333333333333,
              "#9c179e"
             ],
             [
              0.4444444444444444,
              "#bd3786"
             ],
             [
              0.5555555555555556,
              "#d8576b"
             ],
             [
              0.6666666666666666,
              "#ed7953"
             ],
             [
              0.7777777777777778,
              "#fb9f3a"
             ],
             [
              0.8888888888888888,
              "#fdca26"
             ],
             [
              1,
              "#f0f921"
             ]
            ],
            "type": "contour"
           }
          ],
          "contourcarpet": [
           {
            "colorbar": {
             "outlinewidth": 0,
             "ticks": ""
            },
            "type": "contourcarpet"
           }
          ],
          "heatmap": [
           {
            "colorbar": {
             "outlinewidth": 0,
             "ticks": ""
            },
            "colorscale": [
             [
              0,
              "#0d0887"
             ],
             [
              0.1111111111111111,
              "#46039f"
             ],
             [
              0.2222222222222222,
              "#7201a8"
             ],
             [
              0.3333333333333333,
              "#9c179e"
             ],
             [
              0.4444444444444444,
              "#bd3786"
             ],
             [
              0.5555555555555556,
              "#d8576b"
             ],
             [
              0.6666666666666666,
              "#ed7953"
             ],
             [
              0.7777777777777778,
              "#fb9f3a"
             ],
             [
              0.8888888888888888,
              "#fdca26"
             ],
             [
              1,
              "#f0f921"
             ]
            ],
            "type": "heatmap"
           }
          ],
          "heatmapgl": [
           {
            "colorbar": {
             "outlinewidth": 0,
             "ticks": ""
            },
            "colorscale": [
             [
              0,
              "#0d0887"
             ],
             [
              0.1111111111111111,
              "#46039f"
             ],
             [
              0.2222222222222222,
              "#7201a8"
             ],
             [
              0.3333333333333333,
              "#9c179e"
             ],
             [
              0.4444444444444444,
              "#bd3786"
             ],
             [
              0.5555555555555556,
              "#d8576b"
             ],
             [
              0.6666666666666666,
              "#ed7953"
             ],
             [
              0.7777777777777778,
              "#fb9f3a"
             ],
             [
              0.8888888888888888,
              "#fdca26"
             ],
             [
              1,
              "#f0f921"
             ]
            ],
            "type": "heatmapgl"
           }
          ],
          "histogram": [
           {
            "marker": {
             "pattern": {
              "fillmode": "overlay",
              "size": 10,
              "solidity": 0.2
             }
            },
            "type": "histogram"
           }
          ],
          "histogram2d": [
           {
            "colorbar": {
             "outlinewidth": 0,
             "ticks": ""
            },
            "colorscale": [
             [
              0,
              "#0d0887"
             ],
             [
              0.1111111111111111,
              "#46039f"
             ],
             [
              0.2222222222222222,
              "#7201a8"
             ],
             [
              0.3333333333333333,
              "#9c179e"
             ],
             [
              0.4444444444444444,
              "#bd3786"
             ],
             [
              0.5555555555555556,
              "#d8576b"
             ],
             [
              0.6666666666666666,
              "#ed7953"
             ],
             [
              0.7777777777777778,
              "#fb9f3a"
             ],
             [
              0.8888888888888888,
              "#fdca26"
             ],
             [
              1,
              "#f0f921"
             ]
            ],
            "type": "histogram2d"
           }
          ],
          "histogram2dcontour": [
           {
            "colorbar": {
             "outlinewidth": 0,
             "ticks": ""
            },
            "colorscale": [
             [
              0,
              "#0d0887"
             ],
             [
              0.1111111111111111,
              "#46039f"
             ],
             [
              0.2222222222222222,
              "#7201a8"
             ],
             [
              0.3333333333333333,
              "#9c179e"
             ],
             [
              0.4444444444444444,
              "#bd3786"
             ],
             [
              0.5555555555555556,
              "#d8576b"
             ],
             [
              0.6666666666666666,
              "#ed7953"
             ],
             [
              0.7777777777777778,
              "#fb9f3a"
             ],
             [
              0.8888888888888888,
              "#fdca26"
             ],
             [
              1,
              "#f0f921"
             ]
            ],
            "type": "histogram2dcontour"
           }
          ],
          "mesh3d": [
           {
            "colorbar": {
             "outlinewidth": 0,
             "ticks": ""
            },
            "type": "mesh3d"
           }
          ],
          "parcoords": [
           {
            "line": {
             "colorbar": {
              "outlinewidth": 0,
              "ticks": ""
             }
            },
            "type": "parcoords"
           }
          ],
          "pie": [
           {
            "automargin": true,
            "type": "pie"
           }
          ],
          "scatter": [
           {
            "fillpattern": {
             "fillmode": "overlay",
             "size": 10,
             "solidity": 0.2
            },
            "type": "scatter"
           }
          ],
          "scatter3d": [
           {
            "line": {
             "colorbar": {
              "outlinewidth": 0,
              "ticks": ""
             }
            },
            "marker": {
             "colorbar": {
              "outlinewidth": 0,
              "ticks": ""
             }
            },
            "type": "scatter3d"
           }
          ],
          "scattercarpet": [
           {
            "marker": {
             "colorbar": {
              "outlinewidth": 0,
              "ticks": ""
             }
            },
            "type": "scattercarpet"
           }
          ],
          "scattergeo": [
           {
            "marker": {
             "colorbar": {
              "outlinewidth": 0,
              "ticks": ""
             }
            },
            "type": "scattergeo"
           }
          ],
          "scattergl": [
           {
            "marker": {
             "colorbar": {
              "outlinewidth": 0,
              "ticks": ""
             }
            },
            "type": "scattergl"
           }
          ],
          "scattermapbox": [
           {
            "marker": {
             "colorbar": {
              "outlinewidth": 0,
              "ticks": ""
             }
            },
            "type": "scattermapbox"
           }
          ],
          "scatterpolar": [
           {
            "marker": {
             "colorbar": {
              "outlinewidth": 0,
              "ticks": ""
             }
            },
            "type": "scatterpolar"
           }
          ],
          "scatterpolargl": [
           {
            "marker": {
             "colorbar": {
              "outlinewidth": 0,
              "ticks": ""
             }
            },
            "type": "scatterpolargl"
           }
          ],
          "scatterternary": [
           {
            "marker": {
             "colorbar": {
              "outlinewidth": 0,
              "ticks": ""
             }
            },
            "type": "scatterternary"
           }
          ],
          "surface": [
           {
            "colorbar": {
             "outlinewidth": 0,
             "ticks": ""
            },
            "colorscale": [
             [
              0,
              "#0d0887"
             ],
             [
              0.1111111111111111,
              "#46039f"
             ],
             [
              0.2222222222222222,
              "#7201a8"
             ],
             [
              0.3333333333333333,
              "#9c179e"
             ],
             [
              0.4444444444444444,
              "#bd3786"
             ],
             [
              0.5555555555555556,
              "#d8576b"
             ],
             [
              0.6666666666666666,
              "#ed7953"
             ],
             [
              0.7777777777777778,
              "#fb9f3a"
             ],
             [
              0.8888888888888888,
              "#fdca26"
             ],
             [
              1,
              "#f0f921"
             ]
            ],
            "type": "surface"
           }
          ],
          "table": [
           {
            "cells": {
             "fill": {
              "color": "#EBF0F8"
             },
             "line": {
              "color": "white"
             }
            },
            "header": {
             "fill": {
              "color": "#C8D4E3"
             },
             "line": {
              "color": "white"
             }
            },
            "type": "table"
           }
          ]
         },
         "layout": {
          "annotationdefaults": {
           "arrowcolor": "#2a3f5f",
           "arrowhead": 0,
           "arrowwidth": 1
          },
          "autotypenumbers": "strict",
          "coloraxis": {
           "colorbar": {
            "outlinewidth": 0,
            "ticks": ""
           }
          },
          "colorscale": {
           "diverging": [
            [
             0,
             "#8e0152"
            ],
            [
             0.1,
             "#c51b7d"
            ],
            [
             0.2,
             "#de77ae"
            ],
            [
             0.3,
             "#f1b6da"
            ],
            [
             0.4,
             "#fde0ef"
            ],
            [
             0.5,
             "#f7f7f7"
            ],
            [
             0.6,
             "#e6f5d0"
            ],
            [
             0.7,
             "#b8e186"
            ],
            [
             0.8,
             "#7fbc41"
            ],
            [
             0.9,
             "#4d9221"
            ],
            [
             1,
             "#276419"
            ]
           ],
           "sequential": [
            [
             0,
             "#0d0887"
            ],
            [
             0.1111111111111111,
             "#46039f"
            ],
            [
             0.2222222222222222,
             "#7201a8"
            ],
            [
             0.3333333333333333,
             "#9c179e"
            ],
            [
             0.4444444444444444,
             "#bd3786"
            ],
            [
             0.5555555555555556,
             "#d8576b"
            ],
            [
             0.6666666666666666,
             "#ed7953"
            ],
            [
             0.7777777777777778,
             "#fb9f3a"
            ],
            [
             0.8888888888888888,
             "#fdca26"
            ],
            [
             1,
             "#f0f921"
            ]
           ],
           "sequentialminus": [
            [
             0,
             "#0d0887"
            ],
            [
             0.1111111111111111,
             "#46039f"
            ],
            [
             0.2222222222222222,
             "#7201a8"
            ],
            [
             0.3333333333333333,
             "#9c179e"
            ],
            [
             0.4444444444444444,
             "#bd3786"
            ],
            [
             0.5555555555555556,
             "#d8576b"
            ],
            [
             0.6666666666666666,
             "#ed7953"
            ],
            [
             0.7777777777777778,
             "#fb9f3a"
            ],
            [
             0.8888888888888888,
             "#fdca26"
            ],
            [
             1,
             "#f0f921"
            ]
           ]
          },
          "colorway": [
           "#636efa",
           "#EF553B",
           "#00cc96",
           "#ab63fa",
           "#FFA15A",
           "#19d3f3",
           "#FF6692",
           "#B6E880",
           "#FF97FF",
           "#FECB52"
          ],
          "font": {
           "color": "#2a3f5f"
          },
          "geo": {
           "bgcolor": "white",
           "lakecolor": "white",
           "landcolor": "#E5ECF6",
           "showlakes": true,
           "showland": true,
           "subunitcolor": "white"
          },
          "hoverlabel": {
           "align": "left"
          },
          "hovermode": "closest",
          "mapbox": {
           "style": "light"
          },
          "paper_bgcolor": "white",
          "plot_bgcolor": "#E5ECF6",
          "polar": {
           "angularaxis": {
            "gridcolor": "white",
            "linecolor": "white",
            "ticks": ""
           },
           "bgcolor": "#E5ECF6",
           "radialaxis": {
            "gridcolor": "white",
            "linecolor": "white",
            "ticks": ""
           }
          },
          "scene": {
           "xaxis": {
            "backgroundcolor": "#E5ECF6",
            "gridcolor": "white",
            "gridwidth": 2,
            "linecolor": "white",
            "showbackground": true,
            "ticks": "",
            "zerolinecolor": "white"
           },
           "yaxis": {
            "backgroundcolor": "#E5ECF6",
            "gridcolor": "white",
            "gridwidth": 2,
            "linecolor": "white",
            "showbackground": true,
            "ticks": "",
            "zerolinecolor": "white"
           },
           "zaxis": {
            "backgroundcolor": "#E5ECF6",
            "gridcolor": "white",
            "gridwidth": 2,
            "linecolor": "white",
            "showbackground": true,
            "ticks": "",
            "zerolinecolor": "white"
           }
          },
          "shapedefaults": {
           "line": {
            "color": "#2a3f5f"
           }
          },
          "ternary": {
           "aaxis": {
            "gridcolor": "white",
            "linecolor": "white",
            "ticks": ""
           },
           "baxis": {
            "gridcolor": "white",
            "linecolor": "white",
            "ticks": ""
           },
           "bgcolor": "#E5ECF6",
           "caxis": {
            "gridcolor": "white",
            "linecolor": "white",
            "ticks": ""
           }
          },
          "title": {
           "x": 0.05
          },
          "xaxis": {
           "automargin": true,
           "gridcolor": "white",
           "linecolor": "white",
           "ticks": "",
           "title": {
            "standoff": 15
           },
           "zerolinecolor": "white",
           "zerolinewidth": 2
          },
          "yaxis": {
           "automargin": true,
           "gridcolor": "white",
           "linecolor": "white",
           "ticks": "",
           "title": {
            "standoff": 15
           },
           "zerolinecolor": "white",
           "zerolinewidth": 2
          }
         }
        },
        "title": {
         "text": "BTC Closing Price, WFV Predictions"
        },
        "xaxis": {
         "anchor": "y",
         "domain": [
          0,
          1
         ],
         "title": {
          "text": "Date"
         }
        },
        "yaxis": {
         "anchor": "x",
         "domain": [
          0,
          1
         ],
         "title": {
          "text": "BTC Closing Price"
         }
        }
       }
      }
     },
     "metadata": {},
     "output_type": "display_data"
    }
   ],
   "source": [
    "# Plotting walk forward validation\n",
    "fig = px.line(df_pred_test)\n",
    "fig.update_layout(xaxis_title=\"Date\",\n",
    "                  yaxis_title=\"BTC Closing Price\",\n",
    "                  title=\"BTC Closing Price, WFV Predictions\")\n",
    "fig.show();"
   ]
  }
 ],
 "metadata": {
  "kernelspec": {
   "display_name": "tfenv",
   "language": "python",
   "name": "python3"
  },
  "language_info": {
   "codemirror_mode": {
    "name": "ipython",
    "version": 3
   },
   "file_extension": ".py",
   "mimetype": "text/x-python",
   "name": "python",
   "nbconvert_exporter": "python",
   "pygments_lexer": "ipython3",
   "version": "3.9.17"
  }
 },
 "nbformat": 4,
 "nbformat_minor": 5
}
