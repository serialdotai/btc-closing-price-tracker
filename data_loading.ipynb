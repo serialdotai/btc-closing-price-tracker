{
 "cells": [
  {
   "cell_type": "code",
   "execution_count": 1,
   "id": "89a5a7c3",
   "metadata": {},
   "outputs": [],
   "source": [
    "# Importations\n",
    "import yfinance as yf\n",
    "import pandas as pd\n",
    "import warnings\n",
    "\n",
    "warnings.filterwarnings(\"ignore\")"
   ]
  },
  {
   "cell_type": "code",
   "execution_count": 2,
   "id": "58520e44",
   "metadata": {},
   "outputs": [
    {
     "name": "stderr",
     "output_type": "stream",
     "text": [
      "[*********************100%***********************]  1 of 1 completed"
     ]
    },
    {
     "name": "stdout",
     "output_type": "stream",
     "text": [
      "btc type: <class 'pandas.core.frame.DataFrame'>\n"
     ]
    },
    {
     "name": "stderr",
     "output_type": "stream",
     "text": [
      "\n"
     ]
    }
   ],
   "source": [
    "# Set timeframe\n",
    "start_date = \"2020-07-1\"\n",
    "end_date = \"2025-07-12\"\n",
    "\n",
    "# Getting the btc data\n",
    "btc = yf.download(\"BTC-USD\", start=start_date, end=end_date)\n",
    "\n",
    "print(\"btc type:\", type(btc))"
   ]
  },
  {
   "cell_type": "code",
   "execution_count": 3,
   "id": "657c8654",
   "metadata": {},
   "outputs": [
    {
     "data": {
      "text/html": [
       "<div>\n",
       "<style scoped>\n",
       "    .dataframe tbody tr th:only-of-type {\n",
       "        vertical-align: middle;\n",
       "    }\n",
       "\n",
       "    .dataframe tbody tr th {\n",
       "        vertical-align: top;\n",
       "    }\n",
       "\n",
       "    .dataframe thead tr th {\n",
       "        text-align: left;\n",
       "    }\n",
       "\n",
       "    .dataframe thead tr:last-of-type th {\n",
       "        text-align: right;\n",
       "    }\n",
       "</style>\n",
       "<table border=\"1\" class=\"dataframe\">\n",
       "  <thead>\n",
       "    <tr>\n",
       "      <th>Price</th>\n",
       "      <th>Close</th>\n",
       "      <th>High</th>\n",
       "      <th>Low</th>\n",
       "      <th>Open</th>\n",
       "      <th>Volume</th>\n",
       "    </tr>\n",
       "    <tr>\n",
       "      <th>Ticker</th>\n",
       "      <th>BTC-USD</th>\n",
       "      <th>BTC-USD</th>\n",
       "      <th>BTC-USD</th>\n",
       "      <th>BTC-USD</th>\n",
       "      <th>BTC-USD</th>\n",
       "    </tr>\n",
       "    <tr>\n",
       "      <th>Date</th>\n",
       "      <th></th>\n",
       "      <th></th>\n",
       "      <th></th>\n",
       "      <th></th>\n",
       "      <th></th>\n",
       "    </tr>\n",
       "  </thead>\n",
       "  <tbody>\n",
       "    <tr>\n",
       "      <th>2020-07-01</th>\n",
       "      <td>9228.325195</td>\n",
       "      <td>9309.754883</td>\n",
       "      <td>9104.735352</td>\n",
       "      <td>9145.985352</td>\n",
       "      <td>15971550355</td>\n",
       "    </tr>\n",
       "    <tr>\n",
       "      <th>2020-07-02</th>\n",
       "      <td>9123.410156</td>\n",
       "      <td>9274.962891</td>\n",
       "      <td>9036.623047</td>\n",
       "      <td>9231.139648</td>\n",
       "      <td>16338916796</td>\n",
       "    </tr>\n",
       "    <tr>\n",
       "      <th>2020-07-03</th>\n",
       "      <td>9087.303711</td>\n",
       "      <td>9202.344727</td>\n",
       "      <td>9058.794922</td>\n",
       "      <td>9124.842773</td>\n",
       "      <td>13078970999</td>\n",
       "    </tr>\n",
       "    <tr>\n",
       "      <th>2020-07-04</th>\n",
       "      <td>9132.488281</td>\n",
       "      <td>9183.295898</td>\n",
       "      <td>9053.629883</td>\n",
       "      <td>9084.233398</td>\n",
       "      <td>12290528515</td>\n",
       "    </tr>\n",
       "    <tr>\n",
       "      <th>2020-07-05</th>\n",
       "      <td>9073.942383</td>\n",
       "      <td>9162.183594</td>\n",
       "      <td>8977.015625</td>\n",
       "      <td>9126.090820</td>\n",
       "      <td>12903406143</td>\n",
       "    </tr>\n",
       "  </tbody>\n",
       "</table>\n",
       "</div>"
      ],
      "text/plain": [
       "Price             Close         High          Low         Open       Volume\n",
       "Ticker          BTC-USD      BTC-USD      BTC-USD      BTC-USD      BTC-USD\n",
       "Date                                                                       \n",
       "2020-07-01  9228.325195  9309.754883  9104.735352  9145.985352  15971550355\n",
       "2020-07-02  9123.410156  9274.962891  9036.623047  9231.139648  16338916796\n",
       "2020-07-03  9087.303711  9202.344727  9058.794922  9124.842773  13078970999\n",
       "2020-07-04  9132.488281  9183.295898  9053.629883  9084.233398  12290528515\n",
       "2020-07-05  9073.942383  9162.183594  8977.015625  9126.090820  12903406143"
      ]
     },
     "execution_count": 3,
     "metadata": {},
     "output_type": "execute_result"
    }
   ],
   "source": [
    "btc.head()"
   ]
  },
  {
   "cell_type": "code",
   "execution_count": 4,
   "id": "5627020a",
   "metadata": {},
   "outputs": [
    {
     "data": {
      "text/html": [
       "<div>\n",
       "<style scoped>\n",
       "    .dataframe tbody tr th:only-of-type {\n",
       "        vertical-align: middle;\n",
       "    }\n",
       "\n",
       "    .dataframe tbody tr th {\n",
       "        vertical-align: top;\n",
       "    }\n",
       "\n",
       "    .dataframe thead tr th {\n",
       "        text-align: left;\n",
       "    }\n",
       "\n",
       "    .dataframe thead tr:last-of-type th {\n",
       "        text-align: right;\n",
       "    }\n",
       "</style>\n",
       "<table border=\"1\" class=\"dataframe\">\n",
       "  <thead>\n",
       "    <tr>\n",
       "      <th>Price</th>\n",
       "      <th>Close</th>\n",
       "      <th>High</th>\n",
       "      <th>Low</th>\n",
       "      <th>Open</th>\n",
       "      <th>Volume</th>\n",
       "    </tr>\n",
       "    <tr>\n",
       "      <th>Ticker</th>\n",
       "      <th>BTC-USD</th>\n",
       "      <th>BTC-USD</th>\n",
       "      <th>BTC-USD</th>\n",
       "      <th>BTC-USD</th>\n",
       "      <th>BTC-USD</th>\n",
       "    </tr>\n",
       "    <tr>\n",
       "      <th>Date</th>\n",
       "      <th></th>\n",
       "      <th></th>\n",
       "      <th></th>\n",
       "      <th></th>\n",
       "      <th></th>\n",
       "    </tr>\n",
       "  </thead>\n",
       "  <tbody>\n",
       "    <tr>\n",
       "      <th>2025-07-07</th>\n",
       "      <td>108299.851562</td>\n",
       "      <td>109710.250000</td>\n",
       "      <td>107527.054688</td>\n",
       "      <td>109235.328125</td>\n",
       "      <td>45415696597</td>\n",
       "    </tr>\n",
       "    <tr>\n",
       "      <th>2025-07-08</th>\n",
       "      <td>108950.273438</td>\n",
       "      <td>109198.968750</td>\n",
       "      <td>107499.554688</td>\n",
       "      <td>108298.226562</td>\n",
       "      <td>44282204127</td>\n",
       "    </tr>\n",
       "    <tr>\n",
       "      <th>2025-07-09</th>\n",
       "      <td>111326.554688</td>\n",
       "      <td>111925.375000</td>\n",
       "      <td>108357.679688</td>\n",
       "      <td>108950.273438</td>\n",
       "      <td>57927418065</td>\n",
       "    </tr>\n",
       "    <tr>\n",
       "      <th>2025-07-10</th>\n",
       "      <td>115987.203125</td>\n",
       "      <td>116608.781250</td>\n",
       "      <td>110660.750000</td>\n",
       "      <td>111329.195312</td>\n",
       "      <td>95911605728</td>\n",
       "    </tr>\n",
       "    <tr>\n",
       "      <th>2025-07-11</th>\n",
       "      <td>117516.992188</td>\n",
       "      <td>118856.476562</td>\n",
       "      <td>115245.687500</td>\n",
       "      <td>115986.234375</td>\n",
       "      <td>86928361085</td>\n",
       "    </tr>\n",
       "  </tbody>\n",
       "</table>\n",
       "</div>"
      ],
      "text/plain": [
       "Price               Close           High            Low           Open  \\\n",
       "Ticker            BTC-USD        BTC-USD        BTC-USD        BTC-USD   \n",
       "Date                                                                     \n",
       "2025-07-07  108299.851562  109710.250000  107527.054688  109235.328125   \n",
       "2025-07-08  108950.273438  109198.968750  107499.554688  108298.226562   \n",
       "2025-07-09  111326.554688  111925.375000  108357.679688  108950.273438   \n",
       "2025-07-10  115987.203125  116608.781250  110660.750000  111329.195312   \n",
       "2025-07-11  117516.992188  118856.476562  115245.687500  115986.234375   \n",
       "\n",
       "Price            Volume  \n",
       "Ticker          BTC-USD  \n",
       "Date                     \n",
       "2025-07-07  45415696597  \n",
       "2025-07-08  44282204127  \n",
       "2025-07-09  57927418065  \n",
       "2025-07-10  95911605728  \n",
       "2025-07-11  86928361085  "
      ]
     },
     "execution_count": 4,
     "metadata": {},
     "output_type": "execute_result"
    }
   ],
   "source": [
    "btc.tail()"
   ]
  },
  {
   "cell_type": "code",
   "execution_count": 5,
   "id": "9d78df39",
   "metadata": {},
   "outputs": [
    {
     "data": {
      "text/plain": [
       "MultiIndex([( 'Close', 'BTC-USD'),\n",
       "            (  'High', 'BTC-USD'),\n",
       "            (   'Low', 'BTC-USD'),\n",
       "            (  'Open', 'BTC-USD'),\n",
       "            ('Volume', 'BTC-USD')],\n",
       "           names=['Price', 'Ticker'])"
      ]
     },
     "execution_count": 5,
     "metadata": {},
     "output_type": "execute_result"
    }
   ],
   "source": [
    "btc.columns"
   ]
  },
  {
   "cell_type": "code",
   "execution_count": 6,
   "id": "3bbc21ce",
   "metadata": {},
   "outputs": [
    {
     "data": {
      "text/html": [
       "<div>\n",
       "<style scoped>\n",
       "    .dataframe tbody tr th:only-of-type {\n",
       "        vertical-align: middle;\n",
       "    }\n",
       "\n",
       "    .dataframe tbody tr th {\n",
       "        vertical-align: top;\n",
       "    }\n",
       "\n",
       "    .dataframe thead th {\n",
       "        text-align: right;\n",
       "    }\n",
       "</style>\n",
       "<table border=\"1\" class=\"dataframe\">\n",
       "  <thead>\n",
       "    <tr style=\"text-align: right;\">\n",
       "      <th>Price</th>\n",
       "      <th>Close</th>\n",
       "      <th>High</th>\n",
       "      <th>Low</th>\n",
       "      <th>Open</th>\n",
       "      <th>Volume</th>\n",
       "    </tr>\n",
       "    <tr>\n",
       "      <th>Date</th>\n",
       "      <th></th>\n",
       "      <th></th>\n",
       "      <th></th>\n",
       "      <th></th>\n",
       "      <th></th>\n",
       "    </tr>\n",
       "  </thead>\n",
       "  <tbody>\n",
       "    <tr>\n",
       "      <th>2020-07-01</th>\n",
       "      <td>9228.325195</td>\n",
       "      <td>9309.754883</td>\n",
       "      <td>9104.735352</td>\n",
       "      <td>9145.985352</td>\n",
       "      <td>15971550355</td>\n",
       "    </tr>\n",
       "    <tr>\n",
       "      <th>2020-07-02</th>\n",
       "      <td>9123.410156</td>\n",
       "      <td>9274.962891</td>\n",
       "      <td>9036.623047</td>\n",
       "      <td>9231.139648</td>\n",
       "      <td>16338916796</td>\n",
       "    </tr>\n",
       "    <tr>\n",
       "      <th>2020-07-03</th>\n",
       "      <td>9087.303711</td>\n",
       "      <td>9202.344727</td>\n",
       "      <td>9058.794922</td>\n",
       "      <td>9124.842773</td>\n",
       "      <td>13078970999</td>\n",
       "    </tr>\n",
       "    <tr>\n",
       "      <th>2020-07-04</th>\n",
       "      <td>9132.488281</td>\n",
       "      <td>9183.295898</td>\n",
       "      <td>9053.629883</td>\n",
       "      <td>9084.233398</td>\n",
       "      <td>12290528515</td>\n",
       "    </tr>\n",
       "    <tr>\n",
       "      <th>2020-07-05</th>\n",
       "      <td>9073.942383</td>\n",
       "      <td>9162.183594</td>\n",
       "      <td>8977.015625</td>\n",
       "      <td>9126.090820</td>\n",
       "      <td>12903406143</td>\n",
       "    </tr>\n",
       "  </tbody>\n",
       "</table>\n",
       "</div>"
      ],
      "text/plain": [
       "Price             Close         High          Low         Open       Volume\n",
       "Date                                                                       \n",
       "2020-07-01  9228.325195  9309.754883  9104.735352  9145.985352  15971550355\n",
       "2020-07-02  9123.410156  9274.962891  9036.623047  9231.139648  16338916796\n",
       "2020-07-03  9087.303711  9202.344727  9058.794922  9124.842773  13078970999\n",
       "2020-07-04  9132.488281  9183.295898  9053.629883  9084.233398  12290528515\n",
       "2020-07-05  9073.942383  9162.183594  8977.015625  9126.090820  12903406143"
      ]
     },
     "execution_count": 6,
     "metadata": {},
     "output_type": "execute_result"
    }
   ],
   "source": [
    "# Dropping the lower level columns 'tickers, \"BTC-USD\"'\n",
    "btc.columns = btc.columns.droplevel(1)\n",
    "btc.head()"
   ]
  },
  {
   "cell_type": "code",
   "execution_count": 7,
   "id": "105815ae",
   "metadata": {},
   "outputs": [
    {
     "data": {
      "text/html": [
       "<div>\n",
       "<style scoped>\n",
       "    .dataframe tbody tr th:only-of-type {\n",
       "        vertical-align: middle;\n",
       "    }\n",
       "\n",
       "    .dataframe tbody tr th {\n",
       "        vertical-align: top;\n",
       "    }\n",
       "\n",
       "    .dataframe thead th {\n",
       "        text-align: right;\n",
       "    }\n",
       "</style>\n",
       "<table border=\"1\" class=\"dataframe\">\n",
       "  <thead>\n",
       "    <tr style=\"text-align: right;\">\n",
       "      <th></th>\n",
       "      <th>Close</th>\n",
       "      <th>High</th>\n",
       "      <th>Low</th>\n",
       "      <th>Open</th>\n",
       "      <th>Volume</th>\n",
       "    </tr>\n",
       "    <tr>\n",
       "      <th>Date</th>\n",
       "      <th></th>\n",
       "      <th></th>\n",
       "      <th></th>\n",
       "      <th></th>\n",
       "      <th></th>\n",
       "    </tr>\n",
       "  </thead>\n",
       "  <tbody>\n",
       "    <tr>\n",
       "      <th>2020-07-01</th>\n",
       "      <td>9228.325195</td>\n",
       "      <td>9309.754883</td>\n",
       "      <td>9104.735352</td>\n",
       "      <td>9145.985352</td>\n",
       "      <td>15971550355</td>\n",
       "    </tr>\n",
       "    <tr>\n",
       "      <th>2020-07-02</th>\n",
       "      <td>9123.410156</td>\n",
       "      <td>9274.962891</td>\n",
       "      <td>9036.623047</td>\n",
       "      <td>9231.139648</td>\n",
       "      <td>16338916796</td>\n",
       "    </tr>\n",
       "    <tr>\n",
       "      <th>2020-07-03</th>\n",
       "      <td>9087.303711</td>\n",
       "      <td>9202.344727</td>\n",
       "      <td>9058.794922</td>\n",
       "      <td>9124.842773</td>\n",
       "      <td>13078970999</td>\n",
       "    </tr>\n",
       "    <tr>\n",
       "      <th>2020-07-04</th>\n",
       "      <td>9132.488281</td>\n",
       "      <td>9183.295898</td>\n",
       "      <td>9053.629883</td>\n",
       "      <td>9084.233398</td>\n",
       "      <td>12290528515</td>\n",
       "    </tr>\n",
       "    <tr>\n",
       "      <th>2020-07-05</th>\n",
       "      <td>9073.942383</td>\n",
       "      <td>9162.183594</td>\n",
       "      <td>8977.015625</td>\n",
       "      <td>9126.090820</td>\n",
       "      <td>12903406143</td>\n",
       "    </tr>\n",
       "  </tbody>\n",
       "</table>\n",
       "</div>"
      ],
      "text/plain": [
       "                  Close         High          Low         Open       Volume\n",
       "Date                                                                       \n",
       "2020-07-01  9228.325195  9309.754883  9104.735352  9145.985352  15971550355\n",
       "2020-07-02  9123.410156  9274.962891  9036.623047  9231.139648  16338916796\n",
       "2020-07-03  9087.303711  9202.344727  9058.794922  9124.842773  13078970999\n",
       "2020-07-04  9132.488281  9183.295898  9053.629883  9084.233398  12290528515\n",
       "2020-07-05  9073.942383  9162.183594  8977.015625  9126.090820  12903406143"
      ]
     },
     "execution_count": 7,
     "metadata": {},
     "output_type": "execute_result"
    }
   ],
   "source": [
    "# Setting the column name 'Price' to None\n",
    "btc.columns = btc.columns.set_names(None)\n",
    "btc.head()"
   ]
  },
  {
   "cell_type": "code",
   "execution_count": 8,
   "id": "d5db5e1c",
   "metadata": {},
   "outputs": [
    {
     "name": "stdout",
     "output_type": "stream",
     "text": [
      "<class 'pandas.core.frame.DataFrame'>\n",
      "DatetimeIndex: 1837 entries, 2020-07-01 to 2025-07-11\n",
      "Data columns (total 5 columns):\n",
      " #   Column  Non-Null Count  Dtype  \n",
      "---  ------  --------------  -----  \n",
      " 0   Close   1837 non-null   float64\n",
      " 1   High    1837 non-null   float64\n",
      " 2   Low     1837 non-null   float64\n",
      " 3   Open    1837 non-null   float64\n",
      " 4   Volume  1837 non-null   int64  \n",
      "dtypes: float64(4), int64(1)\n",
      "memory usage: 86.1 KB\n"
     ]
    }
   ],
   "source": [
    "btc.info()"
   ]
  },
  {
   "cell_type": "code",
   "execution_count": 9,
   "id": "03db60cd",
   "metadata": {},
   "outputs": [
    {
     "data": {
      "text/plain": [
       "(1837, 5)"
      ]
     },
     "execution_count": 9,
     "metadata": {},
     "output_type": "execute_result"
    }
   ],
   "source": [
    "btc.shape"
   ]
  },
  {
   "cell_type": "code",
   "execution_count": 10,
   "id": "a559f22f",
   "metadata": {},
   "outputs": [],
   "source": [
    "btc.to_csv(\"btc_data.csv\")"
   ]
  }
 ],
 "metadata": {
  "kernelspec": {
   "display_name": "Python 3",
   "language": "python",
   "name": "python3"
  },
  "language_info": {
   "codemirror_mode": {
    "name": "ipython",
    "version": 3
   },
   "file_extension": ".py",
   "mimetype": "text/x-python",
   "name": "python",
   "nbconvert_exporter": "python",
   "pygments_lexer": "ipython3",
   "version": "3.9.17"
  }
 },
 "nbformat": 4,
 "nbformat_minor": 5
}
