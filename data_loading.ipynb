{
 "cells": [
  {
   "cell_type": "code",
   "execution_count": 2,
   "id": "89a5a7c3",
   "metadata": {},
   "outputs": [],
   "source": [
    "# Importations\n",
    "import yfinance as yf\n",
    "import pandas as pd\n",
    "import warnings\n",
    "\n",
    "warnings.filterwarnings(\"ignore\")"
   ]
  },
  {
   "cell_type": "code",
   "execution_count": 7,
   "id": "58520e44",
   "metadata": {},
   "outputs": [
    {
     "name": "stderr",
     "output_type": "stream",
     "text": [
      "[*********************100%***********************]  1 of 1 completed"
     ]
    },
    {
     "name": "stdout",
     "output_type": "stream",
     "text": [
      "Price             Close         High          Low         Open       Volume\n",
      "Ticker          BTC-USD      BTC-USD      BTC-USD      BTC-USD      BTC-USD\n",
      "Date                                                                       \n",
      "2020-07-01  9228.325195  9309.754883  9104.735352  9145.985352  15971550355\n",
      "2020-07-02  9123.410156  9274.962891  9036.623047  9231.139648  16338916796\n",
      "2020-07-03  9087.303711  9202.344727  9058.794922  9124.842773  13078970999\n",
      "2020-07-04  9132.488281  9183.295898  9053.629883  9084.233398  12290528515\n",
      "2020-07-05  9073.942383  9162.183594  8977.015625  9126.090820  12903406143\n"
     ]
    },
    {
     "name": "stderr",
     "output_type": "stream",
     "text": [
      "\n"
     ]
    }
   ],
   "source": [
    "# Set timeframe\n",
    "start_date = \"2020-07-1\"\n",
    "end_date = \"2025-07-11\"\n",
    "\n",
    "# Getting the btc data\n",
    "btc = yf.download(\"BTC-USD\", start=start_date, end=end_date)\n",
    "\n",
    "print(btc.head())"
   ]
  },
  {
   "cell_type": "code",
   "execution_count": null,
   "id": "657c8654",
   "metadata": {},
   "outputs": [],
   "source": []
  }
 ],
 "metadata": {
  "kernelspec": {
   "display_name": "tfenv",
   "language": "python",
   "name": "python3"
  },
  "language_info": {
   "codemirror_mode": {
    "name": "ipython",
    "version": 3
   },
   "file_extension": ".py",
   "mimetype": "text/x-python",
   "name": "python",
   "nbconvert_exporter": "python",
   "pygments_lexer": "ipython3",
   "version": "3.9.17"
  }
 },
 "nbformat": 4,
 "nbformat_minor": 5
}
