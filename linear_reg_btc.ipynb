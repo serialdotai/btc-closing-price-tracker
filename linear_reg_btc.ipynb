{
 "cells": [
  {
   "cell_type": "code",
   "execution_count": 1,
   "id": "2d7509a4",
   "metadata": {},
   "outputs": [],
   "source": [
    "# Importations\n",
    "import pickle\n",
    "import warnings\n",
    "\n",
    "import pandas as pd\n",
    "import matplotlib.pyplot as plt\n",
    "import plotly.express as px\n",
    "\n",
    "from sklearn.linear_model import LinearRegression\n",
    "from sklearn.metrics import mean_absolute_error\n",
    "\n",
    "warnings.filterwarnings(\"ignore\")"
   ]
  },
  {
   "cell_type": "code",
   "execution_count": 2,
   "id": "db78d27d",
   "metadata": {},
   "outputs": [
    {
     "data": {
      "text/html": [
       "<div>\n",
       "<style scoped>\n",
       "    .dataframe tbody tr th:only-of-type {\n",
       "        vertical-align: middle;\n",
       "    }\n",
       "\n",
       "    .dataframe tbody tr th {\n",
       "        vertical-align: top;\n",
       "    }\n",
       "\n",
       "    .dataframe thead th {\n",
       "        text-align: right;\n",
       "    }\n",
       "</style>\n",
       "<table border=\"1\" class=\"dataframe\">\n",
       "  <thead>\n",
       "    <tr style=\"text-align: right;\">\n",
       "      <th></th>\n",
       "      <th>Date</th>\n",
       "      <th>Close</th>\n",
       "      <th>High</th>\n",
       "      <th>Low</th>\n",
       "      <th>Open</th>\n",
       "      <th>Volume</th>\n",
       "    </tr>\n",
       "  </thead>\n",
       "  <tbody>\n",
       "    <tr>\n",
       "      <th>0</th>\n",
       "      <td>2020-07-01</td>\n",
       "      <td>9228.325195</td>\n",
       "      <td>9309.754883</td>\n",
       "      <td>9104.735352</td>\n",
       "      <td>9145.985352</td>\n",
       "      <td>15971550355</td>\n",
       "    </tr>\n",
       "    <tr>\n",
       "      <th>1</th>\n",
       "      <td>2020-07-02</td>\n",
       "      <td>9123.410156</td>\n",
       "      <td>9274.962891</td>\n",
       "      <td>9036.623047</td>\n",
       "      <td>9231.139648</td>\n",
       "      <td>16338916796</td>\n",
       "    </tr>\n",
       "    <tr>\n",
       "      <th>2</th>\n",
       "      <td>2020-07-03</td>\n",
       "      <td>9087.303711</td>\n",
       "      <td>9202.344727</td>\n",
       "      <td>9058.794922</td>\n",
       "      <td>9124.842773</td>\n",
       "      <td>13078970999</td>\n",
       "    </tr>\n",
       "    <tr>\n",
       "      <th>3</th>\n",
       "      <td>2020-07-04</td>\n",
       "      <td>9132.488281</td>\n",
       "      <td>9183.295898</td>\n",
       "      <td>9053.629883</td>\n",
       "      <td>9084.233398</td>\n",
       "      <td>12290528515</td>\n",
       "    </tr>\n",
       "    <tr>\n",
       "      <th>4</th>\n",
       "      <td>2020-07-05</td>\n",
       "      <td>9073.942383</td>\n",
       "      <td>9162.183594</td>\n",
       "      <td>8977.015625</td>\n",
       "      <td>9126.090820</td>\n",
       "      <td>12903406143</td>\n",
       "    </tr>\n",
       "  </tbody>\n",
       "</table>\n",
       "</div>"
      ],
      "text/plain": [
       "         Date        Close         High          Low         Open       Volume\n",
       "0  2020-07-01  9228.325195  9309.754883  9104.735352  9145.985352  15971550355\n",
       "1  2020-07-02  9123.410156  9274.962891  9036.623047  9231.139648  16338916796\n",
       "2  2020-07-03  9087.303711  9202.344727  9058.794922  9124.842773  13078970999\n",
       "3  2020-07-04  9132.488281  9183.295898  9053.629883  9084.233398  12290528515\n",
       "4  2020-07-05  9073.942383  9162.183594  8977.015625  9126.090820  12903406143"
      ]
     },
     "execution_count": 2,
     "metadata": {},
     "output_type": "execute_result"
    }
   ],
   "source": [
    "# Loading the btc data\n",
    "df = pd.read_csv(\"btc_data.csv\")\n",
    "df.head()"
   ]
  },
  {
   "cell_type": "code",
   "execution_count": 3,
   "id": "2afaed8b",
   "metadata": {},
   "outputs": [
    {
     "data": {
      "text/html": [
       "<div>\n",
       "<style scoped>\n",
       "    .dataframe tbody tr th:only-of-type {\n",
       "        vertical-align: middle;\n",
       "    }\n",
       "\n",
       "    .dataframe tbody tr th {\n",
       "        vertical-align: top;\n",
       "    }\n",
       "\n",
       "    .dataframe thead th {\n",
       "        text-align: right;\n",
       "    }\n",
       "</style>\n",
       "<table border=\"1\" class=\"dataframe\">\n",
       "  <thead>\n",
       "    <tr style=\"text-align: right;\">\n",
       "      <th></th>\n",
       "      <th>Close</th>\n",
       "      <th>High</th>\n",
       "      <th>Low</th>\n",
       "      <th>Open</th>\n",
       "      <th>Volume</th>\n",
       "    </tr>\n",
       "    <tr>\n",
       "      <th>Date</th>\n",
       "      <th></th>\n",
       "      <th></th>\n",
       "      <th></th>\n",
       "      <th></th>\n",
       "      <th></th>\n",
       "    </tr>\n",
       "  </thead>\n",
       "  <tbody>\n",
       "    <tr>\n",
       "      <th>2020-07-01</th>\n",
       "      <td>9228.325195</td>\n",
       "      <td>9309.754883</td>\n",
       "      <td>9104.735352</td>\n",
       "      <td>9145.985352</td>\n",
       "      <td>15971550355</td>\n",
       "    </tr>\n",
       "    <tr>\n",
       "      <th>2020-07-02</th>\n",
       "      <td>9123.410156</td>\n",
       "      <td>9274.962891</td>\n",
       "      <td>9036.623047</td>\n",
       "      <td>9231.139648</td>\n",
       "      <td>16338916796</td>\n",
       "    </tr>\n",
       "    <tr>\n",
       "      <th>2020-07-03</th>\n",
       "      <td>9087.303711</td>\n",
       "      <td>9202.344727</td>\n",
       "      <td>9058.794922</td>\n",
       "      <td>9124.842773</td>\n",
       "      <td>13078970999</td>\n",
       "    </tr>\n",
       "    <tr>\n",
       "      <th>2020-07-04</th>\n",
       "      <td>9132.488281</td>\n",
       "      <td>9183.295898</td>\n",
       "      <td>9053.629883</td>\n",
       "      <td>9084.233398</td>\n",
       "      <td>12290528515</td>\n",
       "    </tr>\n",
       "    <tr>\n",
       "      <th>2020-07-05</th>\n",
       "      <td>9073.942383</td>\n",
       "      <td>9162.183594</td>\n",
       "      <td>8977.015625</td>\n",
       "      <td>9126.090820</td>\n",
       "      <td>12903406143</td>\n",
       "    </tr>\n",
       "  </tbody>\n",
       "</table>\n",
       "</div>"
      ],
      "text/plain": [
       "                  Close         High          Low         Open       Volume\n",
       "Date                                                                       \n",
       "2020-07-01  9228.325195  9309.754883  9104.735352  9145.985352  15971550355\n",
       "2020-07-02  9123.410156  9274.962891  9036.623047  9231.139648  16338916796\n",
       "2020-07-03  9087.303711  9202.344727  9058.794922  9124.842773  13078970999\n",
       "2020-07-04  9132.488281  9183.295898  9053.629883  9084.233398  12290528515\n",
       "2020-07-05  9073.942383  9162.183594  8977.015625  9126.090820  12903406143"
      ]
     },
     "execution_count": 3,
     "metadata": {},
     "output_type": "execute_result"
    }
   ],
   "source": [
    "# Setting the index to date\n",
    "df.set_index(\"Date\", inplace=True)\n",
    "df.head()"
   ]
  },
  {
   "cell_type": "code",
   "execution_count": 4,
   "id": "02edd82c",
   "metadata": {},
   "outputs": [
    {
     "data": {
      "text/plain": [
       "Index(['2020-07-01', '2020-07-02', '2020-07-03', '2020-07-04', '2020-07-05',\n",
       "       '2020-07-06', '2020-07-07', '2020-07-08', '2020-07-09', '2020-07-10',\n",
       "       ...\n",
       "       '2025-07-02', '2025-07-03', '2025-07-04', '2025-07-05', '2025-07-06',\n",
       "       '2025-07-07', '2025-07-08', '2025-07-09', '2025-07-10', '2025-07-11'],\n",
       "      dtype='object', name='Date', length=1837)"
      ]
     },
     "execution_count": 4,
     "metadata": {},
     "output_type": "execute_result"
    }
   ],
   "source": [
    "# Want to check the index type\n",
    "df.index"
   ]
  },
  {
   "cell_type": "code",
   "execution_count": 5,
   "id": "9863c80d",
   "metadata": {},
   "outputs": [
    {
     "data": {
      "text/plain": [
       "DatetimeIndex(['2020-07-01', '2020-07-02', '2020-07-03', '2020-07-04',\n",
       "               '2020-07-05', '2020-07-06', '2020-07-07', '2020-07-08',\n",
       "               '2020-07-09', '2020-07-10',\n",
       "               ...\n",
       "               '2025-07-02', '2025-07-03', '2025-07-04', '2025-07-05',\n",
       "               '2025-07-06', '2025-07-07', '2025-07-08', '2025-07-09',\n",
       "               '2025-07-10', '2025-07-11'],\n",
       "              dtype='datetime64[ns]', name='Date', length=1837, freq=None)"
      ]
     },
     "execution_count": 5,
     "metadata": {},
     "output_type": "execute_result"
    }
   ],
   "source": [
    "# Setting the index type from 'object' to 'datetime'\n",
    "df.index = pd.to_datetime(df.index)\n",
    "df.index"
   ]
  },
  {
   "cell_type": "code",
   "execution_count": 6,
   "id": "4e76abe3",
   "metadata": {},
   "outputs": [
    {
     "data": {
      "text/plain": [
       "DatetimeIndex(['2020-06-30 17:00:00-07:00', '2020-07-01 17:00:00-07:00',\n",
       "               '2020-07-02 17:00:00-07:00', '2020-07-03 17:00:00-07:00',\n",
       "               '2020-07-04 17:00:00-07:00', '2020-07-05 17:00:00-07:00',\n",
       "               '2020-07-06 17:00:00-07:00', '2020-07-07 17:00:00-07:00',\n",
       "               '2020-07-08 17:00:00-07:00', '2020-07-09 17:00:00-07:00',\n",
       "               ...\n",
       "               '2025-07-01 17:00:00-07:00', '2025-07-02 17:00:00-07:00',\n",
       "               '2025-07-03 17:00:00-07:00', '2025-07-04 17:00:00-07:00',\n",
       "               '2025-07-05 17:00:00-07:00', '2025-07-06 17:00:00-07:00',\n",
       "               '2025-07-07 17:00:00-07:00', '2025-07-08 17:00:00-07:00',\n",
       "               '2025-07-09 17:00:00-07:00', '2025-07-10 17:00:00-07:00'],\n",
       "              dtype='datetime64[ns, America/Los_Angeles]', name='Date', length=1837, freq=None)"
      ]
     },
     "execution_count": 6,
     "metadata": {},
     "output_type": "execute_result"
    }
   ],
   "source": [
    "# Localising the index\n",
    "df.index = df.index.tz_localize(\"UTC\").tz_convert(\"America/Los_Angeles\")\n",
    "df.index"
   ]
  },
  {
   "cell_type": "code",
   "execution_count": 7,
   "id": "23213ff7",
   "metadata": {},
   "outputs": [
    {
     "data": {
      "text/html": [
       "<div>\n",
       "<style scoped>\n",
       "    .dataframe tbody tr th:only-of-type {\n",
       "        vertical-align: middle;\n",
       "    }\n",
       "\n",
       "    .dataframe tbody tr th {\n",
       "        vertical-align: top;\n",
       "    }\n",
       "\n",
       "    .dataframe thead th {\n",
       "        text-align: right;\n",
       "    }\n",
       "</style>\n",
       "<table border=\"1\" class=\"dataframe\">\n",
       "  <thead>\n",
       "    <tr style=\"text-align: right;\">\n",
       "      <th></th>\n",
       "      <th>Close</th>\n",
       "      <th>High</th>\n",
       "      <th>Low</th>\n",
       "      <th>Open</th>\n",
       "      <th>Volume</th>\n",
       "    </tr>\n",
       "    <tr>\n",
       "      <th>Date</th>\n",
       "      <th></th>\n",
       "      <th></th>\n",
       "      <th></th>\n",
       "      <th></th>\n",
       "      <th></th>\n",
       "    </tr>\n",
       "  </thead>\n",
       "  <tbody>\n",
       "    <tr>\n",
       "      <th>2020-06-30 17:00:00-07:00</th>\n",
       "      <td>9228.325195</td>\n",
       "      <td>9309.754883</td>\n",
       "      <td>9104.735352</td>\n",
       "      <td>9145.985352</td>\n",
       "      <td>15971550355</td>\n",
       "    </tr>\n",
       "    <tr>\n",
       "      <th>2020-07-01 17:00:00-07:00</th>\n",
       "      <td>9123.410156</td>\n",
       "      <td>9274.962891</td>\n",
       "      <td>9036.623047</td>\n",
       "      <td>9231.139648</td>\n",
       "      <td>16338916796</td>\n",
       "    </tr>\n",
       "    <tr>\n",
       "      <th>2020-07-02 17:00:00-07:00</th>\n",
       "      <td>9087.303711</td>\n",
       "      <td>9202.344727</td>\n",
       "      <td>9058.794922</td>\n",
       "      <td>9124.842773</td>\n",
       "      <td>13078970999</td>\n",
       "    </tr>\n",
       "    <tr>\n",
       "      <th>2020-07-03 17:00:00-07:00</th>\n",
       "      <td>9132.488281</td>\n",
       "      <td>9183.295898</td>\n",
       "      <td>9053.629883</td>\n",
       "      <td>9084.233398</td>\n",
       "      <td>12290528515</td>\n",
       "    </tr>\n",
       "    <tr>\n",
       "      <th>2020-07-04 17:00:00-07:00</th>\n",
       "      <td>9073.942383</td>\n",
       "      <td>9162.183594</td>\n",
       "      <td>8977.015625</td>\n",
       "      <td>9126.090820</td>\n",
       "      <td>12903406143</td>\n",
       "    </tr>\n",
       "  </tbody>\n",
       "</table>\n",
       "</div>"
      ],
      "text/plain": [
       "                                 Close         High          Low         Open  \\\n",
       "Date                                                                            \n",
       "2020-06-30 17:00:00-07:00  9228.325195  9309.754883  9104.735352  9145.985352   \n",
       "2020-07-01 17:00:00-07:00  9123.410156  9274.962891  9036.623047  9231.139648   \n",
       "2020-07-02 17:00:00-07:00  9087.303711  9202.344727  9058.794922  9124.842773   \n",
       "2020-07-03 17:00:00-07:00  9132.488281  9183.295898  9053.629883  9084.233398   \n",
       "2020-07-04 17:00:00-07:00  9073.942383  9162.183594  8977.015625  9126.090820   \n",
       "\n",
       "                                Volume  \n",
       "Date                                    \n",
       "2020-06-30 17:00:00-07:00  15971550355  \n",
       "2020-07-01 17:00:00-07:00  16338916796  \n",
       "2020-07-02 17:00:00-07:00  13078970999  \n",
       "2020-07-03 17:00:00-07:00  12290528515  \n",
       "2020-07-04 17:00:00-07:00  12903406143  "
      ]
     },
     "execution_count": 7,
     "metadata": {},
     "output_type": "execute_result"
    }
   ],
   "source": [
    "df.head()"
   ]
  },
  {
   "cell_type": "code",
   "execution_count": 8,
   "id": "01fcf3ca",
   "metadata": {},
   "outputs": [
    {
     "data": {
      "text/html": [
       "<div>\n",
       "<style scoped>\n",
       "    .dataframe tbody tr th:only-of-type {\n",
       "        vertical-align: middle;\n",
       "    }\n",
       "\n",
       "    .dataframe tbody tr th {\n",
       "        vertical-align: top;\n",
       "    }\n",
       "\n",
       "    .dataframe thead th {\n",
       "        text-align: right;\n",
       "    }\n",
       "</style>\n",
       "<table border=\"1\" class=\"dataframe\">\n",
       "  <thead>\n",
       "    <tr style=\"text-align: right;\">\n",
       "      <th></th>\n",
       "      <th>Close</th>\n",
       "    </tr>\n",
       "    <tr>\n",
       "      <th>Date</th>\n",
       "      <th></th>\n",
       "    </tr>\n",
       "  </thead>\n",
       "  <tbody>\n",
       "    <tr>\n",
       "      <th>2020-06-30 17:00:00-07:00</th>\n",
       "      <td>9228.325195</td>\n",
       "    </tr>\n",
       "    <tr>\n",
       "      <th>2020-07-01 17:00:00-07:00</th>\n",
       "      <td>9123.410156</td>\n",
       "    </tr>\n",
       "    <tr>\n",
       "      <th>2020-07-02 17:00:00-07:00</th>\n",
       "      <td>9087.303711</td>\n",
       "    </tr>\n",
       "    <tr>\n",
       "      <th>2020-07-03 17:00:00-07:00</th>\n",
       "      <td>9132.488281</td>\n",
       "    </tr>\n",
       "    <tr>\n",
       "      <th>2020-07-04 17:00:00-07:00</th>\n",
       "      <td>9073.942383</td>\n",
       "    </tr>\n",
       "  </tbody>\n",
       "</table>\n",
       "</div>"
      ],
      "text/plain": [
       "                                 Close\n",
       "Date                                  \n",
       "2020-06-30 17:00:00-07:00  9228.325195\n",
       "2020-07-01 17:00:00-07:00  9123.410156\n",
       "2020-07-02 17:00:00-07:00  9087.303711\n",
       "2020-07-03 17:00:00-07:00  9132.488281\n",
       "2020-07-04 17:00:00-07:00  9073.942383"
      ]
     },
     "execution_count": 8,
     "metadata": {},
     "output_type": "execute_result"
    }
   ],
   "source": [
    "# Dropping the columns we wont be using\n",
    "df.drop(columns=[\"High\", \"Low\", \"Open\", \"Volume\"], inplace=True)\n",
    "df.head()"
   ]
  },
  {
   "cell_type": "code",
   "execution_count": 9,
   "id": "1c77a3ea",
   "metadata": {},
   "outputs": [
    {
     "data": {
      "text/plain": [
       "(1837, 1)"
      ]
     },
     "execution_count": 9,
     "metadata": {},
     "output_type": "execute_result"
    }
   ],
   "source": [
    "df.shape"
   ]
  },
  {
   "cell_type": "code",
   "execution_count": 10,
   "id": "498b649c",
   "metadata": {},
   "outputs": [
    {
     "data": {
      "image/png": "[encoded data removed]",
      "text/plain": [
       "<Figure size 1500x600 with 1 Axes>"
      ]
     },
     "metadata": {},
     "output_type": "display_data"
    }
   ],
   "source": [
    "# Visualizing the distribution of closing price\n",
    "fig, ax = plt.subplots(figsize=(15, 6))\n",
    "df[\"Close\"].plot(\n",
    "    kind=\"box\",\n",
    "    vert=False,\n",
    "    title=\"Distribution of BTC Closing Price\",\n",
    "    ax=ax);"
   ]
  },
  {
   "cell_type": "code",
   "execution_count": 11,
   "id": "28168afa",
   "metadata": {},
   "outputs": [
    {
     "data": {
      "image/png": "[encoded data removed]",
      "text/plain": [
       "<Figure size 1500x600 with 1 Axes>"
      ]
     },
     "metadata": {},
     "output_type": "display_data"
    }
   ],
   "source": [
    "# Visualizing the time series trend of closing price\n",
    "fig, ax = plt.subplots(figsize=(15, 6))\n",
    "df[\"Close\"].plot(xlabel=\"Time\", ylabel=\"Cloaing Price\", title=\"BTC Time Series\", ax=ax);"
   ]
  },
  {
   "cell_type": "code",
   "execution_count": 12,
   "id": "70018039",
   "metadata": {},
   "outputs": [
    {
     "data": {
      "text/plain": [
       "Date\n",
       "2025-07-06 17:00:00-07:00    106649.347396\n",
       "2025-07-07 17:00:00-07:00    106754.568229\n",
       "2025-07-08 17:00:00-07:00    106788.983333\n",
       "2025-07-09 17:00:00-07:00    106979.982292\n",
       "2025-07-10 17:00:00-07:00    107274.327865\n",
       "Name: Close, dtype: float64"
      ]
     },
     "execution_count": 12,
     "metadata": {},
     "output_type": "execute_result"
    }
   ],
   "source": [
    "# Performing rolling average to get a better view of the data\n",
    "df[\"Close\"].rolling(30, min_periods=1).mean().tail()"
   ]
  },
  {
   "cell_type": "code",
   "execution_count": 13,
   "id": "864bbe58",
   "metadata": {},
   "outputs": [
    {
     "data": {
      "image/png": "[encoded data removed]",
      "text/plain": [
       "<Figure size 1500x600 with 1 Axes>"
      ]
     },
     "metadata": {},
     "output_type": "display_data"
    }
   ],
   "source": [
    "# Plotting the rolling average\n",
    "fig, ax = plt.subplots(figsize=(15, 6))\n",
    "df[\"Close\"].rolling(30, min_periods=1).mean().plot(ax=ax, ylabel=\"Closing Price\", title=\"BTC Monthly Rollung Average\");"
   ]
  },
  {
   "cell_type": "code",
   "execution_count": 14,
   "id": "1635742f",
   "metadata": {},
   "outputs": [
    {
     "data": {
      "text/html": [
       "<div>\n",
       "<style scoped>\n",
       "    .dataframe tbody tr th:only-of-type {\n",
       "        vertical-align: middle;\n",
       "    }\n",
       "\n",
       "    .dataframe tbody tr th {\n",
       "        vertical-align: top;\n",
       "    }\n",
       "\n",
       "    .dataframe thead th {\n",
       "        text-align: right;\n",
       "    }\n",
       "</style>\n",
       "<table border=\"1\" class=\"dataframe\">\n",
       "  <thead>\n",
       "    <tr style=\"text-align: right;\">\n",
       "      <th></th>\n",
       "      <th>Close</th>\n",
       "      <th>Close_1</th>\n",
       "    </tr>\n",
       "    <tr>\n",
       "      <th>Date</th>\n",
       "      <th></th>\n",
       "      <th></th>\n",
       "    </tr>\n",
       "  </thead>\n",
       "  <tbody>\n",
       "    <tr>\n",
       "      <th>2020-07-01 17:00:00-07:00</th>\n",
       "      <td>9123.410156</td>\n",
       "      <td>9228.325195</td>\n",
       "    </tr>\n",
       "    <tr>\n",
       "      <th>2020-07-02 17:00:00-07:00</th>\n",
       "      <td>9087.303711</td>\n",
       "      <td>9123.410156</td>\n",
       "    </tr>\n",
       "    <tr>\n",
       "      <th>2020-07-03 17:00:00-07:00</th>\n",
       "      <td>9132.488281</td>\n",
       "      <td>9087.303711</td>\n",
       "    </tr>\n",
       "    <tr>\n",
       "      <th>2020-07-04 17:00:00-07:00</th>\n",
       "      <td>9073.942383</td>\n",
       "      <td>9132.488281</td>\n",
       "    </tr>\n",
       "    <tr>\n",
       "      <th>2020-07-05 17:00:00-07:00</th>\n",
       "      <td>9375.474609</td>\n",
       "      <td>9073.942383</td>\n",
       "    </tr>\n",
       "  </tbody>\n",
       "</table>\n",
       "</div>"
      ],
      "text/plain": [
       "                                 Close      Close_1\n",
       "Date                                               \n",
       "2020-07-01 17:00:00-07:00  9123.410156  9228.325195\n",
       "2020-07-02 17:00:00-07:00  9087.303711  9123.410156\n",
       "2020-07-03 17:00:00-07:00  9132.488281  9087.303711\n",
       "2020-07-04 17:00:00-07:00  9073.942383  9132.488281\n",
       "2020-07-05 17:00:00-07:00  9375.474609  9073.942383"
      ]
     },
     "execution_count": 14,
     "metadata": {},
     "output_type": "execute_result"
    }
   ],
   "source": [
    "# Creating a target column using shift()\n",
    "df[\"Close_1\"] = df[\"Close\"].shift(1)\n",
    "df.dropna(inplace=True)\n",
    "df.head()"
   ]
  },
  {
   "cell_type": "code",
   "execution_count": 15,
   "id": "0e11e11e",
   "metadata": {},
   "outputs": [
    {
     "data": {
      "text/plain": [
       "0.9983327719359123"
      ]
     },
     "execution_count": 15,
     "metadata": {},
     "output_type": "execute_result"
    }
   ],
   "source": [
    "# Checking correlation\n",
    "df[\"Close\"].corr(df[\"Close_1\"])\n",
    "df[\"Close\"].corr(df[\"Close_1\"])"
   ]
  },
  {
   "cell_type": "code",
   "execution_count": 16,
   "id": "d8d91f95",
   "metadata": {},
   "outputs": [
    {
     "data": {
      "text/html": [
       "<div>\n",
       "<style scoped>\n",
       "    .dataframe tbody tr th:only-of-type {\n",
       "        vertical-align: middle;\n",
       "    }\n",
       "\n",
       "    .dataframe tbody tr th {\n",
       "        vertical-align: top;\n",
       "    }\n",
       "\n",
       "    .dataframe thead th {\n",
       "        text-align: right;\n",
       "    }\n",
       "</style>\n",
       "<table border=\"1\" class=\"dataframe\">\n",
       "  <thead>\n",
       "    <tr style=\"text-align: right;\">\n",
       "      <th></th>\n",
       "      <th>Close</th>\n",
       "      <th>Close_1</th>\n",
       "    </tr>\n",
       "  </thead>\n",
       "  <tbody>\n",
       "    <tr>\n",
       "      <th>Close</th>\n",
       "      <td>1.000000</td>\n",
       "      <td>0.998333</td>\n",
       "    </tr>\n",
       "    <tr>\n",
       "      <th>Close_1</th>\n",
       "      <td>0.998333</td>\n",
       "      <td>1.000000</td>\n",
       "    </tr>\n",
       "  </tbody>\n",
       "</table>\n",
       "</div>"
      ],
      "text/plain": [
       "            Close   Close_1\n",
       "Close    1.000000  0.998333\n",
       "Close_1  0.998333  1.000000"
      ]
     },
     "execution_count": 16,
     "metadata": {},
     "output_type": "execute_result"
    }
   ],
   "source": [
    "# Checking total correlations\n",
    "df.corr()"
   ]
  },
  {
   "cell_type": "code",
   "execution_count": 17,
   "id": "fa3eb646",
   "metadata": {},
   "outputs": [
    {
     "data": {
      "image/png": "[encoded data removed]",
      "text/plain": [
       "<Figure size 600x600 with 1 Axes>"
      ]
     },
     "metadata": {},
     "output_type": "display_data"
    }
   ],
   "source": [
    "# Plotting the whole correlation\n",
    "fig, ax = plt.subplots(figsize=(6,6))\n",
    "ax.scatter(x=df[\"Close_1\"], y=df[\"Close\"])\n",
    "ax.plot([0, 120000], [0, 120000], linestyle=\"--\", color=\"orange\")\n",
    "plt.xlabel(\"Close_1\")\n",
    "plt.ylabel(\"Close\")\n",
    "plt.title(\"BTC Autocorrelation\");"
   ]
  },
  {
   "cell_type": "code",
   "execution_count": 18,
   "id": "7ef2f021",
   "metadata": {},
   "outputs": [],
   "source": [
    "# Creating our feature matrix (X) and target vector (y) (Vertical split)\n",
    "target = \"Close_1\"\n",
    "y = df[target]\n",
    "X = df.drop(columns=target)"
   ]
  },
  {
   "cell_type": "code",
   "execution_count": 19,
   "id": "f682e1a5",
   "metadata": {},
   "outputs": [
    {
     "data": {
      "text/html": [
       "<div>\n",
       "<style scoped>\n",
       "    .dataframe tbody tr th:only-of-type {\n",
       "        vertical-align: middle;\n",
       "    }\n",
       "\n",
       "    .dataframe tbody tr th {\n",
       "        vertical-align: top;\n",
       "    }\n",
       "\n",
       "    .dataframe thead th {\n",
       "        text-align: right;\n",
       "    }\n",
       "</style>\n",
       "<table border=\"1\" class=\"dataframe\">\n",
       "  <thead>\n",
       "    <tr style=\"text-align: right;\">\n",
       "      <th></th>\n",
       "      <th>Close</th>\n",
       "    </tr>\n",
       "    <tr>\n",
       "      <th>Date</th>\n",
       "      <th></th>\n",
       "    </tr>\n",
       "  </thead>\n",
       "  <tbody>\n",
       "    <tr>\n",
       "      <th>2020-07-01 17:00:00-07:00</th>\n",
       "      <td>9123.410156</td>\n",
       "    </tr>\n",
       "    <tr>\n",
       "      <th>2020-07-02 17:00:00-07:00</th>\n",
       "      <td>9087.303711</td>\n",
       "    </tr>\n",
       "    <tr>\n",
       "      <th>2020-07-03 17:00:00-07:00</th>\n",
       "      <td>9132.488281</td>\n",
       "    </tr>\n",
       "    <tr>\n",
       "      <th>2020-07-04 17:00:00-07:00</th>\n",
       "      <td>9073.942383</td>\n",
       "    </tr>\n",
       "    <tr>\n",
       "      <th>2020-07-05 17:00:00-07:00</th>\n",
       "      <td>9375.474609</td>\n",
       "    </tr>\n",
       "  </tbody>\n",
       "</table>\n",
       "</div>"
      ],
      "text/plain": [
       "                                 Close\n",
       "Date                                  \n",
       "2020-07-01 17:00:00-07:00  9123.410156\n",
       "2020-07-02 17:00:00-07:00  9087.303711\n",
       "2020-07-03 17:00:00-07:00  9132.488281\n",
       "2020-07-04 17:00:00-07:00  9073.942383\n",
       "2020-07-05 17:00:00-07:00  9375.474609"
      ]
     },
     "execution_count": 19,
     "metadata": {},
     "output_type": "execute_result"
    }
   ],
   "source": [
    "X.head()"
   ]
  },
  {
   "cell_type": "code",
   "execution_count": 20,
   "id": "71afce05",
   "metadata": {},
   "outputs": [],
   "source": [
    "# Creating out horizontal split (80% for training, 20% for testing)\n",
    "cutoff = int(len(X) * 0.8)\n",
    "\n",
    "X_train, y_train = X.iloc[:cutoff], y.iloc[:cutoff]\n",
    "X_test, y_test = X.iloc[cutoff:], y.iloc[cutoff:]"
   ]
  },
  {
   "cell_type": "code",
   "execution_count": 21,
   "id": "4451fdf6",
   "metadata": {},
   "outputs": [
    {
     "name": "stdout",
     "output_type": "stream",
     "text": [
      "True\n",
      "True\n"
     ]
    }
   ],
   "source": [
    "# Checking split accuracy\n",
    "print(len(X_train) + len(X_test) == len(X))\n",
    "print(len(y_train) + len(y_test) == len(y))"
   ]
  },
  {
   "cell_type": "code",
   "execution_count": 22,
   "id": "d1e07f87",
   "metadata": {},
   "outputs": [
    {
     "name": "stdout",
     "output_type": "stream",
     "text": [
      "Mean Close Reading: 35376.87\n",
      "MAE Baseline: 13763.42\n"
     ]
    }
   ],
   "source": [
    "# Checking mean absolute error baseline\n",
    "y_mean = y_train.mean()\n",
    "y_pred_baseline = [y_mean] * len(y_train)\n",
    "mae_baseline = mean_absolute_error(y_train, y_pred_baseline)\n",
    "\n",
    "print(\"Mean Close Reading:\", round(y_mean, 2))\n",
    "print(\"MAE Baseline:\", round(mae_baseline, 2))"
   ]
  },
  {
   "cell_type": "code",
   "execution_count": 23,
   "id": "6073fa67",
   "metadata": {},
   "outputs": [
    {
     "data": {
      "text/html": [
       "<style>#sk-container-id-1 {color: black;background-color: white;}#sk-container-id-1 pre{padding: 0;}#sk-container-id-1 div.sk-toggleable {background-color: white;}#sk-container-id-1 label.sk-toggleable__label {cursor: pointer;display: block;width: 100%;margin-bottom: 0;padding: 0.3em;box-sizing: border-box;text-align: center;}#sk-container-id-1 label.sk-toggleable__label-arrow:before {content: \"▸\";float: left;margin-right: 0.25em;color: #696969;}#sk-container-id-1 label.sk-toggleable__label-arrow:hover:before {color: black;}#sk-container-id-1 div.sk-estimator:hover label.sk-toggleable__label-arrow:before {color: black;}#sk-container-id-1 div.sk-toggleable__content {max-height: 0;max-width: 0;overflow: hidden;text-align: left;background-color: #f0f8ff;}#sk-container-id-1 div.sk-toggleable__content pre {margin: 0.2em;color: black;border-radius: 0.25em;background-color: #f0f8ff;}#sk-container-id-1 input.sk-toggleable__control:checked~div.sk-toggleable__content {max-height: 200px;max-width: 100%;overflow: auto;}#sk-container-id-1 input.sk-toggleable__control:checked~label.sk-toggleable__label-arrow:before {content: \"▾\";}#sk-container-id-1 div.sk-estimator input.sk-toggleable__control:checked~label.sk-toggleable__label {background-color: #d4ebff;}#sk-container-id-1 div.sk-label input.sk-toggleable__control:checked~label.sk-toggleable__label {background-color: #d4ebff;}#sk-container-id-1 input.sk-hidden--visually {border: 0;clip: rect(1px 1px 1px 1px);clip: rect(1px, 1px, 1px, 1px);height: 1px;margin: -1px;overflow: hidden;padding: 0;position: absolute;width: 1px;}#sk-container-id-1 div.sk-estimator {font-family: monospace;background-color: #f0f8ff;border: 1px dotted black;border-radius: 0.25em;box-sizing: border-box;margin-bottom: 0.5em;}#sk-container-id-1 div.sk-estimator:hover {background-color: #d4ebff;}#sk-container-id-1 div.sk-parallel-item::after {content: \"\";width: 100%;border-bottom: 1px solid gray;flex-grow: 1;}#sk-container-id-1 div.sk-label:hover label.sk-toggleable__label {background-color: #d4ebff;}#sk-container-id-1 div.sk-serial::before {content: \"\";position: absolute;border-left: 1px solid gray;box-sizing: border-box;top: 0;bottom: 0;left: 50%;z-index: 0;}#sk-container-id-1 div.sk-serial {display: flex;flex-direction: column;align-items: center;background-color: white;padding-right: 0.2em;padding-left: 0.2em;position: relative;}#sk-container-id-1 div.sk-item {position: relative;z-index: 1;}#sk-container-id-1 div.sk-parallel {display: flex;align-items: stretch;justify-content: center;background-color: white;position: relative;}#sk-container-id-1 div.sk-item::before, #sk-container-id-1 div.sk-parallel-item::before {content: \"\";position: absolute;border-left: 1px solid gray;box-sizing: border-box;top: 0;bottom: 0;left: 50%;z-index: -1;}#sk-container-id-1 div.sk-parallel-item {display: flex;flex-direction: column;z-index: 1;position: relative;background-color: white;}#sk-container-id-1 div.sk-parallel-item:first-child::after {align-self: flex-end;width: 50%;}#sk-container-id-1 div.sk-parallel-item:last-child::after {align-self: flex-start;width: 50%;}#sk-container-id-1 div.sk-parallel-item:only-child::after {width: 0;}#sk-container-id-1 div.sk-dashed-wrapped {border: 1px dashed gray;margin: 0 0.4em 0.5em 0.4em;box-sizing: border-box;padding-bottom: 0.4em;background-color: white;}#sk-container-id-1 div.sk-label label {font-family: monospace;font-weight: bold;display: inline-block;line-height: 1.2em;}#sk-container-id-1 div.sk-label-container {text-align: center;}#sk-container-id-1 div.sk-container {/* jupyter's `normalize.less` sets `[hidden] { display: none; }` but bootstrap.min.css set `[hidden] { display: none !important; }` so we also need the `!important` here to be able to override the default hidden behavior on the sphinx rendered scikit-learn.org. See: https://github.com/scikit-learn/scikit-learn/issues/21755 */display: inline-block !important;position: relative;}#sk-container-id-1 div.sk-text-repr-fallback {display: none;}</style><div id=\"sk-container-id-1\" class=\"sk-top-container\"><div class=\"sk-text-repr-fallback\"><pre>LinearRegression()</pre><b>In a Jupyter environment, please rerun this cell to show the HTML representation or trust the notebook. <br />On GitHub, the HTML representation is unable to render, please try loading this page with nbviewer.org.</b></div><div class=\"sk-container\" hidden><div class=\"sk-item\"><div class=\"sk-estimator sk-toggleable\"><input class=\"sk-toggleable__control sk-hidden--visually\" id=\"sk-estimator-id-1\" type=\"checkbox\" checked><label for=\"sk-estimator-id-1\" class=\"sk-toggleable__label sk-toggleable__label-arrow\">LinearRegression</label><div class=\"sk-toggleable__content\"><pre>LinearRegression()</pre></div></div></div></div></div>"
      ],
      "text/plain": [
       "LinearRegression()"
      ]
     },
     "execution_count": 23,
     "metadata": {},
     "output_type": "execute_result"
    }
   ],
   "source": [
    "# Training the model\n",
    "model = LinearRegression()\n",
    "model.fit(X_train, y_train)"
   ]
  },
  {
   "cell_type": "code",
   "execution_count": 24,
   "id": "889344bb",
   "metadata": {},
   "outputs": [
    {
     "name": "stdout",
     "output_type": "stream",
     "text": [
      "Training MAE: 825.8892174336655\n",
      "Test MAE: 1516.7719858053592\n"
     ]
    }
   ],
   "source": [
    "# Train and test MAE\n",
    "training_mae = mean_absolute_error(y_train, model.predict(X_train))\n",
    "test_mae = mean_absolute_error(y_test, model.predict(X_test))\n",
    "\n",
    "print(\"Training MAE:\", training_mae)\n",
    "print(\"Test MAE:\", test_mae)"
   ]
  },
  {
   "cell_type": "code",
   "execution_count": 25,
   "id": "fa0d60fe",
   "metadata": {},
   "outputs": [
    {
     "name": "stdout",
     "output_type": "stream",
     "text": [
      "Close = 68.93861181251123 + ([0.99713973] * Close_1)\n",
      "Model Accuracy: 0.9937043993532116\n"
     ]
    }
   ],
   "source": [
    "# Getting model stats, 'y = b + mx'\n",
    "intercept = model.intercept_\n",
    "coefficient = model.coef_\n",
    "model_acc = model.score(X_train, y_train)\n",
    "\n",
    "print(f\"Close = {intercept} + ({coefficient} * Close_1)\")\n",
    "print(f\"Model Accuracy:\", model_acc)"
   ]
  },
  {
   "cell_type": "code",
   "execution_count": 26,
   "id": "571e77b6",
   "metadata": {},
   "outputs": [
    {
     "data": {
      "text/html": [
       "<div>\n",
       "<style scoped>\n",
       "    .dataframe tbody tr th:only-of-type {\n",
       "        vertical-align: middle;\n",
       "    }\n",
       "\n",
       "    .dataframe tbody tr th {\n",
       "        vertical-align: top;\n",
       "    }\n",
       "\n",
       "    .dataframe thead th {\n",
       "        text-align: right;\n",
       "    }\n",
       "</style>\n",
       "<table border=\"1\" class=\"dataframe\">\n",
       "  <thead>\n",
       "    <tr style=\"text-align: right;\">\n",
       "      <th></th>\n",
       "      <th>y_test</th>\n",
       "      <th>y_predict</th>\n",
       "    </tr>\n",
       "    <tr>\n",
       "      <th>Date</th>\n",
       "      <th></th>\n",
       "      <th></th>\n",
       "    </tr>\n",
       "  </thead>\n",
       "  <tbody>\n",
       "    <tr>\n",
       "      <th>2024-07-08 17:00:00-07:00</th>\n",
       "      <td>56705.097656</td>\n",
       "      <td>57912.243404</td>\n",
       "    </tr>\n",
       "    <tr>\n",
       "      <th>2024-07-09 17:00:00-07:00</th>\n",
       "      <td>58009.226562</td>\n",
       "      <td>57646.275855</td>\n",
       "    </tr>\n",
       "    <tr>\n",
       "      <th>2024-07-10 17:00:00-07:00</th>\n",
       "      <td>57742.496094</td>\n",
       "      <td>57249.831014</td>\n",
       "    </tr>\n",
       "    <tr>\n",
       "      <th>2024-07-11 17:00:00-07:00</th>\n",
       "      <td>57344.914062</td>\n",
       "      <td>57802.795633</td>\n",
       "    </tr>\n",
       "    <tr>\n",
       "      <th>2024-07-12 17:00:00-07:00</th>\n",
       "      <td>57899.464844</td>\n",
       "      <td>59131.472644</td>\n",
       "    </tr>\n",
       "  </tbody>\n",
       "</table>\n",
       "</div>"
      ],
      "text/plain": [
       "                                 y_test     y_predict\n",
       "Date                                                 \n",
       "2024-07-08 17:00:00-07:00  56705.097656  57912.243404\n",
       "2024-07-09 17:00:00-07:00  58009.226562  57646.275855\n",
       "2024-07-10 17:00:00-07:00  57742.496094  57249.831014\n",
       "2024-07-11 17:00:00-07:00  57344.914062  57802.795633\n",
       "2024-07-12 17:00:00-07:00  57899.464844  59131.472644"
      ]
     },
     "execution_count": 26,
     "metadata": {},
     "output_type": "execute_result"
    }
   ],
   "source": [
    "# Creating test and prediction dataframe\n",
    "df_pred_test = pd.DataFrame({\n",
    "    \"y_test\": y_test,\n",
    "    \"y_predict\": model.predict(X_test)\n",
    "})\n",
    "\n",
    "df_pred_test.head()"
   ]
  },
  {
   "cell_type": "code",
   "execution_count": 27,
   "id": "b3ae394e",
   "metadata": {},
   "outputs": [
    {
     "data": {
      "text/html": [
       "<div>\n",
       "<style scoped>\n",
       "    .dataframe tbody tr th:only-of-type {\n",
       "        vertical-align: middle;\n",
       "    }\n",
       "\n",
       "    .dataframe tbody tr th {\n",
       "        vertical-align: top;\n",
       "    }\n",
       "\n",
       "    .dataframe thead th {\n",
       "        text-align: right;\n",
       "    }\n",
       "</style>\n",
       "<table border=\"1\" class=\"dataframe\">\n",
       "  <thead>\n",
       "    <tr style=\"text-align: right;\">\n",
       "      <th></th>\n",
       "      <th>y_test</th>\n",
       "      <th>y_predict</th>\n",
       "    </tr>\n",
       "    <tr>\n",
       "      <th>Date</th>\n",
       "      <th></th>\n",
       "      <th></th>\n",
       "    </tr>\n",
       "  </thead>\n",
       "  <tbody>\n",
       "    <tr>\n",
       "      <th>2025-07-06 17:00:00-07:00</th>\n",
       "      <td>109232.070312</td>\n",
       "      <td>108059.023881</td>\n",
       "    </tr>\n",
       "    <tr>\n",
       "      <th>2025-07-07 17:00:00-07:00</th>\n",
       "      <td>108299.851562</td>\n",
       "      <td>108707.585377</td>\n",
       "    </tr>\n",
       "    <tr>\n",
       "      <th>2025-07-08 17:00:00-07:00</th>\n",
       "      <td>108950.273438</td>\n",
       "      <td>111077.069832</td>\n",
       "    </tr>\n",
       "    <tr>\n",
       "      <th>2025-07-09 17:00:00-07:00</th>\n",
       "      <td>111326.554688</td>\n",
       "      <td>115724.387579</td>\n",
       "    </tr>\n",
       "    <tr>\n",
       "      <th>2025-07-10 17:00:00-07:00</th>\n",
       "      <td>115987.203125</td>\n",
       "      <td>117249.801040</td>\n",
       "    </tr>\n",
       "  </tbody>\n",
       "</table>\n",
       "</div>"
      ],
      "text/plain": [
       "                                  y_test      y_predict\n",
       "Date                                                   \n",
       "2025-07-06 17:00:00-07:00  109232.070312  108059.023881\n",
       "2025-07-07 17:00:00-07:00  108299.851562  108707.585377\n",
       "2025-07-08 17:00:00-07:00  108950.273438  111077.069832\n",
       "2025-07-09 17:00:00-07:00  111326.554688  115724.387579\n",
       "2025-07-10 17:00:00-07:00  115987.203125  117249.801040"
      ]
     },
     "execution_count": 27,
     "metadata": {},
     "output_type": "execute_result"
    }
   ],
   "source": [
    "df_pred_test.tail()"
   ]
  },
  {
   "cell_type": "code",
   "execution_count": 28,
   "id": "cb708e85",
   "metadata": {},
   "outputs": [
    {
     "data": {
      "application/vnd.plotly.v1+json": {
       "config": {
        "plotlyServerURL": "https://plot.ly"
       },
       "data": [
        {
         "hovertemplate": "variable=y_test<br>Date=%{x}<br>Close=%{y}<extra></extra>",
         "legendgroup": "y_test",
         "line": {
          "color": "#636efa",
          "dash": "solid"
         },
         "marker": {
          "symbol": "circle"
         },
         "mode": "lines",
         "name": "y_test",
         "orientation": "v",
         "showlegend": true,
         "type": "scatter",
         "x": [
          "2024-07-08T17:00:00-07:00",
          "2024-07-09T17:00:00-07:00",
          "2024-07-10T17:00:00-07:00",
          "2024-07-11T17:00:00-07:00",
          "2024-07-12T17:00:00-07:00",
          "2024-07-13T17:00:00-07:00",
          "2024-07-14T17:00:00-07:00",
          "2024-07-15T17:00:00-07:00",
          "2024-07-16T17:00:00-07:00",
          "2024-07-17T17:00:00-07:00",
          "2024-07-18T17:00:00-07:00",
          "2024-07-19T17:00:00-07:00",
          "2024-07-20T17:00:00-07:00",
          "2024-07-21T17:00:00-07:00",
          "2024-07-22T17:00:00-07:00",
          "2024-07-23T17:00:00-07:00",
          "2024-07-24T17:00:00-07:00",
          "2024-07-25T17:00:00-07:00",
          "2024-07-26T17:00:00-07:00",
          "2024-07-27T17:00:00-07:00",
          "2024-07-28T17:00:00-07:00",
          "2024-07-29T17:00:00-07:00",
          "2024-07-30T17:00:00-07:00",
          "2024-07-31T17:00:00-07:00",
          "2024-08-01T17:00:00-07:00",
          "2024-08-02T17:00:00-07:00",
          "2024-08-03T17:00:00-07:00",
          "2024-08-04T17:00:00-07:00",
          "2024-08-05T17:00:00-07:00",
          "2024-08-06T17:00:00-07:00",
          "2024-08-07T17:00:00-07:00",
          "2024-08-08T17:00:00-07:00",
          "2024-08-09T17:00:00-07:00",
          "2024-08-10T17:00:00-07:00",
          "2024-08-11T17:00:00-07:00",
          "2024-08-12T17:00:00-07:00",
          "2024-08-13T17:00:00-07:00",
          "2024-08-14T17:00:00-07:00",
          "2024-08-15T17:00:00-07:00",
          "2024-08-16T17:00:00-07:00",
          "2024-08-17T17:00:00-07:00",
          "2024-08-18T17:00:00-07:00",
          "2024-08-19T17:00:00-07:00",
          "2024-08-20T17:00:00-07:00",
          "2024-08-21T17:00:00-07:00",
          "2024-08-22T17:00:00-07:00",
          "2024-08-23T17:00:00-07:00",
          "2024-08-24T17:00:00-07:00",
          "2024-08-25T17:00:00-07:00",
          "2024-08-26T17:00:00-07:00",
          "2024-08-27T17:00:00-07:00",
          "2024-08-28T17:00:00-07:00",
          "2024-08-29T17:00:00-07:00",
          "2024-08-30T17:00:00-07:00",
          "2024-08-31T17:00:00-07:00",
          "2024-09-01T17:00:00-07:00",
          "2024-09-02T17:00:00-07:00",
          "2024-09-03T17:00:00-07:00",
          "2024-09-04T17:00:00-07:00",
          "2024-09-05T17:00:00-07:00",
          "2024-09-06T17:00:00-07:00",
          "2024-09-07T17:00:00-07:00",
          "2024-09-08T17:00:00-07:00",
          "2024-09-09T17:00:00-07:00",
          "2024-09-10T17:00:00-07:00",
          "2024-09-11T17:00:00-07:00",
          "2024-09-12T17:00:00-07:00",
          "2024-09-13T17:00:00-07:00",
          "2024-09-14T17:00:00-07:00",
          "2024-09-15T17:00:00-07:00",
          "2024-09-16T17:00:00-07:00",
          "2024-09-17T17:00:00-07:00",
          "2024-09-18T17:00:00-07:00",
          "2024-09-19T17:00:00-07:00",
          "2024-09-20T17:00:00-07:00",
          "2024-09-21T17:00:00-07:00",
          "2024-09-22T17:00:00-07:00",
          "2024-09-23T17:00:00-07:00",
          "2024-09-24T17:00:00-07:00",
          "2024-09-25T17:00:00-07:00",
          "2024-09-26T17:00:00-07:00",
          "2024-09-27T17:00:00-07:00",
          "2024-09-28T17:00:00-07:00",
          "2024-09-29T17:00:00-07:00",
          "2024-09-30T17:00:00-07:00",
          "2024-10-01T17:00:00-07:00",
          "2024-10-02T17:00:00-07:00",
          "2024-10-03T17:00:00-07:00",
          "2024-10-04T17:00:00-07:00",
          "2024-10-05T17:00:00-07:00",
          "2024-10-06T17:00:00-07:00",
          "2024-10-07T17:00:00-07:00",
          "2024-10-08T17:00:00-07:00",
          "2024-10-09T17:00:00-07:00",
          "2024-10-10T17:00:00-07:00",
          "2024-10-11T17:00:00-07:00",
          "2024-10-12T17:00:00-07:00",
          "2024-10-13T17:00:00-07:00",
          "2024-10-14T17:00:00-07:00",
          "2024-10-15T17:00:00-07:00",
          "2024-10-16T17:00:00-07:00",
          "2024-10-17T17:00:00-07:00",
          "2024-10-18T17:00:00-07:00",
          "2024-10-19T17:00:00-07:00",
          "2024-10-20T17:00:00-07:00",
          "2024-10-21T17:00:00-07:00",
          "2024-10-22T17:00:00-07:00",
          "2024-10-23T17:00:00-07:00",
          "2024-10-24T17:00:00-07:00",
          "2024-10-25T17:00:00-07:00",
          "2024-10-26T17:00:00-07:00",
          "2024-10-27T17:00:00-07:00",
          "2024-10-28T17:00:00-07:00",
          "2024-10-29T17:00:00-07:00",
          "2024-10-30T17:00:00-07:00",
          "2024-10-31T17:00:00-07:00",
          "2024-11-01T17:00:00-07:00",
          "2024-11-02T17:00:00-07:00",
          "2024-11-03T16:00:00-08:00",
          "2024-11-04T16:00:00-08:00",
          "2024-11-05T16:00:00-08:00",
          "2024-11-06T16:00:00-08:00",
          "2024-11-07T16:00:00-08:00",
          "2024-11-08T16:00:00-08:00",
          "2024-11-09T16:00:00-08:00",
          "2024-11-10T16:00:00-08:00",
          "2024-11-11T16:00:00-08:00",
          "2024-11-12T16:00:00-08:00",
          "2024-11-13T16:00:00-08:00",
          "2024-11-14T16:00:00-08:00",
          "2024-11-15T16:00:00-08:00",
          "2024-11-16T16:00:00-08:00",
          "2024-11-17T16:00:00-08:00",
          "2024-11-18T16:00:00-08:00",
          "2024-11-19T16:00:00-08:00",
          "2024-11-20T16:00:00-08:00",
          "2024-11-21T16:00:00-08:00",
          "2024-11-22T16:00:00-08:00",
          "2024-11-23T16:00:00-08:00",
          "2024-11-24T16:00:00-08:00",
          "2024-11-25T16:00:00-08:00",
          "2024-11-26T16:00:00-08:00",
          "2024-11-27T16:00:00-08:00",
          "2024-11-28T16:00:00-08:00",
          "2024-11-29T16:00:00-08:00",
          "2024-11-30T16:00:00-08:00",
          "2024-12-01T16:00:00-08:00",
          "2024-12-02T16:00:00-08:00",
          "2024-12-03T16:00:00-08:00",
          "2024-12-04T16:00:00-08:00",
          "2024-12-05T16:00:00-08:00",
          "2024-12-06T16:00:00-08:00",
          "2024-12-07T16:00:00-08:00",
          "2024-12-08T16:00:00-08:00",
          "2024-12-09T16:00:00-08:00",
          "2024-12-10T16:00:00-08:00",
          "2024-12-11T16:00:00-08:00",
          "2024-12-12T16:00:00-08:00",
          "2024-12-13T16:00:00-08:00",
          "2024-12-14T16:00:00-08:00",
          "2024-12-15T16:00:00-08:00",
          "2024-12-16T16:00:00-08:00",
          "2024-12-17T16:00:00-08:00",
          "2024-12-18T16:00:00-08:00",
          "2024-12-19T16:00:00-08:00",
          "2024-12-20T16:00:00-08:00",
          "2024-12-21T16:00:00-08:00",
          "2024-12-22T16:00:00-08:00",
          "2024-12-23T16:00:00-08:00",
          "2024-12-24T16:00:00-08:00",
          "2024-12-25T16:00:00-08:00",
          "2024-12-26T16:00:00-08:00",
          "2024-12-27T16:00:00-08:00",
          "2024-12-28T16:00:00-08:00",
          "2024-12-29T16:00:00-08:00",
          "2024-12-30T16:00:00-08:00",
          "2024-12-31T16:00:00-08:00",
          "2025-01-01T16:00:00-08:00",
          "2025-01-02T16:00:00-08:00",
          "2025-01-03T16:00:00-08:00",
          "2025-01-04T16:00:00-08:00",
          "2025-01-05T16:00:00-08:00",
          "2025-01-06T16:00:00-08:00",
          "2025-01-07T16:00:00-08:00",
          "2025-01-08T16:00:00-08:00",
          "2025-01-09T16:00:00-08:00",
          "2025-01-10T16:00:00-08:00",
          "2025-01-11T16:00:00-08:00",
          "2025-01-12T16:00:00-08:00",
          "2025-01-13T16:00:00-08:00",
          "2025-01-14T16:00:00-08:00",
          "2025-01-15T16:00:00-08:00",
          "2025-01-16T16:00:00-08:00",
          "2025-01-17T16:00:00-08:00",
          "2025-01-18T16:00:00-08:00",
          "2025-01-19T16:00:00-08:00",
          "2025-01-20T16:00:00-08:00",
          "2025-01-21T16:00:00-08:00",
          "2025-01-22T16:00:00-08:00",
          "2025-01-23T16:00:00-08:00",
          "2025-01-24T16:00:00-08:00",
          "2025-01-25T16:00:00-08:00",
          "2025-01-26T16:00:00-08:00",
          "2025-01-27T16:00:00-08:00",
          "2025-01-28T16:00:00-08:00",
          "2025-01-29T16:00:00-08:00",
          "2025-01-30T16:00:00-08:00",
          "2025-01-31T16:00:00-08:00",
          "2025-02-01T16:00:00-08:00",
          "2025-02-02T16:00:00-08:00",
          "2025-02-03T16:00:00-08:00",
          "2025-02-04T16:00:00-08:00",
          "2025-02-05T16:00:00-08:00",
          "2025-02-06T16:00:00-08:00",
          "2025-02-07T16:00:00-08:00",
          "2025-02-08T16:00:00-08:00",
          "2025-02-09T16:00:00-08:00",
          "2025-02-10T16:00:00-08:00",
          "2025-02-11T16:00:00-08:00",
          "2025-02-12T16:00:00-08:00",
          "2025-02-13T16:00:00-08:00",
          "2025-02-14T16:00:00-08:00",
          "2025-02-15T16:00:00-08:00",
          "2025-02-16T16:00:00-08:00",
          "2025-02-17T16:00:00-08:00",
          "2025-02-18T16:00:00-08:00",
          "2025-02-19T16:00:00-08:00",
          "2025-02-20T16:00:00-08:00",
          "2025-02-21T16:00:00-08:00",
          "2025-02-22T16:00:00-08:00",
          "2025-02-23T16:00:00-08:00",
          "2025-02-24T16:00:00-08:00",
          "2025-02-25T16:00:00-08:00",
          "2025-02-26T16:00:00-08:00",
          "2025-02-27T16:00:00-08:00",
          "2025-02-28T16:00:00-08:00",
          "2025-03-01T16:00:00-08:00",
          "2025-03-02T16:00:00-08:00",
          "2025-03-03T16:00:00-08:00",
          "2025-03-04T16:00:00-08:00",
          "2025-03-05T16:00:00-08:00",
          "2025-03-06T16:00:00-08:00",
          "2025-03-07T16:00:00-08:00",
          "2025-03-08T16:00:00-08:00",
          "2025-03-09T17:00:00-07:00",
          "2025-03-10T17:00:00-07:00",
          "2025-03-11T17:00:00-07:00",
          "2025-03-12T17:00:00-07:00",
          "2025-03-13T17:00:00-07:00",
          "2025-03-14T17:00:00-07:00",
          "2025-03-15T17:00:00-07:00",
          "2025-03-16T17:00:00-07:00",
          "2025-03-17T17:00:00-07:00",
          "2025-03-18T17:00:00-07:00",
          "2025-03-19T17:00:00-07:00",
          "2025-03-20T17:00:00-07:00",
          "2025-03-21T17:00:00-07:00",
          "2025-03-22T17:00:00-07:00",
          "2025-03-23T17:00:00-07:00",
          "2025-03-24T17:00:00-07:00",
          "2025-03-25T17:00:00-07:00",
          "2025-03-26T17:00:00-07:00",
          "2025-03-27T17:00:00-07:00",
          "2025-03-28T17:00:00-07:00",
          "2025-03-29T17:00:00-07:00",
          "2025-03-30T17:00:00-07:00",
          "2025-03-31T17:00:00-07:00",
          "2025-04-01T17:00:00-07:00",
          "2025-04-02T17:00:00-07:00",
          "2025-04-03T17:00:00-07:00",
          "2025-04-04T17:00:00-07:00",
          "2025-04-05T17:00:00-07:00",
          "2025-04-06T17:00:00-07:00",
          "2025-04-07T17:00:00-07:00",
          "2025-04-08T17:00:00-07:00",
          "2025-04-09T17:00:00-07:00",
          "2025-04-10T17:00:00-07:00",
          "2025-04-11T17:00:00-07:00",
          "2025-04-12T17:00:00-07:00",
          "2025-04-13T17:00:00-07:00",
          "2025-04-14T17:00:00-07:00",
          "2025-04-15T17:00:00-07:00",
          "2025-04-16T17:00:00-07:00",
          "2025-04-17T17:00:00-07:00",
          "2025-04-18T17:00:00-07:00",
          "2025-04-19T17:00:00-07:00",
          "2025-04-20T17:00:00-07:00",
          "2025-04-21T17:00:00-07:00",
          "2025-04-22T17:00:00-07:00",
          "2025-04-23T17:00:00-07:00",
          "2025-04-24T17:00:00-07:00",
          "2025-04-25T17:00:00-07:00",
          "2025-04-26T17:00:00-07:00",
          "2025-04-27T17:00:00-07:00",
          "2025-04-28T17:00:00-07:00",
          "2025-04-29T17:00:00-07:00",
          "2025-04-30T17:00:00-07:00",
          "2025-05-01T17:00:00-07:00",
          "2025-05-02T17:00:00-07:00",
          "2025-05-03T17:00:00-07:00",
          "2025-05-04T17:00:00-07:00",
          "2025-05-05T17:00:00-07:00",
          "2025-05-06T17:00:00-07:00",
          "2025-05-07T17:00:00-07:00",
          "2025-05-08T17:00:00-07:00",
          "2025-05-09T17:00:00-07:00",
          "2025-05-10T17:00:00-07:00",
          "2025-05-11T17:00:00-07:00",
          "2025-05-12T17:00:00-07:00",
          "2025-05-13T17:00:00-07:00",
          "2025-05-14T17:00:00-07:00",
          "2025-05-15T17:00:00-07:00",
          "2025-05-16T17:00:00-07:00",
          "2025-05-17T17:00:00-07:00",
          "2025-05-18T17:00:00-07:00",
          "2025-05-19T17:00:00-07:00",
          "2025-05-20T17:00:00-07:00",
          "2025-05-21T17:00:00-07:00",
          "2025-05-22T17:00:00-07:00",
          "2025-05-23T17:00:00-07:00",
          "2025-05-24T17:00:00-07:00",
          "2025-05-25T17:00:00-07:00",
          "2025-05-26T17:00:00-07:00",
          "2025-05-27T17:00:00-07:00",
          "2025-05-28T17:00:00-07:00",
          "2025-05-29T17:00:00-07:00",
          "2025-05-30T17:00:00-07:00",
          "2025-05-31T17:00:00-07:00",
          "2025-06-01T17:00:00-07:00",
          "2025-06-02T17:00:00-07:00",
          "2025-06-03T17:00:00-07:00",
          "2025-06-04T17:00:00-07:00",
          "2025-06-05T17:00:00-07:00",
          "2025-06-06T17:00:00-07:00",
          "2025-06-07T17:00:00-07:00",
          "2025-06-08T17:00:00-07:00",
          "2025-06-09T17:00:00-07:00",
          "2025-06-10T17:00:00-07:00",
          "2025-06-11T17:00:00-07:00",
          "2025-06-12T17:00:00-07:00",
          "2025-06-13T17:00:00-07:00",
          "2025-06-14T17:00:00-07:00",
          "2025-06-15T17:00:00-07:00",
          "2025-06-16T17:00:00-07:00",
          "2025-06-17T17:00:00-07:00",
          "2025-06-18T17:00:00-07:00",
          "2025-06-19T17:00:00-07:00",
          "2025-06-20T17:00:00-07:00",
          "2025-06-21T17:00:00-07:00",
          "2025-06-22T17:00:00-07:00",
          "2025-06-23T17:00:00-07:00",
          "2025-06-24T17:00:00-07:00",
          "2025-06-25T17:00:00-07:00",
          "2025-06-26T17:00:00-07:00",
          "2025-06-27T17:00:00-07:00",
          "2025-06-28T17:00:00-07:00",
          "2025-06-29T17:00:00-07:00",
          "2025-06-30T17:00:00-07:00",
          "2025-07-01T17:00:00-07:00",
          "2025-07-02T17:00:00-07:00",
          "2025-07-03T17:00:00-07:00",
          "2025-07-04T17:00:00-07:00",
          "2025-07-05T17:00:00-07:00",
          "2025-07-06T17:00:00-07:00",
          "2025-07-07T17:00:00-07:00",
          "2025-07-08T17:00:00-07:00",
          "2025-07-09T17:00:00-07:00",
          "2025-07-10T17:00:00-07:00"
         ],
         "xaxis": "x",
         "y": [
          56705.09765625,
          58009.2265625,
          57742.49609375,
          57344.9140625,
          57899.46484375,
          59231.953125,
          60787.79296875,
          64870.15234375,
          65097.1484375,
          64118.79296875,
          63974.06640625,
          66710.15625,
          67163.6484375,
          68154.5234375,
          67585.25,
          65927.671875,
          65372.1328125,
          65777.2265625,
          67912.0625,
          67813.3359375,
          68255.8671875,
          66819.9140625,
          66201.015625,
          64619.25,
          65357.5,
          61415.06640625,
          60680.09375,
          58116.9765625,
          53991.45703125,
          56034.31640625,
          55027.4609375,
          61710.13671875,
          60880.11328125,
          60945.8125,
          58719.484375,
          59354.515625,
          60609.56640625,
          58737.26953125,
          57560.09765625,
          58894.10546875,
          59478.97265625,
          58483.96484375,
          59493.453125,
          59012.79296875,
          61175.19140625,
          60381.9140625,
          64094.35546875,
          64178.9921875,
          64333.54296875,
          62880.66015625,
          59504.1328125,
          59027.625,
          59388.1796875,
          59119.4765625,
          58969.8984375,
          57325.48828125,
          59112.48046875,
          57431.0234375,
          57971.5390625,
          56160.48828125,
          53948.75390625,
          54139.6875,
          54841.56640625,
          57019.53515625,
          57648.7109375,
          57343.171875,
          58127.01171875,
          60571.30078125,
          60005.12109375,
          59182.8359375,
          58192.5078125,
          60308.5390625,
          61649.6796875,
          62940.45703125,
          63192.9765625,
          63394.83984375,
          63648.7109375,
          63329.80078125,
          64301.96875,
          63143.14453125,
          65181.01953125,
          65790.6640625,
          65887.6484375,
          65635.3046875,
          63329.5,
          60837.0078125,
          60632.78515625,
          60759.40234375,
          62067.4765625,
          62089.94921875,
          62818.953125,
          62236.66015625,
          62131.96875,
          60582.1015625,
          60274.5,
          62445.08984375,
          63193.0234375,
          62851.375,
          66046.125,
          67041.109375,
          67612.71875,
          67399.8359375,
          68418.7890625,
          68362.734375,
          69001.703125,
          67367.8515625,
          67361.40625,
          66432.1953125,
          68161.0546875,
          66642.4140625,
          67014.6953125,
          67929.296875,
          69907.7578125,
          72720.4921875,
          72339.5390625,
          70215.1875,
          69482.46875,
          69289.2734375,
          68741.1171875,
          67811.5078125,
          69359.5625,
          75639.078125,
          75904.859375,
          76545.4765625,
          76778.8671875,
          80474.1875,
          88701.484375,
          87955.8125,
          90584.1640625,
          87250.4296875,
          91066.0078125,
          90558.4765625,
          89845.8515625,
          90542.640625,
          92343.7890625,
          94339.4921875,
          98504.7265625,
          98997.6640625,
          97777.28125,
          98013.8203125,
          93102.296875,
          91985.3203125,
          95962.53125,
          95652.46875,
          97461.5234375,
          96449.0546875,
          97279.7890625,
          95865.3046875,
          96002.1640625,
          98768.53125,
          96593.5703125,
          99920.7109375,
          99923.3359375,
          101236.015625,
          97432.71875,
          96675.4296875,
          101173.03125,
          100043,
          101459.2578125,
          101372.96875,
          104298.6953125,
          106029.71875,
          106140.6015625,
          100041.5390625,
          97490.953125,
          97755.9296875,
          97224.7265625,
          95104.9375,
          94686.2421875,
          98676.09375,
          99299.1953125,
          95795.515625,
          94164.859375,
          95163.9296875,
          93530.2265625,
          92643.2109375,
          93429.203125,
          94419.7578125,
          96886.875,
          98107.4296875,
          98236.2265625,
          98314.9609375,
          102078.0859375,
          96922.703125,
          95043.5234375,
          92484.0390625,
          94701.453125,
          94566.59375,
          94488.4375,
          94516.5234375,
          96534.046875,
          100504.4921875,
          99756.90625,
          104462.0390625,
          104408.0703125,
          101089.609375,
          102016.6640625,
          106146.265625,
          103653.0703125,
          103960.171875,
          104819.484375,
          104714.6484375,
          102682.5,
          102087.6875,
          101332.4765625,
          103703.2109375,
          104735.3046875,
          102405.0234375,
          100655.90625,
          97688.9765625,
          101405.421875,
          97871.8203125,
          96615.4453125,
          96593.296875,
          96529.0859375,
          96482.453125,
          96500.09375,
          97437.5546875,
          95747.4296875,
          97885.859375,
          96623.8671875,
          97508.96875,
          97580.3515625,
          96175.03125,
          95773.3828125,
          95539.546875,
          96635.609375,
          98333.9375,
          96125.546875,
          96577.7578125,
          96273.921875,
          91418.171875,
          88736.171875,
          84347.0234375,
          84704.2265625,
          84373.0078125,
          86031.9140625,
          94248.3515625,
          86065.671875,
          87222.1953125,
          90623.5625,
          89961.7265625,
          86742.671875,
          86154.59375,
          80601.0390625,
          78532,
          82862.2109375,
          83722.359375,
          81066.703125,
          83969.1015625,
          84343.109375,
          82579.6875,
          84075.6875,
          82718.5,
          86854.2265625,
          84167.1953125,
          84043.2421875,
          83832.484375,
          86054.375,
          87498.9140625,
          87471.703125,
          86900.8828125,
          87177.1015625,
          84353.1484375,
          82597.5859375,
          82334.5234375,
          82548.9140625,
          85169.171875,
          82485.7109375,
          83102.828125,
          83843.8046875,
          83504.796875,
          78214.484375,
          79235.3359375,
          76271.953125,
          82573.953125,
          79626.140625,
          83404.8359375,
          85287.109375,
          83684.9765625,
          84542.390625,
          83668.9921875,
          84033.8671875,
          84895.75,
          84450.8046875,
          85063.4140625,
          85174.3046875,
          87518.90625,
          93441.890625,
          93699.109375,
          93943.796875,
          94720.5,
          94646.9296875,
          93754.84375,
          94978.75,
          94284.7890625,
          94207.3125,
          96492.3359375,
          96910.0703125,
          95891.796875,
          94315.9765625,
          94748.0546875,
          96802.4765625,
          97032.3203125,
          103241.4609375,
          102970.8515625,
          104696.328125,
          104106.359375,
          102812.953125,
          104169.8125,
          103539.4140625,
          103744.640625,
          103489.2890625,
          103191.0859375,
          106446.0078125,
          105606.1796875,
          106791.0859375,
          109678.078125,
          111673.28125,
          107287.796875,
          107791.15625,
          109035.390625,
          109440.3671875,
          108994.640625,
          107802.328125,
          105641.7578125,
          103998.5703125,
          104638.09375,
          105652.1015625,
          105881.53125,
          105432.46875,
          104731.984375,
          101575.953125,
          104390.34375,
          105615.625,
          105793.6484375,
          110294.1015625,
          110257.234375,
          108686.625,
          105929.0546875,
          106090.96875,
          105472.40625,
          105552.0234375,
          106796.7578125,
          104601.1171875,
          104883.328125,
          104684.2890625,
          103309.6015625,
          102257.40625,
          100987.140625,
          105577.7734375,
          106045.6328125,
          107361.2578125,
          106960,
          107088.4296875,
          107327.703125,
          108385.5703125,
          107135.3359375,
          105698.28125,
          108859.3203125,
          109647.9765625,
          108034.3359375,
          108231.1796875,
          109232.0703125,
          108299.8515625,
          108950.2734375,
          111326.5546875,
          115987.203125
         ],
         "yaxis": "y"
        },
        {
         "hovertemplate": "variable=y_predict<br>Date=%{x}<br>Close=%{y}<extra></extra>",
         "legendgroup": "y_predict",
         "line": {
          "color": "#EF553B",
          "dash": "solid"
         },
         "marker": {
          "symbol": "circle"
         },
         "mode": "lines",
         "name": "y_predict",
         "orientation": "v",
         "showlegend": true,
         "type": "scatter",
         "x": [
          "2024-07-08T17:00:00-07:00",
          "2024-07-09T17:00:00-07:00",
          "2024-07-10T17:00:00-07:00",
          "2024-07-11T17:00:00-07:00",
          "2024-07-12T17:00:00-07:00",
          "2024-07-13T17:00:00-07:00",
          "2024-07-14T17:00:00-07:00",
          "2024-07-15T17:00:00-07:00",
          "2024-07-16T17:00:00-07:00",
          "2024-07-17T17:00:00-07:00",
          "2024-07-18T17:00:00-07:00",
          "2024-07-19T17:00:00-07:00",
          "2024-07-20T17:00:00-07:00",
          "2024-07-21T17:00:00-07:00",
          "2024-07-22T17:00:00-07:00",
          "2024-07-23T17:00:00-07:00",
          "2024-07-24T17:00:00-07:00",
          "2024-07-25T17:00:00-07:00",
          "2024-07-26T17:00:00-07:00",
          "2024-07-27T17:00:00-07:00",
          "2024-07-28T17:00:00-07:00",
          "2024-07-29T17:00:00-07:00",
          "2024-07-30T17:00:00-07:00",
          "2024-07-31T17:00:00-07:00",
          "2024-08-01T17:00:00-07:00",
          "2024-08-02T17:00:00-07:00",
          "2024-08-03T17:00:00-07:00",
          "2024-08-04T17:00:00-07:00",
          "2024-08-05T17:00:00-07:00",
          "2024-08-06T17:00:00-07:00",
          "2024-08-07T17:00:00-07:00",
          "2024-08-08T17:00:00-07:00",
          "2024-08-09T17:00:00-07:00",
          "2024-08-10T17:00:00-07:00",
          "2024-08-11T17:00:00-07:00",
          "2024-08-12T17:00:00-07:00",
          "2024-08-13T17:00:00-07:00",
          "2024-08-14T17:00:00-07:00",
          "2024-08-15T17:00:00-07:00",
          "2024-08-16T17:00:00-07:00",
          "2024-08-17T17:00:00-07:00",
          "2024-08-18T17:00:00-07:00",
          "2024-08-19T17:00:00-07:00",
          "2024-08-20T17:00:00-07:00",
          "2024-08-21T17:00:00-07:00",
          "2024-08-22T17:00:00-07:00",
          "2024-08-23T17:00:00-07:00",
          "2024-08-24T17:00:00-07:00",
          "2024-08-25T17:00:00-07:00",
          "2024-08-26T17:00:00-07:00",
          "2024-08-27T17:00:00-07:00",
          "2024-08-28T17:00:00-07:00",
          "2024-08-29T17:00:00-07:00",
          "2024-08-30T17:00:00-07:00",
          "2024-08-31T17:00:00-07:00",
          "2024-09-01T17:00:00-07:00",
          "2024-09-02T17:00:00-07:00",
          "2024-09-03T17:00:00-07:00",
          "2024-09-04T17:00:00-07:00",
          "2024-09-05T17:00:00-07:00",
          "2024-09-06T17:00:00-07:00",
          "2024-09-07T17:00:00-07:00",
          "2024-09-08T17:00:00-07:00",
          "2024-09-09T17:00:00-07:00",
          "2024-09-10T17:00:00-07:00",
          "2024-09-11T17:00:00-07:00",
          "2024-09-12T17:00:00-07:00",
          "2024-09-13T17:00:00-07:00",
          "2024-09-14T17:00:00-07:00",
          "2024-09-15T17:00:00-07:00",
          "2024-09-16T17:00:00-07:00",
          "2024-09-17T17:00:00-07:00",
          "2024-09-18T17:00:00-07:00",
          "2024-09-19T17:00:00-07:00",
          "2024-09-20T17:00:00-07:00",
          "2024-09-21T17:00:00-07:00",
          "2024-09-22T17:00:00-07:00",
          "2024-09-23T17:00:00-07:00",
          "2024-09-24T17:00:00-07:00",
          "2024-09-25T17:00:00-07:00",
          "2024-09-26T17:00:00-07:00",
          "2024-09-27T17:00:00-07:00",
          "2024-09-28T17:00:00-07:00",
          "2024-09-29T17:00:00-07:00",
          "2024-09-30T17:00:00-07:00",
          "2024-10-01T17:00:00-07:00",
          "2024-10-02T17:00:00-07:00",
          "2024-10-03T17:00:00-07:00",
          "2024-10-04T17:00:00-07:00",
          "2024-10-05T17:00:00-07:00",
          "2024-10-06T17:00:00-07:00",
          "2024-10-07T17:00:00-07:00",
          "2024-10-08T17:00:00-07:00",
          "2024-10-09T17:00:00-07:00",
          "2024-10-10T17:00:00-07:00",
          "2024-10-11T17:00:00-07:00",
          "2024-10-12T17:00:00-07:00",
          "2024-10-13T17:00:00-07:00",
          "2024-10-14T17:00:00-07:00",
          "2024-10-15T17:00:00-07:00",
          "2024-10-16T17:00:00-07:00",
          "2024-10-17T17:00:00-07:00",
          "2024-10-18T17:00:00-07:00",
          "2024-10-19T17:00:00-07:00",
          "2024-10-20T17:00:00-07:00",
          "2024-10-21T17:00:00-07:00",
          "2024-10-22T17:00:00-07:00",
          "2024-10-23T17:00:00-07:00",
          "2024-10-24T17:00:00-07:00",
          "2024-10-25T17:00:00-07:00",
          "2024-10-26T17:00:00-07:00",
          "2024-10-27T17:00:00-07:00",
          "2024-10-28T17:00:00-07:00",
          "2024-10-29T17:00:00-07:00",
          "2024-10-30T17:00:00-07:00",
          "2024-10-31T17:00:00-07:00",
          "2024-11-01T17:00:00-07:00",
          "2024-11-02T17:00:00-07:00",
          "2024-11-03T16:00:00-08:00",
          "2024-11-04T16:00:00-08:00",
          "2024-11-05T16:00:00-08:00",
          "2024-11-06T16:00:00-08:00",
          "2024-11-07T16:00:00-08:00",
          "2024-11-08T16:00:00-08:00",
          "2024-11-09T16:00:00-08:00",
          "2024-11-10T16:00:00-08:00",
          "2024-11-11T16:00:00-08:00",
          "2024-11-12T16:00:00-08:00",
          "2024-11-13T16:00:00-08:00",
          "2024-11-14T16:00:00-08:00",
          "2024-11-15T16:00:00-08:00",
          "2024-11-16T16:00:00-08:00",
          "2024-11-17T16:00:00-08:00",
          "2024-11-18T16:00:00-08:00",
          "2024-11-19T16:00:00-08:00",
          "2024-11-20T16:00:00-08:00",
          "2024-11-21T16:00:00-08:00",
          "2024-11-22T16:00:00-08:00",
          "2024-11-23T16:00:00-08:00",
          "2024-11-24T16:00:00-08:00",
          "2024-11-25T16:00:00-08:00",
          "2024-11-26T16:00:00-08:00",
          "2024-11-27T16:00:00-08:00",
          "2024-11-28T16:00:00-08:00",
          "2024-11-29T16:00:00-08:00",
          "2024-11-30T16:00:00-08:00",
          "2024-12-01T16:00:00-08:00",
          "2024-12-02T16:00:00-08:00",
          "2024-12-03T16:00:00-08:00",
          "2024-12-04T16:00:00-08:00",
          "2024-12-05T16:00:00-08:00",
          "2024-12-06T16:00:00-08:00",
          "2024-12-07T16:00:00-08:00",
          "2024-12-08T16:00:00-08:00",
          "2024-12-09T16:00:00-08:00",
          "2024-12-10T16:00:00-08:00",
          "2024-12-11T16:00:00-08:00",
          "2024-12-12T16:00:00-08:00",
          "2024-12-13T16:00:00-08:00",
          "2024-12-14T16:00:00-08:00",
          "2024-12-15T16:00:00-08:00",
          "2024-12-16T16:00:00-08:00",
          "2024-12-17T16:00:00-08:00",
          "2024-12-18T16:00:00-08:00",
          "2024-12-19T16:00:00-08:00",
          "2024-12-20T16:00:00-08:00",
          "2024-12-21T16:00:00-08:00",
          "2024-12-22T16:00:00-08:00",
          "2024-12-23T16:00:00-08:00",
          "2024-12-24T16:00:00-08:00",
          "2024-12-25T16:00:00-08:00",
          "2024-12-26T16:00:00-08:00",
          "2024-12-27T16:00:00-08:00",
          "2024-12-28T16:00:00-08:00",
          "2024-12-29T16:00:00-08:00",
          "2024-12-30T16:00:00-08:00",
          "2024-12-31T16:00:00-08:00",
          "2025-01-01T16:00:00-08:00",
          "2025-01-02T16:00:00-08:00",
          "2025-01-03T16:00:00-08:00",
          "2025-01-04T16:00:00-08:00",
          "2025-01-05T16:00:00-08:00",
          "2025-01-06T16:00:00-08:00",
          "2025-01-07T16:00:00-08:00",
          "2025-01-08T16:00:00-08:00",
          "2025-01-09T16:00:00-08:00",
          "2025-01-10T16:00:00-08:00",
          "2025-01-11T16:00:00-08:00",
          "2025-01-12T16:00:00-08:00",
          "2025-01-13T16:00:00-08:00",
          "2025-01-14T16:00:00-08:00",
          "2025-01-15T16:00:00-08:00",
          "2025-01-16T16:00:00-08:00",
          "2025-01-17T16:00:00-08:00",
          "2025-01-18T16:00:00-08:00",
          "2025-01-19T16:00:00-08:00",
          "2025-01-20T16:00:00-08:00",
          "2025-01-21T16:00:00-08:00",
          "2025-01-22T16:00:00-08:00",
          "2025-01-23T16:00:00-08:00",
          "2025-01-24T16:00:00-08:00",
          "2025-01-25T16:00:00-08:00",
          "2025-01-26T16:00:00-08:00",
          "2025-01-27T16:00:00-08:00",
          "2025-01-28T16:00:00-08:00",
          "2025-01-29T16:00:00-08:00",
          "2025-01-30T16:00:00-08:00",
          "2025-01-31T16:00:00-08:00",
          "2025-02-01T16:00:00-08:00",
          "2025-02-02T16:00:00-08:00",
          "2025-02-03T16:00:00-08:00",
          "2025-02-04T16:00:00-08:00",
          "2025-02-05T16:00:00-08:00",
          "2025-02-06T16:00:00-08:00",
          "2025-02-07T16:00:00-08:00",
          "2025-02-08T16:00:00-08:00",
          "2025-02-09T16:00:00-08:00",
          "2025-02-10T16:00:00-08:00",
          "2025-02-11T16:00:00-08:00",
          "2025-02-12T16:00:00-08:00",
          "2025-02-13T16:00:00-08:00",
          "2025-02-14T16:00:00-08:00",
          "2025-02-15T16:00:00-08:00",
          "2025-02-16T16:00:00-08:00",
          "2025-02-17T16:00:00-08:00",
          "2025-02-18T16:00:00-08:00",
          "2025-02-19T16:00:00-08:00",
          "2025-02-20T16:00:00-08:00",
          "2025-02-21T16:00:00-08:00",
          "2025-02-22T16:00:00-08:00",
          "2025-02-23T16:00:00-08:00",
          "2025-02-24T16:00:00-08:00",
          "2025-02-25T16:00:00-08:00",
          "2025-02-26T16:00:00-08:00",
          "2025-02-27T16:00:00-08:00",
          "2025-02-28T16:00:00-08:00",
          "2025-03-01T16:00:00-08:00",
          "2025-03-02T16:00:00-08:00",
          "2025-03-03T16:00:00-08:00",
          "2025-03-04T16:00:00-08:00",
          "2025-03-05T16:00:00-08:00",
          "2025-03-06T16:00:00-08:00",
          "2025-03-07T16:00:00-08:00",
          "2025-03-08T16:00:00-08:00",
          "2025-03-09T17:00:00-07:00",
          "2025-03-10T17:00:00-07:00",
          "2025-03-11T17:00:00-07:00",
          "2025-03-12T17:00:00-07:00",
          "2025-03-13T17:00:00-07:00",
          "2025-03-14T17:00:00-07:00",
          "2025-03-15T17:00:00-07:00",
          "2025-03-16T17:00:00-07:00",
          "2025-03-17T17:00:00-07:00",
          "2025-03-18T17:00:00-07:00",
          "2025-03-19T17:00:00-07:00",
          "2025-03-20T17:00:00-07:00",
          "2025-03-21T17:00:00-07:00",
          "2025-03-22T17:00:00-07:00",
          "2025-03-23T17:00:00-07:00",
          "2025-03-24T17:00:00-07:00",
          "2025-03-25T17:00:00-07:00",
          "2025-03-26T17:00:00-07:00",
          "2025-03-27T17:00:00-07:00",
          "2025-03-28T17:00:00-07:00",
          "2025-03-29T17:00:00-07:00",
          "2025-03-30T17:00:00-07:00",
          "2025-03-31T17:00:00-07:00",
          "2025-04-01T17:00:00-07:00",
          "2025-04-02T17:00:00-07:00",
          "2025-04-03T17:00:00-07:00",
          "2025-04-04T17:00:00-07:00",
          "2025-04-05T17:00:00-07:00",
          "2025-04-06T17:00:00-07:00",
          "2025-04-07T17:00:00-07:00",
          "2025-04-08T17:00:00-07:00",
          "2025-04-09T17:00:00-07:00",
          "2025-04-10T17:00:00-07:00",
          "2025-04-11T17:00:00-07:00",
          "2025-04-12T17:00:00-07:00",
          "2025-04-13T17:00:00-07:00",
          "2025-04-14T17:00:00-07:00",
          "2025-04-15T17:00:00-07:00",
          "2025-04-16T17:00:00-07:00",
          "2025-04-17T17:00:00-07:00",
          "2025-04-18T17:00:00-07:00",
          "2025-04-19T17:00:00-07:00",
          "2025-04-20T17:00:00-07:00",
          "2025-04-21T17:00:00-07:00",
          "2025-04-22T17:00:00-07:00",
          "2025-04-23T17:00:00-07:00",
          "2025-04-24T17:00:00-07:00",
          "2025-04-25T17:00:00-07:00",
          "2025-04-26T17:00:00-07:00",
          "2025-04-27T17:00:00-07:00",
          "2025-04-28T17:00:00-07:00",
          "2025-04-29T17:00:00-07:00",
          "2025-04-30T17:00:00-07:00",
          "2025-05-01T17:00:00-07:00",
          "2025-05-02T17:00:00-07:00",
          "2025-05-03T17:00:00-07:00",
          "2025-05-04T17:00:00-07:00",
          "2025-05-05T17:00:00-07:00",
          "2025-05-06T17:00:00-07:00",
          "2025-05-07T17:00:00-07:00",
          "2025-05-08T17:00:00-07:00",
          "2025-05-09T17:00:00-07:00",
          "2025-05-10T17:00:00-07:00",
          "2025-05-11T17:00:00-07:00",
          "2025-05-12T17:00:00-07:00",
          "2025-05-13T17:00:00-07:00",
          "2025-05-14T17:00:00-07:00",
          "2025-05-15T17:00:00-07:00",
          "2025-05-16T17:00:00-07:00",
          "2025-05-17T17:00:00-07:00",
          "2025-05-18T17:00:00-07:00",
          "2025-05-19T17:00:00-07:00",
          "2025-05-20T17:00:00-07:00",
          "2025-05-21T17:00:00-07:00",
          "2025-05-22T17:00:00-07:00",
          "2025-05-23T17:00:00-07:00",
          "2025-05-24T17:00:00-07:00",
          "2025-05-25T17:00:00-07:00",
          "2025-05-26T17:00:00-07:00",
          "2025-05-27T17:00:00-07:00",
          "2025-05-28T17:00:00-07:00",
          "2025-05-29T17:00:00-07:00",
          "2025-05-30T17:00:00-07:00",
          "2025-05-31T17:00:00-07:00",
          "2025-06-01T17:00:00-07:00",
          "2025-06-02T17:00:00-07:00",
          "2025-06-03T17:00:00-07:00",
          "2025-06-04T17:00:00-07:00",
          "2025-06-05T17:00:00-07:00",
          "2025-06-06T17:00:00-07:00",
          "2025-06-07T17:00:00-07:00",
          "2025-06-08T17:00:00-07:00",
          "2025-06-09T17:00:00-07:00",
          "2025-06-10T17:00:00-07:00",
          "2025-06-11T17:00:00-07:00",
          "2025-06-12T17:00:00-07:00",
          "2025-06-13T17:00:00-07:00",
          "2025-06-14T17:00:00-07:00",
          "2025-06-15T17:00:00-07:00",
          "2025-06-16T17:00:00-07:00",
          "2025-06-17T17:00:00-07:00",
          "2025-06-18T17:00:00-07:00",
          "2025-06-19T17:00:00-07:00",
          "2025-06-20T17:00:00-07:00",
          "2025-06-21T17:00:00-07:00",
          "2025-06-22T17:00:00-07:00",
          "2025-06-23T17:00:00-07:00",
          "2025-06-24T17:00:00-07:00",
          "2025-06-25T17:00:00-07:00",
          "2025-06-26T17:00:00-07:00",
          "2025-06-27T17:00:00-07:00",
          "2025-06-28T17:00:00-07:00",
          "2025-06-29T17:00:00-07:00",
          "2025-06-30T17:00:00-07:00",
          "2025-07-01T17:00:00-07:00",
          "2025-07-02T17:00:00-07:00",
          "2025-07-03T17:00:00-07:00",
          "2025-07-04T17:00:00-07:00",
          "2025-07-05T17:00:00-07:00",
          "2025-07-06T17:00:00-07:00",
          "2025-07-07T17:00:00-07:00",
          "2025-07-08T17:00:00-07:00",
          "2025-07-09T17:00:00-07:00",
          "2025-07-10T17:00:00-07:00"
         ],
         "xaxis": "x",
         "y": [
          57912.24340396403,
          57646.275855083906,
          57249.83101387061,
          57802.7956328353,
          59131.47264426333,
          60682.862373496195,
          64753.545118159316,
          64979.89194288835,
          64004.334830210726,
          63860.022224056804,
          66588.28612532129,
          67040.48120491194,
          68028.52203966037,
          67460.87687514657,
          65808.03986312615,
          65254.0897896579,
          65658.02486411367,
          67786.7546047353,
          67688.31042638348,
          68129.57591966192,
          66697.73000137291,
          66080.60177751824,
          64503.36042164453,
          65239.49883088185,
          61308.34164263006,
          60575.471203070556,
          58019.68521039182,
          53905.965758970415,
          55942.98201445032,
          54939.00641933008,
          61602.56797579214,
          60774.91862542175,
          60840.42992698458,
          58620.469690780315,
          59253.68458301328,
          60505.14558622551,
          58638.203976767334,
          57464.39912548198,
          58794.5913218977,
          59377.78563415148,
          58385.623807842705,
          59392.22468492105,
          58912.93934417518,
          61069.152748738015,
          60278.144388545494,
          63979.96722794085,
          64064.361863232,
          64218.4705882652,
          62769.74340587172,
          59402.87382568285,
          58927.72895188278,
          59287.25235736779,
          59019.31779455764,
          58870.16750265896,
          57230.460795506144,
          59012.341711490924,
          57335.69409322438,
          57874.66370020767,
          56068.79300443066,
          53863.384776231556,
          54053.77224927333,
          54753.64359573334,
          56925.38277757362,
          57552.75894924991,
          57248.09380948884,
          58029.691663433914,
          60466.98941105995,
          59902.429147600786,
          59082.49594494405,
          58095.00042098811,
          60204.979260502434,
          61542.283867682985,
          62829.3692459528,
          63081.166504382505,
          63282.45240311979,
          63535.597358222345,
          63217.59936958503,
          64186.9866801534,
          63031.4770059559,
          65063.52314307002,
          65671.42392930044,
          65768.13090327047,
          65516.508923309775,
          63217.299448649166,
          60731.93644974271,
          60528.29792444356,
          60654.55295321207,
          61958.88573283276,
          61981.29411132678,
          62708.212873094024,
          62127.58541664201,
          62023.193455575034,
          60477.759299211524,
          60171.03755874737,
          62335.41893996619,
          63081.213245307576,
          62740.54201293417,
          65926.15418077829,
          66918.29263662452,
          67488.26705723765,
          67275.9931460318,
          68292.03179489722,
          68236.13743866756,
          68873.27856860642,
          67244.10025482564,
          67237.6733776285,
          66311.12022980979,
          68035.03460855347,
          66520.73769844082,
          66891.95412534753,
          67803.93968485272,
          69776.74169944049,
          72581.43090827168,
          72201.567410227,
          70083.29205651273,
          69352.66907643368,
          69160.02635375728,
          68613.43797598756,
          67686.48753030575,
          69230.11437089989,
          75491.66891606532,
          75756.68996121276,
          76395.47481368325,
          76628.19787960727,
          80312.94859612077,
          88516.71322041558,
          87773.17416470883,
          90394.0079447768,
          87069.80893409983,
          90874.47349388068,
          90368.39391783837,
          89657.80721430604,
          90352.60327531886,
          92148.5999506748,
          94138.5948355342,
          98291.91553572124,
          98783.44310375839,
          97566.55090971259,
          97802.41340777048,
          92904.93822969659,
          91791.15651635542,
          95756.99157593213,
          95447.8159369018,
          97251.69624828623,
          96242.12342738884,
          97070.48168178946,
          95660.04310718257,
          95796.5110280789,
          98554.96567186157,
          96386.22569937995,
          99703.84981993039,
          99706.4673117343,
          101015.39238724313,
          97222.97394983066,
          96467.8509348607,
          100952.58816425728,
          99825.78910328409,
          101237.99604288947,
          101151.9537899896,
          104069.31199870225,
          105795.38425015334,
          105905.94990840665,
          99824.33234445273,
          97281.04175907608,
          97545.26041834315,
          97015.57667514046,
          94901.85077146634,
          94484.35303858606,
          98462.79256762334,
          99084.11189442597,
          95590.45365990738,
          93964.46151918554,
          94960.67422566707,
          93331.64392481568,
          92447.16539971423,
          93230.90944113545,
          94218.63087956255,
          96678.69145769773,
          97895.75503513546,
          98024.18351691973,
          98102.69269072913,
          101855.05415535654,
          96714.41710475965,
          94840.61236947034,
          92288.44879848453,
          94499.52046877131,
          94365.04682734463,
          94287.11412494443,
          94315.1197292156,
          96326.87251469512,
          100285.96130075338,
          99540.51365727292,
          104232.18854226317,
          104178.37415719914,
          100869.40489794085,
          101793.80796320635,
          105911.59777018595,
          103425.53365740344,
          103731.75682800019,
          104588.6114663852,
          104484.07538746593,
          102457.73943336455,
          101864.62825484172,
          101111.57742088322,
          103475.53086692009,
          104504.67255511349,
          102181.0565274121,
          100436.94227888396,
          97478.4987970347,
          101184.31409044647,
          97660.8195654248,
          96408.03813107933,
          96385.95304398371,
          96321.92576679186,
          96275.42633650129,
          96293.016504636,
          97227.79605526706,
          95542.50526093964,
          97674.81847248328,
          96416.4359172836,
          97299.00585461134,
          97370.18449333892,
          95968.88376958323,
          95568.3841531201,
          95335.21704840793,
          96428.14451901366,
          98121.61497522835,
          95919.54093301758,
          96370.45842732297,
          96067.49154117279,
          91225.63027377814,
          88551.30150496746,
          84174.70719587473,
          84530.88862521722,
          84200.61724867192,
          85854.77858690266,
          94047.71489688956,
          85888.4398431073,
          87041.65531689928,
          90433.2936922982,
          89773.35078107932,
          86563.50344358636,
          85977.10737796528,
          80439.43732951462,
          78376.31626738308,
          82694.14165335434,
          83551.82983823643,
          80903.76946931516,
          83797.86627765125,
          84170.80432863138,
          82412.42630780267,
          83904.14735110647,
          82550.84176724359,
          86674.73905509901,
          83995.39342699749,
          83871.79484080379,
          83661.63985153445,
          85877.17528016541,
          87317.58257789642,
          87290.44947089323,
          86721.26185585212,
          86996.69054698184,
          84180.81467675055,
          82430.27355102528,
          82167.96347953189,
          82381.74089049415,
          84994.50407083334,
          82318.71854319131,
          82934.07061189332,
          83672.92778493887,
          83334.88962467776,
          78059.7088212666,
          79077.64047759735,
          76122.73372574506,
          82406.70833463577,
          79467.32736006092,
          83235.21460196578,
          85112.10423830971,
          83514.55395049303,
          84369.51558141272,
          83498.61529504413,
          83862.44665578977,
          84721.86425489947,
          84278.19160397993,
          84889.04875372103,
          84999.62220212852,
          87337.51758243881,
          93243.56065152108,
          93500.04368768906,
          93744.03131655497,
          94518.51286465813,
          94445.1529827606,
          93555.61864759741,
          94776.02420117764,
          94084.0481759774,
          94006.7932169907,
          96285.2808815369,
          96701.82042545325,
          95686.45952000136,
          94115.14647145737,
          94545.98873844516,
          96594.53442210902,
          96823.72075803607,
          103015.10159436292,
          102745.26623393325,
          104465.8074759177,
          103877.52619298546,
          102587.81942783462,
          103940.79782522202,
          103312.20249441681,
          103516.84205452788,
          103262.22086520852,
          102964.87068022092,
          106210.48261554669,
          105373.05662168247,
          106554.57372560438,
          109433.30834990078,
          111422.80466489274,
          107049.86393810967,
          107551.78357182074,
          108792.45910657303,
          109196.27732871614,
          108751.82566237876,
          107562.92349229577,
          105408.53298381067,
          103770.04543578677,
          104407.73966667229,
          105418.84714794281,
          105647.6206056984,
          105199.84254352687,
          104501.3617395877,
          101354.35757585148,
          104160.69829736846,
          105382.47491808409,
          105559.98916134614,
          110047.56979701782,
          110010.80805945018,
          108444.69104374315,
          105695.0081135653,
          105856.4590589116,
          105239.66581168659,
          105319.05527291815,
          106560.22937753786,
          104370.86886694616,
          104652.27260633068,
          104453.80284832887,
          103083.04731910648,
          102033.86156421219,
          100767.22923573763,
          105344.73162108999,
          105811.25279421463,
          107123.11475784869,
          106723.00464909448,
          106851.06699363237,
          107089.65604565268,
          108144.49745248046,
          106897.83907931918,
          105464.89474929102,
          108616.89240185557,
          109403.2928858516,
          107794.26770093021,
          107990.5484256079,
          108988.57623801297,
          108059.0238808356,
          108707.5853767999,
          111077.06983230342,
          115724.38757940214,
          117249.8010395273
         ],
         "yaxis": "y"
        }
       ],
       "layout": {
        "legend": {
         "title": {
          "text": "variable"
         },
         "tracegroupgap": 0
        },
        "margin": {
         "t": 60
        },
        "template": {
         "data": {
          "bar": [
           {
            "error_x": {
             "color": "#2a3f5f"
            },
            "error_y": {
             "color": "#2a3f5f"
            },
            "marker": {
             "line": {
              "color": "#E5ECF6",
              "width": 0.5
             },
             "pattern": {
              "fillmode": "overlay",
              "size": 10,
              "solidity": 0.2
             }
            },
            "type": "bar"
           }
          ],
          "barpolar": [
           {
            "marker": {
             "line": {
              "color": "#E5ECF6",
              "width": 0.5
             },
             "pattern": {
              "fillmode": "overlay",
              "size": 10,
              "solidity": 0.2
             }
            },
            "type": "barpolar"
           }
          ],
          "carpet": [
           {
            "aaxis": {
             "endlinecolor": "#2a3f5f",
             "gridcolor": "white",
             "linecolor": "white",
             "minorgridcolor": "white",
             "startlinecolor": "#2a3f5f"
            },
            "baxis": {
             "endlinecolor": "#2a3f5f",
             "gridcolor": "white",
             "linecolor": "white",
             "minorgridcolor": "white",
             "startlinecolor": "#2a3f5f"
            },
            "type": "carpet"
           }
          ],
          "choropleth": [
           {
            "colorbar": {
             "outlinewidth": 0,
             "ticks": ""
            },
            "type": "choropleth"
           }
          ],
          "contour": [
           {
            "colorbar": {
             "outlinewidth": 0,
             "ticks": ""
            },
            "colorscale": [
             [
              0,
              "#0d0887"
             ],
             [
              0.1111111111111111,
              "#46039f"
             ],
             [
              0.2222222222222222,
              "#7201a8"
             ],
             [
              0.3333333333333333,
              "#9c179e"
             ],
             [
              0.4444444444444444,
              "#bd3786"
             ],
             [
              0.5555555555555556,
              "#d8576b"
             ],
             [
              0.6666666666666666,
              "#ed7953"
             ],
             [
              0.7777777777777778,
              "#fb9f3a"
             ],
             [
              0.8888888888888888,
              "#fdca26"
             ],
             [
              1,
              "#f0f921"
             ]
            ],
            "type": "contour"
           }
          ],
          "contourcarpet": [
           {
            "colorbar": {
             "outlinewidth": 0,
             "ticks": ""
            },
            "type": "contourcarpet"
           }
          ],
          "heatmap": [
           {
            "colorbar": {
             "outlinewidth": 0,
             "ticks": ""
            },
            "colorscale": [
             [
              0,
              "#0d0887"
             ],
             [
              0.1111111111111111,
              "#46039f"
             ],
             [
              0.2222222222222222,
              "#7201a8"
             ],
             [
              0.3333333333333333,
              "#9c179e"
             ],
             [
              0.4444444444444444,
              "#bd3786"
             ],
             [
              0.5555555555555556,
              "#d8576b"
             ],
             [
              0.6666666666666666,
              "#ed7953"
             ],
             [
              0.7777777777777778,
              "#fb9f3a"
             ],
             [
              0.8888888888888888,
              "#fdca26"
             ],
             [
              1,
              "#f0f921"
             ]
            ],
            "type": "heatmap"
           }
          ],
          "heatmapgl": [
           {
            "colorbar": {
             "outlinewidth": 0,
             "ticks": ""
            },
            "colorscale": [
             [
              0,
              "#0d0887"
             ],
             [
              0.1111111111111111,
              "#46039f"
             ],
             [
              0.2222222222222222,
              "#7201a8"
             ],
             [
              0.3333333333333333,
              "#9c179e"
             ],
             [
              0.4444444444444444,
              "#bd3786"
             ],
             [
              0.5555555555555556,
              "#d8576b"
             ],
             [
              0.6666666666666666,
              "#ed7953"
             ],
             [
              0.7777777777777778,
              "#fb9f3a"
             ],
             [
              0.8888888888888888,
              "#fdca26"
             ],
             [
              1,
              "#f0f921"
             ]
            ],
            "type": "heatmapgl"
           }
          ],
          "histogram": [
           {
            "marker": {
             "pattern": {
              "fillmode": "overlay",
              "size": 10,
              "solidity": 0.2
             }
            },
            "type": "histogram"
           }
          ],
          "histogram2d": [
           {
            "colorbar": {
             "outlinewidth": 0,
             "ticks": ""
            },
            "colorscale": [
             [
              0,
              "#0d0887"
             ],
             [
              0.1111111111111111,
              "#46039f"
             ],
             [
              0.2222222222222222,
              "#7201a8"
             ],
             [
              0.3333333333333333,
              "#9c179e"
             ],
             [
              0.4444444444444444,
              "#bd3786"
             ],
             [
              0.5555555555555556,
              "#d8576b"
             ],
             [
              0.6666666666666666,
              "#ed7953"
             ],
             [
              0.7777777777777778,
              "#fb9f3a"
             ],
             [
              0.8888888888888888,
              "#fdca26"
             ],
             [
              1,
              "#f0f921"
             ]
            ],
            "type": "histogram2d"
           }
          ],
          "histogram2dcontour": [
           {
            "colorbar": {
             "outlinewidth": 0,
             "ticks": ""
            },
            "colorscale": [
             [
              0,
              "#0d0887"
             ],
             [
              0.1111111111111111,
              "#46039f"
             ],
             [
              0.2222222222222222,
              "#7201a8"
             ],
             [
              0.3333333333333333,
              "#9c179e"
             ],
             [
              0.4444444444444444,
              "#bd3786"
             ],
             [
              0.5555555555555556,
              "#d8576b"
             ],
             [
              0.6666666666666666,
              "#ed7953"
             ],
             [
              0.7777777777777778,
              "#fb9f3a"
             ],
             [
              0.8888888888888888,
              "#fdca26"
             ],
             [
              1,
              "#f0f921"
             ]
            ],
            "type": "histogram2dcontour"
           }
          ],
          "mesh3d": [
           {
            "colorbar": {
             "outlinewidth": 0,
             "ticks": ""
            },
            "type": "mesh3d"
           }
          ],
          "parcoords": [
           {
            "line": {
             "colorbar": {
              "outlinewidth": 0,
              "ticks": ""
             }
            },
            "type": "parcoords"
           }
          ],
          "pie": [
           {
            "automargin": true,
            "type": "pie"
           }
          ],
          "scatter": [
           {
            "fillpattern": {
             "fillmode": "overlay",
             "size": 10,
             "solidity": 0.2
            },
            "type": "scatter"
           }
          ],
          "scatter3d": [
           {
            "line": {
             "colorbar": {
              "outlinewidth": 0,
              "ticks": ""
             }
            },
            "marker": {
             "colorbar": {
              "outlinewidth": 0,
              "ticks": ""
             }
            },
            "type": "scatter3d"
           }
          ],
          "scattercarpet": [
           {
            "marker": {
             "colorbar": {
              "outlinewidth": 0,
              "ticks": ""
             }
            },
            "type": "scattercarpet"
           }
          ],
          "scattergeo": [
           {
            "marker": {
             "colorbar": {
              "outlinewidth": 0,
              "ticks": ""
             }
            },
            "type": "scattergeo"
           }
          ],
          "scattergl": [
           {
            "marker": {
             "colorbar": {
              "outlinewidth": 0,
              "ticks": ""
             }
            },
            "type": "scattergl"
           }
          ],
          "scattermapbox": [
           {
            "marker": {
             "colorbar": {
              "outlinewidth": 0,
              "ticks": ""
             }
            },
            "type": "scattermapbox"
           }
          ],
          "scatterpolar": [
           {
            "marker": {
             "colorbar": {
              "outlinewidth": 0,
              "ticks": ""
             }
            },
            "type": "scatterpolar"
           }
          ],
          "scatterpolargl": [
           {
            "marker": {
             "colorbar": {
              "outlinewidth": 0,
              "ticks": ""
             }
            },
            "type": "scatterpolargl"
           }
          ],
          "scatterternary": [
           {
            "marker": {
             "colorbar": {
              "outlinewidth": 0,
              "ticks": ""
             }
            },
            "type": "scatterternary"
           }
          ],
          "surface": [
           {
            "colorbar": {
             "outlinewidth": 0,
             "ticks": ""
            },
            "colorscale": [
             [
              0,
              "#0d0887"
             ],
             [
              0.1111111111111111,
              "#46039f"
             ],
             [
              0.2222222222222222,
              "#7201a8"
             ],
             [
              0.3333333333333333,
              "#9c179e"
             ],
             [
              0.4444444444444444,
              "#bd3786"
             ],
             [
              0.5555555555555556,
              "#d8576b"
             ],
             [
              0.6666666666666666,
              "#ed7953"
             ],
             [
              0.7777777777777778,
              "#fb9f3a"
             ],
             [
              0.8888888888888888,
              "#fdca26"
             ],
             [
              1,
              "#f0f921"
             ]
            ],
            "type": "surface"
           }
          ],
          "table": [
           {
            "cells": {
             "fill": {
              "color": "#EBF0F8"
             },
             "line": {
              "color": "white"
             }
            },
            "header": {
             "fill": {
              "color": "#C8D4E3"
             },
             "line": {
              "color": "white"
             }
            },
            "type": "table"
           }
          ]
         },
         "layout": {
          "annotationdefaults": {
           "arrowcolor": "#2a3f5f",
           "arrowhead": 0,
           "arrowwidth": 1
          },
          "autotypenumbers": "strict",
          "coloraxis": {
           "colorbar": {
            "outlinewidth": 0,
            "ticks": ""
           }
          },
          "colorscale": {
           "diverging": [
            [
             0,
             "#8e0152"
            ],
            [
             0.1,
             "#c51b7d"
            ],
            [
             0.2,
             "#de77ae"
            ],
            [
             0.3,
             "#f1b6da"
            ],
            [
             0.4,
             "#fde0ef"
            ],
            [
             0.5,
             "#f7f7f7"
            ],
            [
             0.6,
             "#e6f5d0"
            ],
            [
             0.7,
             "#b8e186"
            ],
            [
             0.8,
             "#7fbc41"
            ],
            [
             0.9,
             "#4d9221"
            ],
            [
             1,
             "#276419"
            ]
           ],
           "sequential": [
            [
             0,
             "#0d0887"
            ],
            [
             0.1111111111111111,
             "#46039f"
            ],
            [
             0.2222222222222222,
             "#7201a8"
            ],
            [
             0.3333333333333333,
             "#9c179e"
            ],
            [
             0.4444444444444444,
             "#bd3786"
            ],
            [
             0.5555555555555556,
             "#d8576b"
            ],
            [
             0.6666666666666666,
             "#ed7953"
            ],
            [
             0.7777777777777778,
             "#fb9f3a"
            ],
            [
             0.8888888888888888,
             "#fdca26"
            ],
            [
             1,
             "#f0f921"
            ]
           ],
           "sequentialminus": [
            [
             0,
             "#0d0887"
            ],
            [
             0.1111111111111111,
             "#46039f"
            ],
            [
             0.2222222222222222,
             "#7201a8"
            ],
            [
             0.3333333333333333,
             "#9c179e"
            ],
            [
             0.4444444444444444,
             "#bd3786"
            ],
            [
             0.5555555555555556,
             "#d8576b"
            ],
            [
             0.6666666666666666,
             "#ed7953"
            ],
            [
             0.7777777777777778,
             "#fb9f3a"
            ],
            [
             0.8888888888888888,
             "#fdca26"
            ],
            [
             1,
             "#f0f921"
            ]
           ]
          },
          "colorway": [
           "#636efa",
           "#EF553B",
           "#00cc96",
           "#ab63fa",
           "#FFA15A",
           "#19d3f3",
           "#FF6692",
           "#B6E880",
           "#FF97FF",
           "#FECB52"
          ],
          "font": {
           "color": "#2a3f5f"
          },
          "geo": {
           "bgcolor": "white",
           "lakecolor": "white",
           "landcolor": "#E5ECF6",
           "showlakes": true,
           "showland": true,
           "subunitcolor": "white"
          },
          "hoverlabel": {
           "align": "left"
          },
          "hovermode": "closest",
          "mapbox": {
           "style": "light"
          },
          "paper_bgcolor": "white",
          "plot_bgcolor": "#E5ECF6",
          "polar": {
           "angularaxis": {
            "gridcolor": "white",
            "linecolor": "white",
            "ticks": ""
           },
           "bgcolor": "#E5ECF6",
           "radialaxis": {
            "gridcolor": "white",
            "linecolor": "white",
            "ticks": ""
           }
          },
          "scene": {
           "xaxis": {
            "backgroundcolor": "#E5ECF6",
            "gridcolor": "white",
            "gridwidth": 2,
            "linecolor": "white",
            "showbackground": true,
            "ticks": "",
            "zerolinecolor": "white"
           },
           "yaxis": {
            "backgroundcolor": "#E5ECF6",
            "gridcolor": "white",
            "gridwidth": 2,
            "linecolor": "white",
            "showbackground": true,
            "ticks": "",
            "zerolinecolor": "white"
           },
           "zaxis": {
            "backgroundcolor": "#E5ECF6",
            "gridcolor": "white",
            "gridwidth": 2,
            "linecolor": "white",
            "showbackground": true,
            "ticks": "",
            "zerolinecolor": "white"
           }
          },
          "shapedefaults": {
           "line": {
            "color": "#2a3f5f"
           }
          },
          "ternary": {
           "aaxis": {
            "gridcolor": "white",
            "linecolor": "white",
            "ticks": ""
           },
           "baxis": {
            "gridcolor": "white",
            "linecolor": "white",
            "ticks": ""
           },
           "bgcolor": "#E5ECF6",
           "caxis": {
            "gridcolor": "white",
            "linecolor": "white",
            "ticks": ""
           }
          },
          "title": {
           "x": 0.05
          },
          "xaxis": {
           "automargin": true,
           "gridcolor": "white",
           "linecolor": "white",
           "ticks": "",
           "title": {
            "standoff": 15
           },
           "zerolinecolor": "white",
           "zerolinewidth": 2
          },
          "yaxis": {
           "automargin": true,
           "gridcolor": "white",
           "linecolor": "white",
           "ticks": "",
           "title": {
            "standoff": 15
           },
           "zerolinecolor": "white",
           "zerolinewidth": 2
          }
         }
        },
        "xaxis": {
         "anchor": "y",
         "domain": [
          0,
          1
         ],
         "title": {
          "text": "Date"
         }
        },
        "yaxis": {
         "anchor": "x",
         "domain": [
          0,
          1
         ],
         "title": {
          "text": "Close"
         }
        }
       }
      }
     },
     "metadata": {},
     "output_type": "display_data"
    }
   ],
   "source": [
    "# Plotting the test and prediction dataframe\n",
    "fig = px.line(df_pred_test, labels={\"value\": \"Close\"})\n",
    "fig.show();"
   ]
  },
  {
   "cell_type": "code",
   "execution_count": 29,
   "id": "1a232a81",
   "metadata": {},
   "outputs": [
    {
     "name": "stdout",
     "output_type": "stream",
     "text": [
      "Today's close: [117249.79885828]\n"
     ]
    }
   ],
   "source": [
    "# Predicting the the closing price for today, 12th July, 2025 \n",
    "# using the closing price of yesterday, 117516.99\n",
    "\n",
    "todays_close = model.predict([[117516.99]])\n",
    "print(\"Today's close:\", todays_close)"
   ]
  },
  {
   "cell_type": "code",
   "execution_count": 30,
   "id": "b0be6f50",
   "metadata": {},
   "outputs": [],
   "source": [
    "# Saving the model\n",
    "with open(\"linear_btc_model.pkl\", \"wb\") as f:\n",
    "    pickle.dump(model, f)"
   ]
  },
  {
   "cell_type": "code",
   "execution_count": 31,
   "id": "f4d45022",
   "metadata": {},
   "outputs": [],
   "source": [
    "# Loading the model\n",
    "with open(\"linear_btc_model.pkl\", \"rb\") as f:\n",
    "    lr_model = pickle.load(f)"
   ]
  },
  {
   "cell_type": "code",
   "execution_count": 33,
   "id": "1458d3d7",
   "metadata": {},
   "outputs": [
    {
     "name": "stdout",
     "output_type": "stream",
     "text": [
      "Today's close: [117249.79885828]\n",
      "Random close: [117105.82185197]\n"
     ]
    }
   ],
   "source": [
    "# testing the loaded model\n",
    "todays_close = model.predict([[117516.99]])\n",
    "random_close = lr_model.predict([[117372.60]])\n",
    "\n",
    "print(\"Today's close:\", todays_close)\n",
    "print(\"Random close:\", random_close)"
   ]
  }
 ],
 "metadata": {
  "kernelspec": {
   "display_name": "tfenv",
   "language": "python",
   "name": "python3"
  },
  "language_info": {
   "codemirror_mode": {
    "name": "ipython",
    "version": 3
   },
   "file_extension": ".py",
   "mimetype": "text/x-python",
   "name": "python",
   "nbconvert_exporter": "python",
   "pygments_lexer": "ipython3",
   "version": "3.9.17"
  }
 },
 "nbformat": 4,
 "nbformat_minor": 5
}
