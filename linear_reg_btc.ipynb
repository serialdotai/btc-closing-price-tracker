{
 "cells": [
  {
   "cell_type": "code",
   "execution_count": 2,
   "id": "2d7509a4",
   "metadata": {},
   "outputs": [],
   "source": [
    "# Importations\n",
    "import pandas as pd\n",
    "import matplotlib.pyplot as plt\n",
    "import plotly.express as px\n",
    "import warnings\n",
    "from sklearn.linear_model import LinearRegression\n",
    "from sklearn.metrics import mean_absolute_error\n",
    "\n",
    "warnings.filterwarnings(\"ignore\")"
   ]
  },
  {
   "cell_type": "code",
   "execution_count": null,
   "id": "db78d27d",
   "metadata": {},
   "outputs": [
    {
     "data": {
      "text/html": [
       "<div>\n",
       "<style scoped>\n",
       "    .dataframe tbody tr th:only-of-type {\n",
       "        vertical-align: middle;\n",
       "    }\n",
       "\n",
       "    .dataframe tbody tr th {\n",
       "        vertical-align: top;\n",
       "    }\n",
       "\n",
       "    .dataframe thead th {\n",
       "        text-align: right;\n",
       "    }\n",
       "</style>\n",
       "<table border=\"1\" class=\"dataframe\">\n",
       "  <thead>\n",
       "    <tr style=\"text-align: right;\">\n",
       "      <th></th>\n",
       "      <th>Date</th>\n",
       "      <th>Close</th>\n",
       "      <th>High</th>\n",
       "      <th>Low</th>\n",
       "      <th>Open</th>\n",
       "      <th>Volume</th>\n",
       "    </tr>\n",
       "  </thead>\n",
       "  <tbody>\n",
       "    <tr>\n",
       "      <th>0</th>\n",
       "      <td>2020-07-01</td>\n",
       "      <td>9228.325195</td>\n",
       "      <td>9309.754883</td>\n",
       "      <td>9104.735352</td>\n",
       "      <td>9145.985352</td>\n",
       "      <td>15971550355</td>\n",
       "    </tr>\n",
       "    <tr>\n",
       "      <th>1</th>\n",
       "      <td>2020-07-02</td>\n",
       "      <td>9123.410156</td>\n",
       "      <td>9274.962891</td>\n",
       "      <td>9036.623047</td>\n",
       "      <td>9231.139648</td>\n",
       "      <td>16338916796</td>\n",
       "    </tr>\n",
       "    <tr>\n",
       "      <th>2</th>\n",
       "      <td>2020-07-03</td>\n",
       "      <td>9087.303711</td>\n",
       "      <td>9202.344727</td>\n",
       "      <td>9058.794922</td>\n",
       "      <td>9124.842773</td>\n",
       "      <td>13078970999</td>\n",
       "    </tr>\n",
       "    <tr>\n",
       "      <th>3</th>\n",
       "      <td>2020-07-04</td>\n",
       "      <td>9132.488281</td>\n",
       "      <td>9183.295898</td>\n",
       "      <td>9053.629883</td>\n",
       "      <td>9084.233398</td>\n",
       "      <td>12290528515</td>\n",
       "    </tr>\n",
       "    <tr>\n",
       "      <th>4</th>\n",
       "      <td>2020-07-05</td>\n",
       "      <td>9073.942383</td>\n",
       "      <td>9162.183594</td>\n",
       "      <td>8977.015625</td>\n",
       "      <td>9126.090820</td>\n",
       "      <td>12903406143</td>\n",
       "    </tr>\n",
       "  </tbody>\n",
       "</table>\n",
       "</div>"
      ],
      "text/plain": [
       "         Date        Close         High          Low         Open       Volume\n",
       "0  2020-07-01  9228.325195  9309.754883  9104.735352  9145.985352  15971550355\n",
       "1  2020-07-02  9123.410156  9274.962891  9036.623047  9231.139648  16338916796\n",
       "2  2020-07-03  9087.303711  9202.344727  9058.794922  9124.842773  13078970999\n",
       "3  2020-07-04  9132.488281  9183.295898  9053.629883  9084.233398  12290528515\n",
       "4  2020-07-05  9073.942383  9162.183594  8977.015625  9126.090820  12903406143"
      ]
     },
     "execution_count": 3,
     "metadata": {},
     "output_type": "execute_result"
    }
   ],
   "source": [
    "# Loading the btc data\n",
    "df = pd.read_csv(\"btc_data.csv\")\n",
    "df.head()"
   ]
  },
  {
   "cell_type": "code",
   "execution_count": null,
   "id": "2afaed8b",
   "metadata": {},
   "outputs": [
    {
     "data": {
      "text/html": [
       "<div>\n",
       "<style scoped>\n",
       "    .dataframe tbody tr th:only-of-type {\n",
       "        vertical-align: middle;\n",
       "    }\n",
       "\n",
       "    .dataframe tbody tr th {\n",
       "        vertical-align: top;\n",
       "    }\n",
       "\n",
       "    .dataframe thead th {\n",
       "        text-align: right;\n",
       "    }\n",
       "</style>\n",
       "<table border=\"1\" class=\"dataframe\">\n",
       "  <thead>\n",
       "    <tr style=\"text-align: right;\">\n",
       "      <th></th>\n",
       "      <th>Close</th>\n",
       "      <th>High</th>\n",
       "      <th>Low</th>\n",
       "      <th>Open</th>\n",
       "      <th>Volume</th>\n",
       "    </tr>\n",
       "    <tr>\n",
       "      <th>Date</th>\n",
       "      <th></th>\n",
       "      <th></th>\n",
       "      <th></th>\n",
       "      <th></th>\n",
       "      <th></th>\n",
       "    </tr>\n",
       "  </thead>\n",
       "  <tbody>\n",
       "    <tr>\n",
       "      <th>2020-07-01</th>\n",
       "      <td>9228.325195</td>\n",
       "      <td>9309.754883</td>\n",
       "      <td>9104.735352</td>\n",
       "      <td>9145.985352</td>\n",
       "      <td>15971550355</td>\n",
       "    </tr>\n",
       "    <tr>\n",
       "      <th>2020-07-02</th>\n",
       "      <td>9123.410156</td>\n",
       "      <td>9274.962891</td>\n",
       "      <td>9036.623047</td>\n",
       "      <td>9231.139648</td>\n",
       "      <td>16338916796</td>\n",
       "    </tr>\n",
       "    <tr>\n",
       "      <th>2020-07-03</th>\n",
       "      <td>9087.303711</td>\n",
       "      <td>9202.344727</td>\n",
       "      <td>9058.794922</td>\n",
       "      <td>9124.842773</td>\n",
       "      <td>13078970999</td>\n",
       "    </tr>\n",
       "    <tr>\n",
       "      <th>2020-07-04</th>\n",
       "      <td>9132.488281</td>\n",
       "      <td>9183.295898</td>\n",
       "      <td>9053.629883</td>\n",
       "      <td>9084.233398</td>\n",
       "      <td>12290528515</td>\n",
       "    </tr>\n",
       "    <tr>\n",
       "      <th>2020-07-05</th>\n",
       "      <td>9073.942383</td>\n",
       "      <td>9162.183594</td>\n",
       "      <td>8977.015625</td>\n",
       "      <td>9126.090820</td>\n",
       "      <td>12903406143</td>\n",
       "    </tr>\n",
       "  </tbody>\n",
       "</table>\n",
       "</div>"
      ],
      "text/plain": [
       "                  Close         High          Low         Open       Volume\n",
       "Date                                                                       \n",
       "2020-07-01  9228.325195  9309.754883  9104.735352  9145.985352  15971550355\n",
       "2020-07-02  9123.410156  9274.962891  9036.623047  9231.139648  16338916796\n",
       "2020-07-03  9087.303711  9202.344727  9058.794922  9124.842773  13078970999\n",
       "2020-07-04  9132.488281  9183.295898  9053.629883  9084.233398  12290528515\n",
       "2020-07-05  9073.942383  9162.183594  8977.015625  9126.090820  12903406143"
      ]
     },
     "execution_count": 5,
     "metadata": {},
     "output_type": "execute_result"
    }
   ],
   "source": [
    "# Setting the index to date\n",
    "df.set_index(\"Date\", inplace=True)\n",
    "df.head()"
   ]
  },
  {
   "cell_type": "code",
   "execution_count": null,
   "id": "02edd82c",
   "metadata": {},
   "outputs": [
    {
     "data": {
      "text/plain": [
       "Index(['2020-07-01', '2020-07-02', '2020-07-03', '2020-07-04', '2020-07-05',\n",
       "       '2020-07-06', '2020-07-07', '2020-07-08', '2020-07-09', '2020-07-10',\n",
       "       ...\n",
       "       '2025-07-01', '2025-07-02', '2025-07-03', '2025-07-04', '2025-07-05',\n",
       "       '2025-07-06', '2025-07-07', '2025-07-08', '2025-07-09', '2025-07-10'],\n",
       "      dtype='object', name='Date', length=1836)"
      ]
     },
     "execution_count": 6,
     "metadata": {},
     "output_type": "execute_result"
    }
   ],
   "source": [
    "# Want to check the index type\n",
    "df.index"
   ]
  },
  {
   "cell_type": "code",
   "execution_count": null,
   "id": "9863c80d",
   "metadata": {},
   "outputs": [
    {
     "data": {
      "text/plain": [
       "DatetimeIndex(['2020-07-01', '2020-07-02', '2020-07-03', '2020-07-04',\n",
       "               '2020-07-05', '2020-07-06', '2020-07-07', '2020-07-08',\n",
       "               '2020-07-09', '2020-07-10',\n",
       "               ...\n",
       "               '2025-07-01', '2025-07-02', '2025-07-03', '2025-07-04',\n",
       "               '2025-07-05', '2025-07-06', '2025-07-07', '2025-07-08',\n",
       "               '2025-07-09', '2025-07-10'],\n",
       "              dtype='datetime64[ns]', name='Date', length=1836, freq=None)"
      ]
     },
     "execution_count": 7,
     "metadata": {},
     "output_type": "execute_result"
    }
   ],
   "source": [
    "# Setting the index type from 'object' to 'datetime'\n",
    "df.index = pd.to_datetime(df.index)\n",
    "df.index"
   ]
  },
  {
   "cell_type": "code",
   "execution_count": 8,
   "id": "4e76abe3",
   "metadata": {},
   "outputs": [
    {
     "data": {
      "text/plain": [
       "DatetimeIndex(['2020-06-30 17:00:00-07:00', '2020-07-01 17:00:00-07:00',\n",
       "               '2020-07-02 17:00:00-07:00', '2020-07-03 17:00:00-07:00',\n",
       "               '2020-07-04 17:00:00-07:00', '2020-07-05 17:00:00-07:00',\n",
       "               '2020-07-06 17:00:00-07:00', '2020-07-07 17:00:00-07:00',\n",
       "               '2020-07-08 17:00:00-07:00', '2020-07-09 17:00:00-07:00',\n",
       "               ...\n",
       "               '2025-06-30 17:00:00-07:00', '2025-07-01 17:00:00-07:00',\n",
       "               '2025-07-02 17:00:00-07:00', '2025-07-03 17:00:00-07:00',\n",
       "               '2025-07-04 17:00:00-07:00', '2025-07-05 17:00:00-07:00',\n",
       "               '2025-07-06 17:00:00-07:00', '2025-07-07 17:00:00-07:00',\n",
       "               '2025-07-08 17:00:00-07:00', '2025-07-09 17:00:00-07:00'],\n",
       "              dtype='datetime64[ns, America/Los_Angeles]', name='Date', length=1836, freq=None)"
      ]
     },
     "execution_count": 8,
     "metadata": {},
     "output_type": "execute_result"
    }
   ],
   "source": [
    "# Localising the index\n",
    "df.index = df.index.tz_localize(\"UTC\").tz_convert(\"America/Los_Angeles\")\n",
    "df.index"
   ]
  },
  {
   "cell_type": "code",
   "execution_count": 9,
   "id": "23213ff7",
   "metadata": {},
   "outputs": [
    {
     "data": {
      "text/html": [
       "<div>\n",
       "<style scoped>\n",
       "    .dataframe tbody tr th:only-of-type {\n",
       "        vertical-align: middle;\n",
       "    }\n",
       "\n",
       "    .dataframe tbody tr th {\n",
       "        vertical-align: top;\n",
       "    }\n",
       "\n",
       "    .dataframe thead th {\n",
       "        text-align: right;\n",
       "    }\n",
       "</style>\n",
       "<table border=\"1\" class=\"dataframe\">\n",
       "  <thead>\n",
       "    <tr style=\"text-align: right;\">\n",
       "      <th></th>\n",
       "      <th>Close</th>\n",
       "      <th>High</th>\n",
       "      <th>Low</th>\n",
       "      <th>Open</th>\n",
       "      <th>Volume</th>\n",
       "    </tr>\n",
       "    <tr>\n",
       "      <th>Date</th>\n",
       "      <th></th>\n",
       "      <th></th>\n",
       "      <th></th>\n",
       "      <th></th>\n",
       "      <th></th>\n",
       "    </tr>\n",
       "  </thead>\n",
       "  <tbody>\n",
       "    <tr>\n",
       "      <th>2020-06-30 17:00:00-07:00</th>\n",
       "      <td>9228.325195</td>\n",
       "      <td>9309.754883</td>\n",
       "      <td>9104.735352</td>\n",
       "      <td>9145.985352</td>\n",
       "      <td>15971550355</td>\n",
       "    </tr>\n",
       "    <tr>\n",
       "      <th>2020-07-01 17:00:00-07:00</th>\n",
       "      <td>9123.410156</td>\n",
       "      <td>9274.962891</td>\n",
       "      <td>9036.623047</td>\n",
       "      <td>9231.139648</td>\n",
       "      <td>16338916796</td>\n",
       "    </tr>\n",
       "    <tr>\n",
       "      <th>2020-07-02 17:00:00-07:00</th>\n",
       "      <td>9087.303711</td>\n",
       "      <td>9202.344727</td>\n",
       "      <td>9058.794922</td>\n",
       "      <td>9124.842773</td>\n",
       "      <td>13078970999</td>\n",
       "    </tr>\n",
       "    <tr>\n",
       "      <th>2020-07-03 17:00:00-07:00</th>\n",
       "      <td>9132.488281</td>\n",
       "      <td>9183.295898</td>\n",
       "      <td>9053.629883</td>\n",
       "      <td>9084.233398</td>\n",
       "      <td>12290528515</td>\n",
       "    </tr>\n",
       "    <tr>\n",
       "      <th>2020-07-04 17:00:00-07:00</th>\n",
       "      <td>9073.942383</td>\n",
       "      <td>9162.183594</td>\n",
       "      <td>8977.015625</td>\n",
       "      <td>9126.090820</td>\n",
       "      <td>12903406143</td>\n",
       "    </tr>\n",
       "  </tbody>\n",
       "</table>\n",
       "</div>"
      ],
      "text/plain": [
       "                                 Close         High          Low         Open  \\\n",
       "Date                                                                            \n",
       "2020-06-30 17:00:00-07:00  9228.325195  9309.754883  9104.735352  9145.985352   \n",
       "2020-07-01 17:00:00-07:00  9123.410156  9274.962891  9036.623047  9231.139648   \n",
       "2020-07-02 17:00:00-07:00  9087.303711  9202.344727  9058.794922  9124.842773   \n",
       "2020-07-03 17:00:00-07:00  9132.488281  9183.295898  9053.629883  9084.233398   \n",
       "2020-07-04 17:00:00-07:00  9073.942383  9162.183594  8977.015625  9126.090820   \n",
       "\n",
       "                                Volume  \n",
       "Date                                    \n",
       "2020-06-30 17:00:00-07:00  15971550355  \n",
       "2020-07-01 17:00:00-07:00  16338916796  \n",
       "2020-07-02 17:00:00-07:00  13078970999  \n",
       "2020-07-03 17:00:00-07:00  12290528515  \n",
       "2020-07-04 17:00:00-07:00  12903406143  "
      ]
     },
     "execution_count": 9,
     "metadata": {},
     "output_type": "execute_result"
    }
   ],
   "source": [
    "df.head()"
   ]
  },
  {
   "cell_type": "code",
   "execution_count": null,
   "id": "01fcf3ca",
   "metadata": {},
   "outputs": [],
   "source": [
    "# Dropping the columns we wont be using\n",
    "df.drop(columns=[\"High\", \"Low\", \"Open\", \"Volume\"], inplace=True)\n",
    "df.head()"
   ]
  },
  {
   "cell_type": "code",
   "execution_count": 15,
   "id": "1c77a3ea",
   "metadata": {},
   "outputs": [
    {
     "data": {
      "text/plain": [
       "(1836, 1)"
      ]
     },
     "execution_count": 15,
     "metadata": {},
     "output_type": "execute_result"
    }
   ],
   "source": [
    "df.shape"
   ]
  },
  {
   "cell_type": "code",
   "execution_count": 17,
   "id": "498b649c",
   "metadata": {},
   "outputs": [
    {
     "data": {
      "image/png": "[encoded data removed]",
      "text/plain": [
       "<Figure size 1500x600 with 1 Axes>"
      ]
     },
     "metadata": {},
     "output_type": "display_data"
    }
   ],
   "source": [
    "# Visualizing the distribution of closing price\n",
    "fig, ax = plt.subplots(figsize=(15, 6))\n",
    "df[\"Close\"].plot(\n",
    "    kind=\"box\",\n",
    "    vert=False,\n",
    "    title=\"Distribution of BTC Closing Price\",\n",
    "    ax=ax);"
   ]
  },
  {
   "cell_type": "code",
   "execution_count": null,
   "id": "28168afa",
   "metadata": {},
   "outputs": [],
   "source": []
  }
 ],
 "metadata": {
  "kernelspec": {
   "display_name": "tfenv",
   "language": "python",
   "name": "python3"
  },
  "language_info": {
   "codemirror_mode": {
    "name": "ipython",
    "version": 3
   },
   "file_extension": ".py",
   "mimetype": "text/x-python",
   "name": "python",
   "nbconvert_exporter": "python",
   "pygments_lexer": "ipython3",
   "version": "3.9.17"
  }
 },
 "nbformat": 4,
 "nbformat_minor": 5
}
